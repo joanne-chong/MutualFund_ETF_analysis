{
 "cells": [
  {
   "cell_type": "markdown",
   "id": "f3af7087",
   "metadata": {},
   "source": [
    "# Mutual Fund & ETFs Analysis\n",
    "---"
   ]
  },
  {
   "cell_type": "markdown",
   "id": "fb248a76",
   "metadata": {},
   "source": [
    "# Part 6 - Modeling - ETF Alpha"
   ]
  },
  {
   "cell_type": "markdown",
   "id": "61090c38",
   "metadata": {},
   "source": [
    "For this model, we'll be predicting ETF 3-year alpha average using the selected features from previous notebook. "
   ]
  },
  {
   "cell_type": "markdown",
   "id": "df801133",
   "metadata": {},
   "source": [
    "## Content\n",
    "\n",
    "1. [Model Preparation](#Model-Preparation)\n",
    "2. [Cross Validation](#Cross-Validation)\n",
    "3. [Modeling](#Modeling)\n",
    "4. [Result](#Result)\n",
    "5. [Tuning](#Tuning)"
   ]
  },
  {
   "cell_type": "markdown",
   "id": "021cf2e9",
   "metadata": {},
   "source": [
    "## Links to Other Notebooks\n",
    "\n",
    "- [Part 1: Data Cleaning](Part_1_Cleaning.ipynb)\n",
    "- [Part 2: Exploratory Data Analysis](Part_2_EDA.ipynb)\n",
    "- [Part 3: Modeling: Mutual Fund v1](Part_3_Modeling_MF_v1.ipynb) - Mutual Fund Prediction of fund returns\n",
    "- [Part 4: Modeling: Mutual Fund v2](Part_4_Modeling_MF_v2.ipynb) - Mutual Fund Prediction of alpha\n",
    "- [Part 5: Modeling: ETFs v1](Part_5_Modeling_ETF_v1.ipynb) - ETF Prediction of fund returns\n",
    "- [Part 7: Evaluation & Conclusion](Part_7_Conclusion.ipynb)"
   ]
  },
  {
   "cell_type": "markdown",
   "id": "9422a75e",
   "metadata": {},
   "source": [
    "### Libraries"
   ]
  },
  {
   "cell_type": "code",
   "execution_count": 1,
   "id": "68ce6936",
   "metadata": {},
   "outputs": [],
   "source": [
    "import numpy as np\n",
    "import scipy.stats as stats\n",
    "import matplotlib.pyplot as plt\n",
    "%matplotlib inline\n",
    "import pandas as pd\n",
    "import statistics\n",
    "import seaborn as sns\n",
    "\n",
    "from sklearn.linear_model import LinearRegression, LassoCV, RidgeCV, Lasso, Ridge\n",
    "from sklearn.metrics import mean_squared_error, r2_score\n",
    "from sklearn.model_selection import train_test_split, cross_val_score, GridSearchCV\n",
    "from sklearn.neighbors import KNeighborsRegressor\n",
    "from sklearn.tree import DecisionTreeRegressor\n",
    "from sklearn.ensemble import BaggingRegressor, RandomForestRegressor, AdaBoostRegressor, GradientBoostingRegressor\n",
    "from sklearn.svm import SVR\n",
    "from sklearn.preprocessing import StandardScaler\n",
    "\n",
    "#Ignore warnings\n",
    "import warnings\n",
    "warnings.filterwarnings(\"ignore\")\n",
    "\n",
    "# set display options\n",
    "pd.set_option(\"display.max_rows\", 200)\n",
    "pd.set_option(\"display.max_columns\", 300)"
   ]
  },
  {
   "cell_type": "markdown",
   "id": "4fa148cd",
   "metadata": {},
   "source": [
    "### Load datasets"
   ]
  },
  {
   "cell_type": "code",
   "execution_count": 2,
   "id": "6c58f848",
   "metadata": {},
   "outputs": [],
   "source": [
    "etf = pd.read_csv('../datasets/etf_processed.csv')"
   ]
  },
  {
   "cell_type": "markdown",
   "id": "fe44f58f",
   "metadata": {},
   "source": [
    "## Model Preparation"
   ]
  },
  {
   "cell_type": "markdown",
   "id": "07d4f429",
   "metadata": {},
   "source": [
    "First, we'll set our X and y, and split the data using test size 20%. We'll scale data using StandardScaler as some of the columns were not normally distributed. \n",
    "\n",
    "We'll generate predictions using:\n",
    "- **Supervised learning**: Linear regression, Lasso regression, Ridge regression\n",
    "- **Clustering**: KNeighbors regressor\n",
    "- **Ensemble learning**: Decision tree, Bagged tree, Random Forest, Adaptive Boosting, Support Vector, Gradient Boosting"
   ]
  },
  {
   "cell_type": "code",
   "execution_count": 3,
   "id": "fd75a115",
   "metadata": {},
   "outputs": [],
   "source": [
    "X = etf.drop(columns=['fund_alpha_3years', 'fund_return_ytd'])\n",
    "y = etf['fund_alpha_3years']"
   ]
  },
  {
   "cell_type": "code",
   "execution_count": 4,
   "id": "8a0c349a",
   "metadata": {},
   "outputs": [],
   "source": [
    "X_train, X_test, y_train, y_test = train_test_split(X, y, test_size=0.2, random_state=10)"
   ]
  },
  {
   "cell_type": "code",
   "execution_count": 5,
   "id": "12c8a55e",
   "metadata": {},
   "outputs": [],
   "source": [
    "# Scaling the dataset\n",
    "\n",
    "ss = StandardScaler()\n",
    "ss.fit(X_train)\n",
    "\n",
    "X_train_sc = ss.transform(X_train)\n",
    "X_test_sc = ss.transform(X_test)"
   ]
  },
  {
   "cell_type": "code",
   "execution_count": 6,
   "id": "76d3c887",
   "metadata": {},
   "outputs": [],
   "source": [
    "# Instantiate models\n",
    "\n",
    "lr = LinearRegression()\n",
    "lasso = LassoCV(n_alphas=100)\n",
    "ridge = RidgeCV(alphas=np.linspace(1, 200, 100))\n",
    "knn = KNeighborsRegressor()\n",
    "decision_tree = DecisionTreeRegressor()\n",
    "bagged = BaggingRegressor()\n",
    "random_forest = RandomForestRegressor()\n",
    "adaboost = AdaBoostRegressor()\n",
    "support_vector = SVR()\n",
    "gradient_boost = GradientBoostingRegressor()"
   ]
  },
  {
   "cell_type": "markdown",
   "id": "1111daf4",
   "metadata": {},
   "source": [
    "## Cross Validation"
   ]
  },
  {
   "cell_type": "markdown",
   "id": "b4d10abd",
   "metadata": {},
   "source": [
    "Before we can build our models, we'll first need to ensure our models are reliable. We'll use the cross-validation technique to train several machine learning models on subsets of the dataset and evaluate them for any signs of overfitting."
   ]
  },
  {
   "cell_type": "code",
   "execution_count": 7,
   "id": "40da3b31",
   "metadata": {},
   "outputs": [
    {
     "name": "stdout",
     "output_type": "stream",
     "text": [
      "Linear Regression R2 cross-validation score: 0.17704521226467598\n",
      "Linear regression RSME cross-validation score:' 5.065165486619282\n"
     ]
    }
   ],
   "source": [
    "# Testing linear regression model\n",
    "\n",
    "lr_cv_scores = cross_val_score(lr, X_train_sc, y_train, cv=5)\n",
    "lr_cv_mean = lr_cv_scores.mean()\n",
    "print(f\"Linear Regression R2 cross-validation score: {lr_cv_mean}\")\n",
    "      \n",
    "lr_cv_mse_scores = -cross_val_score(lr,X_train_sc, y_train,cv=5, scoring ='neg_mean_squared_error')\n",
    "lr_cv_rmse_mean = np.sqrt(lr_cv_mse_scores.mean())\n",
    "print(f\"Linear regression RSME cross-validation score:' {lr_cv_rmse_mean}\")"
   ]
  },
  {
   "cell_type": "code",
   "execution_count": 8,
   "id": "9c51d6a6",
   "metadata": {},
   "outputs": [
    {
     "name": "stdout",
     "output_type": "stream",
     "text": [
      "Lasso R2 cross-validation score: 0.2186965037639365\n",
      "Lasso RSME cross-validation score: 4.985857558557398\n"
     ]
    }
   ],
   "source": [
    "# Testing lasso model \n",
    "\n",
    "lasso_cv_scores = cross_val_score(lasso, X_train_sc, y_train, cv=5)\n",
    "lasso_cv_mean = lasso_cv_scores.mean()\n",
    "print(f\"Lasso R2 cross-validation score: {lasso_cv_mean}\")\n",
    "\n",
    "lasso_cv_mse_scores = -cross_val_score(lasso,X_train_sc, y_train,cv=5, scoring ='neg_mean_squared_error')\n",
    "lasso_cv_rmse_mean = np.sqrt(lasso_cv_mse_scores.mean())\n",
    "print(f\"Lasso RSME cross-validation score: {lasso_cv_rmse_mean}\")"
   ]
  },
  {
   "cell_type": "code",
   "execution_count": 9,
   "id": "695cdca5",
   "metadata": {},
   "outputs": [
    {
     "name": "stdout",
     "output_type": "stream",
     "text": [
      "Ridge R2 cross-validation score: 0.22420226570493246\n",
      "Ridge RSME cross-validation score: 4.96716320225071\n"
     ]
    }
   ],
   "source": [
    "# Testing ridge model\n",
    "\n",
    "ridge_cv_scores = cross_val_score(ridge, X_train_sc, y_train, cv=5)\n",
    "ridge_cv_mean = ridge_cv_scores.mean()\n",
    "print(f\"Ridge R2 cross-validation score: {ridge_cv_mean}\")\n",
    "\n",
    "ridge_cv_mse_scores = -cross_val_score(ridge, X_train_sc, y_train,cv=5, scoring ='neg_mean_squared_error')\n",
    "ridge_cv_rmse_mean = np.sqrt(ridge_cv_mse_scores.mean())\n",
    "print(f\"Ridge RSME cross-validation score: {ridge_cv_rmse_mean}\")"
   ]
  },
  {
   "cell_type": "code",
   "execution_count": 10,
   "id": "212fe5fd",
   "metadata": {},
   "outputs": [
    {
     "name": "stdout",
     "output_type": "stream",
     "text": [
      "K-Nearest Neighbor R2 cross-validation score: 0.23063469333874087\n",
      "K-Nearest Neighbor RSME cross-validation score: 5.054051890355431\n"
     ]
    }
   ],
   "source": [
    "# Testing KNN model\n",
    "\n",
    "knn_cv_scores = cross_val_score(knn, X_train_sc, y_train, cv=5)\n",
    "knn_cv_mean = knn_cv_scores.mean()\n",
    "print(f\"K-Nearest Neighbor R2 cross-validation score: {knn_cv_mean}\")\n",
    "\n",
    "knn_cv_mse_scores = -cross_val_score(knn, X_train_sc, y_train,cv=5, scoring ='neg_mean_squared_error')\n",
    "knn_cv_rmse_mean = np.sqrt(knn_cv_mse_scores.mean())\n",
    "print(f\"K-Nearest Neighbor RSME cross-validation score: {knn_cv_rmse_mean}\")"
   ]
  },
  {
   "cell_type": "code",
   "execution_count": 11,
   "id": "495c14f3",
   "metadata": {},
   "outputs": [
    {
     "name": "stdout",
     "output_type": "stream",
     "text": [
      "Decision Tree R2 cross-validation score: -0.24193582170762712\n",
      "Decision RSME cross-validation score: 5.9785975267697005\n"
     ]
    }
   ],
   "source": [
    "# Testing decision tree model\n",
    "\n",
    "decision_tree_cv_scores = cross_val_score(decision_tree, X_train_sc, y_train, cv=5)\n",
    "decision_tree_cv_mean = decision_tree_cv_scores.mean()\n",
    "print(f\"Decision Tree R2 cross-validation score: {decision_tree_cv_mean}\")\n",
    "\n",
    "decision_tree_cv_mse_scores = -cross_val_score(decision_tree, X_train_sc, y_train,cv=5, scoring ='neg_mean_squared_error')\n",
    "decision_tree_cv_rmse_mean = np.sqrt(decision_tree_cv_mse_scores.mean())\n",
    "print(f\"Decision RSME cross-validation score: {decision_tree_cv_rmse_mean}\")"
   ]
  },
  {
   "cell_type": "code",
   "execution_count": 12,
   "id": "2cfa68af",
   "metadata": {},
   "outputs": [
    {
     "name": "stdout",
     "output_type": "stream",
     "text": [
      "Bagged Tree R2 cross-validation score: 0.2535105657658316\n",
      "Bagged Tree RSME cross-validation score: 4.836170339362715\n"
     ]
    }
   ],
   "source": [
    "# Testing bagged tree model\n",
    "\n",
    "bagged_cv_scores = cross_val_score(bagged, X_train_sc, y_train, cv=5)\n",
    "bagged_cv_mean = bagged_cv_scores.mean()\n",
    "print(f\"Bagged Tree R2 cross-validation score: {bagged_cv_mean}\")\n",
    "\n",
    "bagged_cv_mse_scores = -cross_val_score(bagged, X_train_sc, y_train,cv=5, scoring ='neg_mean_squared_error')\n",
    "bagged_cv_rmse_mean = np.sqrt(bagged_cv_mse_scores.mean())\n",
    "print(f\"Bagged Tree RSME cross-validation score: {bagged_cv_rmse_mean}\")"
   ]
  },
  {
   "cell_type": "code",
   "execution_count": 13,
   "id": "208dfe63",
   "metadata": {},
   "outputs": [
    {
     "name": "stdout",
     "output_type": "stream",
     "text": [
      "Random Forest R2 cross-validation score: 0.30759575703982434\n",
      "Random Forest RSME cross-validation score: 4.691897531539012\n"
     ]
    }
   ],
   "source": [
    "# Testing random forest model\n",
    "\n",
    "random_forest_cv_scores = cross_val_score(random_forest, X_train_sc, y_train, cv=5)\n",
    "random_forest_cv_mean = random_forest_cv_scores.mean()\n",
    "print(f\"Random Forest R2 cross-validation score: {random_forest_cv_mean}\")\n",
    "\n",
    "random_forest_cv_mse_scores = -cross_val_score(random_forest, X_train_sc, y_train,cv=5, scoring ='neg_mean_squared_error')\n",
    "random_forest_cv_rmse_mean = np.sqrt(random_forest_cv_mse_scores.mean())\n",
    "print(f\"Random Forest RSME cross-validation score: {random_forest_cv_rmse_mean}\")"
   ]
  },
  {
   "cell_type": "code",
   "execution_count": 14,
   "id": "e2f0cd90",
   "metadata": {},
   "outputs": [
    {
     "name": "stdout",
     "output_type": "stream",
     "text": [
      "Adaptive Boosting R2 cross-validation score: 0.000963202288905518\n",
      "Adaptive Boosting RSME cross-validation score: 5.400425786836368\n"
     ]
    }
   ],
   "source": [
    "# Testing adaptive boosting model\n",
    "\n",
    "adaboost_cv_scores = cross_val_score(adaboost, X_train_sc, y_train, cv=5)\n",
    "adaboost_cv_mean = adaboost_cv_scores.mean()\n",
    "print(f\"Adaptive Boosting R2 cross-validation score: {adaboost_cv_mean}\")\n",
    "\n",
    "adaboost_cv_mse_scores = -cross_val_score(adaboost, X_train_sc, y_train,cv=5, scoring ='neg_mean_squared_error')\n",
    "adaboost_cv_rmse_mean = np.sqrt(adaboost_cv_mse_scores.mean())\n",
    "print(f\"Adaptive Boosting RSME cross-validation score: {adaboost_cv_rmse_mean}\")"
   ]
  },
  {
   "cell_type": "code",
   "execution_count": 15,
   "id": "eafabaf5",
   "metadata": {},
   "outputs": [
    {
     "name": "stdout",
     "output_type": "stream",
     "text": [
      "Support Vector R2 cross-validation score: 0.000963202288905518\n",
      "Support Vector RSME cross-validation score: 5.107507979046789\n"
     ]
    }
   ],
   "source": [
    "# Testing support vector model\n",
    "\n",
    "support_vector_cv_scores = cross_val_score(support_vector, X_train_sc, y_train, cv=5)\n",
    "support_vector_cv_mean = support_vector_cv_scores.mean()\n",
    "print(f\"Support Vector R2 cross-validation score: {adaboost_cv_mean}\")\n",
    "\n",
    "support_vector_cv_mse_scores = -cross_val_score(support_vector, X_train_sc, y_train,cv=5, scoring ='neg_mean_squared_error')\n",
    "support_vector_cv_rmse_mean = np.sqrt(support_vector_cv_mse_scores.mean())\n",
    "print(f\"Support Vector RSME cross-validation score: {support_vector_cv_rmse_mean}\")"
   ]
  },
  {
   "cell_type": "code",
   "execution_count": 16,
   "id": "0f562e1d",
   "metadata": {},
   "outputs": [
    {
     "name": "stdout",
     "output_type": "stream",
     "text": [
      "Gradient Boosting R2 cross-validation score: 0.2549503669108456\n",
      "Gradient Boosting RSME cross-validation score: 4.8932653888662925\n"
     ]
    }
   ],
   "source": [
    "# Testing gradient boosting model\n",
    "\n",
    "gradient_boost_cv_scores = cross_val_score(gradient_boost, X_train_sc, y_train, cv=5)\n",
    "gradient_boost_cv_mean = gradient_boost_cv_scores.mean()\n",
    "print(f\"Gradient Boosting R2 cross-validation score: {gradient_boost_cv_mean}\")\n",
    "\n",
    "gradient_boost_cv_mse_scores = -cross_val_score(gradient_boost, X_train_sc, y_train,cv=5, scoring ='neg_mean_squared_error')\n",
    "gradient_boost_cv_rmse_mean = np.sqrt(gradient_boost_cv_mse_scores.mean())\n",
    "print(f\"Gradient Boosting RSME cross-validation score: {gradient_boost_cv_rmse_mean}\")"
   ]
  },
  {
   "cell_type": "markdown",
   "id": "8e6adbde",
   "metadata": {},
   "source": [
    "## Modeling"
   ]
  },
  {
   "cell_type": "markdown",
   "id": "75fa4383",
   "metadata": {},
   "source": [
    "Once we have our cross-validation scores, we'll start building our models:"
   ]
  },
  {
   "cell_type": "markdown",
   "id": "001dbfcc",
   "metadata": {},
   "source": [
    "### Linear Regression"
   ]
  },
  {
   "cell_type": "code",
   "execution_count": 17,
   "id": "38556095",
   "metadata": {},
   "outputs": [
    {
     "name": "stdout",
     "output_type": "stream",
     "text": [
      "Linear Regression:\n",
      "\n",
      "R2 for training dataset: 0.2958325865359025\n",
      "R2 validation dataset: 0.17284384322311552\n",
      "R2 for cross-validation sets: 0.17704521226467598\n",
      "\n",
      "RMSE for training dataset: 4.709325225549575\n",
      "RMSE for validation dataset: 6.081975816722404\n",
      "RMSE for cross-validation sets: 5.065165486619282\n"
     ]
    }
   ],
   "source": [
    "# Building linear regression model\n",
    "\n",
    "lr.fit(X_train_sc, y_train)\n",
    "\n",
    "print(\"Linear Regression:\")\n",
    "print()\n",
    "linear_train_r = lr.score(X_train_sc,y_train)\n",
    "print(f\"R2 for training dataset: {linear_train_r}\")\n",
    "linear_test_r = lr.score(X_test_sc,y_test)\n",
    "print(f\"R2 validation dataset: {linear_test_r}\")\n",
    "print(f\"R2 for cross-validation sets: {lr_cv_mean}\")\n",
    "print()\n",
    "linear_train_rmse = np.sqrt(mean_squared_error(y_train, lr.predict(X_train_sc)))\n",
    "print(f\"RMSE for training dataset: {linear_train_rmse}\")\n",
    "linear_test_rmse = np.sqrt(mean_squared_error(y_test,lr.predict(X_test_sc)))\n",
    "print(f\"RMSE for validation dataset: {linear_test_rmse}\")\n",
    "print(f\"RMSE for cross-validation sets: {lr_cv_rmse_mean}\")"
   ]
  },
  {
   "cell_type": "markdown",
   "id": "25bbaef7",
   "metadata": {},
   "source": [
    "### Lasso Regression"
   ]
  },
  {
   "cell_type": "code",
   "execution_count": 18,
   "id": "2ee901b6",
   "metadata": {},
   "outputs": [
    {
     "data": {
      "text/plain": [
       "0.12674606238056868"
      ]
     },
     "execution_count": 18,
     "metadata": {},
     "output_type": "execute_result"
    }
   ],
   "source": [
    "lasso.fit(X_train_sc, y_train)\n",
    "\n",
    "lasso_alpha = lasso.alpha_\n",
    "lasso_alpha"
   ]
  },
  {
   "cell_type": "code",
   "execution_count": 19,
   "id": "9b17c39b",
   "metadata": {},
   "outputs": [
    {
     "data": {
      "text/plain": [
       "Lasso(alpha=0.12674606238056868)"
      ]
     },
     "execution_count": 19,
     "metadata": {},
     "output_type": "execute_result"
    }
   ],
   "source": [
    "lasso = Lasso(alpha=lasso_alpha)\n",
    "lasso.fit(X_train_sc, y_train)"
   ]
  },
  {
   "cell_type": "code",
   "execution_count": 20,
   "id": "f3220186",
   "metadata": {},
   "outputs": [
    {
     "name": "stdout",
     "output_type": "stream",
     "text": [
      "Lasso Regression:\n",
      "\n",
      "R2 for training dataset: 0.2798993542824637\n",
      "R2 validation dataset: 0.17862199049247385\n",
      "R2 for cross-validation sets: 0.2186965037639365\n",
      "\n",
      "RMSE for training dataset: 4.762306272707305\n",
      "RMSE for validation dataset: 6.060695590761464\n",
      "RMSE for cross-validation sets: 4.985857558557398\n"
     ]
    }
   ],
   "source": [
    "print(\"Lasso Regression:\")\n",
    "print()\n",
    "lasso_train_r = lasso.score(X_train_sc,y_train)\n",
    "print(f\"R2 for training dataset: {lasso_train_r}\")\n",
    "lasso_test_r = lasso.score(X_test_sc,y_test)\n",
    "print(f\"R2 validation dataset: {lasso_test_r}\")\n",
    "print(f\"R2 for cross-validation sets: {lasso_cv_mean}\")\n",
    "print()\n",
    "lasso_train_rmse = np.sqrt(mean_squared_error(y_train, lasso.predict(X_train_sc)))\n",
    "print(f\"RMSE for training dataset: {lasso_train_rmse}\")\n",
    "lasso_test_rmse = np.sqrt(mean_squared_error(y_test,lasso.predict(X_test_sc)))\n",
    "print(f\"RMSE for validation dataset: {lasso_test_rmse}\")\n",
    "print(f\"RMSE for cross-validation sets: {lasso_cv_rmse_mean}\")"
   ]
  },
  {
   "cell_type": "markdown",
   "id": "a323f045",
   "metadata": {},
   "source": [
    "### Ridge Regression"
   ]
  },
  {
   "cell_type": "code",
   "execution_count": 21,
   "id": "9163f0cf",
   "metadata": {},
   "outputs": [
    {
     "data": {
      "text/plain": [
       "200.0"
      ]
     },
     "execution_count": 21,
     "metadata": {},
     "output_type": "execute_result"
    }
   ],
   "source": [
    "ridge.fit(X_train_sc,y_train)\n",
    "\n",
    "ridge_alpha = ridge.alpha_\n",
    "ridge_alpha"
   ]
  },
  {
   "cell_type": "code",
   "execution_count": 22,
   "id": "a9221495",
   "metadata": {},
   "outputs": [
    {
     "data": {
      "text/plain": [
       "Ridge(alpha=200.0)"
      ]
     },
     "execution_count": 22,
     "metadata": {},
     "output_type": "execute_result"
    }
   ],
   "source": [
    "ridge = Ridge(alpha=ridge_alpha)\n",
    "ridge.fit(X_train_sc, y_train)"
   ]
  },
  {
   "cell_type": "code",
   "execution_count": 23,
   "id": "3781eb65",
   "metadata": {},
   "outputs": [
    {
     "name": "stdout",
     "output_type": "stream",
     "text": [
      "Ridge Regression:\n",
      "\n",
      "R2 for training dataset: 0.2844034038094896\n",
      "R2 validation dataset: 0.18097898253391342\n",
      "R2 for cross-validation sets: 0.22420226570493246\n",
      "\n",
      "RMSE for training dataset: 4.747389393157756\n",
      "RMSE for validation dataset: 6.051993584038954\n",
      "RMSE for cross-validation sets: 4.96716320225071\n"
     ]
    }
   ],
   "source": [
    "print(\"Ridge Regression:\")\n",
    "print()\n",
    "ridge_train_r = ridge.score(X_train_sc,y_train)\n",
    "print(f\"R2 for training dataset: {ridge_train_r}\")\n",
    "ridge_test_r = ridge.score(X_test_sc,y_test)\n",
    "print(f\"R2 validation dataset: {ridge_test_r}\")\n",
    "print(f\"R2 for cross-validation sets: {ridge_cv_mean}\")\n",
    "print()\n",
    "ridge_train_rmse = np.sqrt(mean_squared_error(y_train, ridge.predict(X_train_sc)))\n",
    "print(f\"RMSE for training dataset: {ridge_train_rmse}\")\n",
    "ridge_test_rmse = np.sqrt(mean_squared_error(y_test,ridge.predict(X_test_sc)))\n",
    "print(f\"RMSE for validation dataset: {ridge_test_rmse}\")\n",
    "print(f\"RMSE for cross-validation sets: {ridge_cv_rmse_mean}\")"
   ]
  },
  {
   "cell_type": "markdown",
   "id": "e8733426",
   "metadata": {},
   "source": [
    "### K-Nearest Neighbor"
   ]
  },
  {
   "cell_type": "code",
   "execution_count": 24,
   "id": "9c1ee287",
   "metadata": {},
   "outputs": [
    {
     "data": {
      "text/plain": [
       "KNeighborsRegressor()"
      ]
     },
     "execution_count": 24,
     "metadata": {},
     "output_type": "execute_result"
    }
   ],
   "source": [
    "knn.fit(X_train_sc, y_train)"
   ]
  },
  {
   "cell_type": "code",
   "execution_count": 25,
   "id": "8b566d5f",
   "metadata": {},
   "outputs": [
    {
     "name": "stdout",
     "output_type": "stream",
     "text": [
      "K-Nearest Neighbor:\n",
      "\n",
      "R2 for training dataset: 0.46490025353772524\n",
      "R2 validation dataset: 0.21667193581751187\n",
      "R2 for cross-validation sets: 0.23063469333874087\n",
      "\n",
      "RMSE for training dataset: 4.105235678288526\n",
      "RMSE for validation dataset: 5.918651636119801\n",
      "RMSE for cross-validation sets: 5.054051890355431\n"
     ]
    }
   ],
   "source": [
    "print(\"K-Nearest Neighbor:\")\n",
    "print()\n",
    "knn_train_r = knn.score(X_train_sc,y_train)\n",
    "print(f\"R2 for training dataset: {knn_train_r}\")\n",
    "knn_test_r = knn.score(X_test_sc,y_test)\n",
    "print(f\"R2 validation dataset: {knn_test_r}\")\n",
    "print(f\"R2 for cross-validation sets: {knn_cv_mean}\")\n",
    "print()\n",
    "knn_train_rmse = np.sqrt(mean_squared_error(y_train, knn.predict(X_train_sc)))\n",
    "print(f\"RMSE for training dataset: {knn_train_rmse}\")\n",
    "knn_test_rmse = np.sqrt(mean_squared_error(y_test,knn.predict(X_test_sc)))\n",
    "print(f\"RMSE for validation dataset: {knn_test_rmse}\")\n",
    "print(f\"RMSE for cross-validation sets: {knn_cv_rmse_mean}\")"
   ]
  },
  {
   "cell_type": "markdown",
   "id": "41a37ef3",
   "metadata": {},
   "source": [
    "### Decision Tree"
   ]
  },
  {
   "cell_type": "code",
   "execution_count": 26,
   "id": "9839b1f9",
   "metadata": {},
   "outputs": [
    {
     "data": {
      "text/plain": [
       "DecisionTreeRegressor()"
      ]
     },
     "execution_count": 26,
     "metadata": {},
     "output_type": "execute_result"
    }
   ],
   "source": [
    "decision_tree.fit(X_train_sc, y_train)"
   ]
  },
  {
   "cell_type": "code",
   "execution_count": 27,
   "id": "ce38638b",
   "metadata": {},
   "outputs": [
    {
     "name": "stdout",
     "output_type": "stream",
     "text": [
      "Decision Tree:\n",
      "\n",
      "R2 for training dataset: 1.0\n",
      "R2 validation dataset: 0.2810473834220921\n",
      "R2 for cross-validation sets: -0.24193582170762712\n",
      "\n",
      "RMSE for training dataset: 0.0\n",
      "RMSE for validation dataset: 5.670235150914525\n",
      "RMSE for cross-validation sets: 5.9785975267697005\n"
     ]
    }
   ],
   "source": [
    "print(\"Decision Tree:\")\n",
    "print()\n",
    "decision_tree_train_r = decision_tree.score(X_train_sc,y_train)\n",
    "print(f\"R2 for training dataset: {decision_tree_train_r}\")\n",
    "decision_tree_test_r = decision_tree.score(X_test_sc,y_test)\n",
    "print(f\"R2 validation dataset: {decision_tree_test_r}\")\n",
    "print(f\"R2 for cross-validation sets: {decision_tree_cv_mean}\")\n",
    "print()\n",
    "decision_tree_train_rmse = np.sqrt(mean_squared_error(y_train, decision_tree.predict(X_train_sc)))\n",
    "print(f\"RMSE for training dataset: {decision_tree_train_rmse}\")\n",
    "decision_tree_test_rmse = np.sqrt(mean_squared_error(y_test,decision_tree.predict(X_test_sc)))\n",
    "print(f\"RMSE for validation dataset: {decision_tree_test_rmse}\")\n",
    "print(f\"RMSE for cross-validation sets: {decision_tree_cv_rmse_mean}\")"
   ]
  },
  {
   "cell_type": "markdown",
   "id": "eaf52d90",
   "metadata": {},
   "source": [
    "### Bagged Tree"
   ]
  },
  {
   "cell_type": "code",
   "execution_count": 28,
   "id": "62de3607",
   "metadata": {},
   "outputs": [
    {
     "data": {
      "text/plain": [
       "BaggingRegressor()"
      ]
     },
     "execution_count": 28,
     "metadata": {},
     "output_type": "execute_result"
    }
   ],
   "source": [
    "bagged.fit(X_train_sc, y_train)"
   ]
  },
  {
   "cell_type": "code",
   "execution_count": 29,
   "id": "4bc387da",
   "metadata": {},
   "outputs": [
    {
     "name": "stdout",
     "output_type": "stream",
     "text": [
      "Bagged Tree:\n",
      "\n",
      "R2 for training dataset: 0.8475514089961789\n",
      "R2 validation dataset: 0.23219053991879246\n",
      "R2 for cross-validation sets: 0.2535105657658316\n",
      "\n",
      "RMSE for training dataset: 2.1912020697057533\n",
      "RMSE for validation dataset: 5.859730803740706\n",
      "RMSE for cross-validation sets: 4.836170339362715\n"
     ]
    }
   ],
   "source": [
    "print(\"Bagged Tree:\")\n",
    "print()\n",
    "bagged_train_r = bagged.score(X_train_sc,y_train)\n",
    "print(f\"R2 for training dataset: {bagged_train_r}\")\n",
    "bagged_test_r = bagged.score(X_test_sc,y_test)\n",
    "print(f\"R2 validation dataset: {bagged_test_r}\")\n",
    "print(f\"R2 for cross-validation sets: {bagged_cv_mean}\")\n",
    "print()\n",
    "bagged_train_rmse = np.sqrt(mean_squared_error(y_train, bagged.predict(X_train_sc)))\n",
    "print(f\"RMSE for training dataset: {bagged_train_rmse}\")\n",
    "bagged_test_rmse = np.sqrt(mean_squared_error(y_test, bagged.predict(X_test_sc)))\n",
    "print(f\"RMSE for validation dataset: {bagged_test_rmse}\")\n",
    "print(f\"RMSE for cross-validation sets: {bagged_cv_rmse_mean}\")"
   ]
  },
  {
   "cell_type": "markdown",
   "id": "330a9445",
   "metadata": {},
   "source": [
    "### Random Forest"
   ]
  },
  {
   "cell_type": "code",
   "execution_count": 30,
   "id": "dd324e2c",
   "metadata": {},
   "outputs": [
    {
     "data": {
      "text/plain": [
       "RandomForestRegressor()"
      ]
     },
     "execution_count": 30,
     "metadata": {},
     "output_type": "execute_result"
    }
   ],
   "source": [
    "random_forest.fit(X_train_sc, y_train)"
   ]
  },
  {
   "cell_type": "code",
   "execution_count": 31,
   "id": "e704402a",
   "metadata": {},
   "outputs": [
    {
     "name": "stdout",
     "output_type": "stream",
     "text": [
      "Random Forest:\n",
      "\n",
      "R2 for training dataset: 0.9139803673184876\n",
      "R2 validation dataset: 0.2679345821763115\n",
      "R2 for cross-validation sets: 0.30759575703982434\n",
      "\n",
      "RMSE for training dataset: 1.64596089864988\n",
      "RMSE for validation dataset: 5.721710517099513\n",
      "RMSE for cross-validation sets: 4.691897531539012\n"
     ]
    }
   ],
   "source": [
    "print(\"Random Forest:\")\n",
    "print()\n",
    "random_forest_train_r = random_forest.score(X_train_sc,y_train)\n",
    "print(f\"R2 for training dataset: {random_forest_train_r}\")\n",
    "random_forest_test_r = random_forest.score(X_test_sc,y_test)\n",
    "print(f\"R2 validation dataset: {random_forest_test_r}\")\n",
    "print(f\"R2 for cross-validation sets: {random_forest_cv_mean}\")\n",
    "print()\n",
    "random_forest_train_rmse = np.sqrt(mean_squared_error(y_train, random_forest.predict(X_train_sc)))\n",
    "print(f\"RMSE for training dataset: {random_forest_train_rmse}\")\n",
    "random_forest_test_rmse = np.sqrt(mean_squared_error(y_test, random_forest.predict(X_test_sc)))\n",
    "print(f\"RMSE for validation dataset: {random_forest_test_rmse}\")\n",
    "print(f\"RMSE for cross-validation sets: {random_forest_cv_rmse_mean}\")"
   ]
  },
  {
   "cell_type": "markdown",
   "id": "00a626f5",
   "metadata": {},
   "source": [
    "### Adaptive Boosting"
   ]
  },
  {
   "cell_type": "code",
   "execution_count": 32,
   "id": "caa70f87",
   "metadata": {},
   "outputs": [
    {
     "data": {
      "text/plain": [
       "AdaBoostRegressor()"
      ]
     },
     "execution_count": 32,
     "metadata": {},
     "output_type": "execute_result"
    }
   ],
   "source": [
    "adaboost.fit(X_train_sc, y_train)"
   ]
  },
  {
   "cell_type": "code",
   "execution_count": 33,
   "id": "9e724d23",
   "metadata": {},
   "outputs": [
    {
     "name": "stdout",
     "output_type": "stream",
     "text": [
      "Adaptive Boosting:\n",
      "\n",
      "R2 for training dataset: 0.5029072799157855\n",
      "R2 validation dataset: 0.19626540858100727\n",
      "R2 for cross-validation sets: 0.000963202288905518\n",
      "\n",
      "RMSE for training dataset: 3.9567574026059256\n",
      "RMSE for validation dataset: 5.995249556792583\n",
      "RMSE for cross-validation sets: 5.400425786836368\n"
     ]
    }
   ],
   "source": [
    "print(\"Adaptive Boosting:\")\n",
    "print()\n",
    "adaboost_train_r = adaboost.score(X_train_sc,y_train)\n",
    "print(f\"R2 for training dataset: {adaboost_train_r}\")\n",
    "adaboost_test_r = adaboost.score(X_test_sc,y_test)\n",
    "print(f\"R2 validation dataset: {adaboost_test_r}\")\n",
    "print(f\"R2 for cross-validation sets: {adaboost_cv_mean}\")\n",
    "print()\n",
    "adaboost_train_rmse = np.sqrt(mean_squared_error(y_train, adaboost.predict(X_train_sc)))\n",
    "print(f\"RMSE for training dataset: {adaboost_train_rmse}\")\n",
    "adaboost_test_rmse = np.sqrt(mean_squared_error(y_test, adaboost.predict(X_test_sc)))\n",
    "print(f\"RMSE for validation dataset: {adaboost_test_rmse}\")\n",
    "print(f\"RMSE for cross-validation sets: {adaboost_cv_rmse_mean}\")"
   ]
  },
  {
   "cell_type": "markdown",
   "id": "74156447",
   "metadata": {},
   "source": [
    "### Support Vector"
   ]
  },
  {
   "cell_type": "code",
   "execution_count": 34,
   "id": "ae2893f8",
   "metadata": {},
   "outputs": [
    {
     "data": {
      "text/plain": [
       "SVR()"
      ]
     },
     "execution_count": 34,
     "metadata": {},
     "output_type": "execute_result"
    }
   ],
   "source": [
    "support_vector.fit(X_train_sc, y_train)"
   ]
  },
  {
   "cell_type": "code",
   "execution_count": 35,
   "id": "dd99dea8",
   "metadata": {},
   "outputs": [
    {
     "name": "stdout",
     "output_type": "stream",
     "text": [
      "Support Vector:\n",
      "\n",
      "R2 for training dataset: 0.23949915352206352\n",
      "R2 validation dataset: 0.12878298415196632\n",
      "R2 for cross-validation sets: 0.18832927364055485\n",
      "\n",
      "RMSE for training dataset: 4.89407446451355\n",
      "RMSE for validation dataset: 6.241861244798654\n",
      "RMSE for cross-validation sets: 5.107507979046789\n"
     ]
    }
   ],
   "source": [
    "print(\"Support Vector:\")\n",
    "print()\n",
    "support_vector_train_r = support_vector.score(X_train_sc,y_train)\n",
    "print(f\"R2 for training dataset: {support_vector_train_r}\")\n",
    "support_vector_test_r = support_vector.score(X_test_sc,y_test)\n",
    "print(f\"R2 validation dataset: {support_vector_test_r}\")\n",
    "print(f\"R2 for cross-validation sets: {support_vector_cv_mean}\")\n",
    "print()\n",
    "support_vector_train_rmse = np.sqrt(mean_squared_error(y_train, support_vector.predict(X_train_sc)))\n",
    "print(f\"RMSE for training dataset: {support_vector_train_rmse}\")\n",
    "support_vector_test_rmse = np.sqrt(mean_squared_error(y_test, support_vector.predict(X_test_sc)))\n",
    "print(f\"RMSE for validation dataset: {support_vector_test_rmse}\")\n",
    "print(f\"RMSE for cross-validation sets: {support_vector_cv_rmse_mean}\")"
   ]
  },
  {
   "cell_type": "markdown",
   "id": "6a077cd3",
   "metadata": {},
   "source": [
    "### Gradient Boosting"
   ]
  },
  {
   "cell_type": "code",
   "execution_count": 36,
   "id": "ba3cf483",
   "metadata": {},
   "outputs": [
    {
     "data": {
      "text/plain": [
       "GradientBoostingRegressor()"
      ]
     },
     "execution_count": 36,
     "metadata": {},
     "output_type": "execute_result"
    }
   ],
   "source": [
    "gradient_boost.fit(X_train_sc, y_train)"
   ]
  },
  {
   "cell_type": "code",
   "execution_count": 37,
   "id": "a3552976",
   "metadata": {},
   "outputs": [
    {
     "name": "stdout",
     "output_type": "stream",
     "text": [
      "Gradient Boosting:\n",
      "\n",
      "R2 for training dataset: 0.8007909996867268\n",
      "R2 validation dataset: 0.2768631336666326\n",
      "R2 for cross-validation sets: 0.2549503669108456\n",
      "\n",
      "RMSE for training dataset: 2.504812374197003\n",
      "RMSE for validation dataset: 5.686711382568365\n",
      "RMSE for cross-validation sets: 4.8932653888662925\n"
     ]
    }
   ],
   "source": [
    "print(\"Gradient Boosting:\")\n",
    "print()\n",
    "gradient_boost_train_r = gradient_boost.score(X_train_sc,y_train)\n",
    "print(f\"R2 for training dataset: {gradient_boost_train_r}\")\n",
    "gradient_boost_test_r = gradient_boost.score(X_test_sc,y_test)\n",
    "print(f\"R2 validation dataset: {gradient_boost_test_r}\")\n",
    "print(f\"R2 for cross-validation sets: {gradient_boost_cv_mean}\")\n",
    "print()\n",
    "gradient_boost_train_rmse = np.sqrt(mean_squared_error(y_train, gradient_boost.predict(X_train_sc)))\n",
    "print(f\"RMSE for training dataset: {gradient_boost_train_rmse}\")\n",
    "gradient_boost_test_rmse = np.sqrt(mean_squared_error(y_test, gradient_boost.predict(X_test_sc)))\n",
    "print(f\"RMSE for validation dataset: {gradient_boost_test_rmse}\")\n",
    "print(f\"RMSE for cross-validation sets: {gradient_boost_cv_rmse_mean}\")"
   ]
  },
  {
   "cell_type": "markdown",
   "id": "06e3038c",
   "metadata": {},
   "source": [
    "## Result"
   ]
  },
  {
   "cell_type": "markdown",
   "id": "394f19c6",
   "metadata": {},
   "source": [
    "Now we'll compile the results into a dataframe for evaluation:"
   ]
  },
  {
   "cell_type": "code",
   "execution_count": 38,
   "id": "ac1a5959",
   "metadata": {},
   "outputs": [
    {
     "data": {
      "text/html": [
       "<div>\n",
       "<style scoped>\n",
       "    .dataframe tbody tr th:only-of-type {\n",
       "        vertical-align: middle;\n",
       "    }\n",
       "\n",
       "    .dataframe tbody tr th {\n",
       "        vertical-align: top;\n",
       "    }\n",
       "\n",
       "    .dataframe thead th {\n",
       "        text-align: right;\n",
       "    }\n",
       "</style>\n",
       "<table border=\"1\" class=\"dataframe\">\n",
       "  <thead>\n",
       "    <tr style=\"text-align: right;\">\n",
       "      <th></th>\n",
       "      <th>Model</th>\n",
       "      <th>R2 Train Set</th>\n",
       "      <th>R2 Test Set</th>\n",
       "      <th>R2 Cross-Val</th>\n",
       "      <th>RMSE Train Set</th>\n",
       "      <th>RMSE Test Set</th>\n",
       "      <th>RMSE Cross-Val</th>\n",
       "    </tr>\n",
       "  </thead>\n",
       "  <tbody>\n",
       "    <tr>\n",
       "      <th>0</th>\n",
       "      <td>Linear</td>\n",
       "      <td>0.295833</td>\n",
       "      <td>0.172844</td>\n",
       "      <td>0.177045</td>\n",
       "      <td>4.709325</td>\n",
       "      <td>6.081976</td>\n",
       "      <td>5.065165</td>\n",
       "    </tr>\n",
       "    <tr>\n",
       "      <th>1</th>\n",
       "      <td>Lasso</td>\n",
       "      <td>0.279899</td>\n",
       "      <td>0.178622</td>\n",
       "      <td>0.218697</td>\n",
       "      <td>4.762306</td>\n",
       "      <td>6.060696</td>\n",
       "      <td>4.985858</td>\n",
       "    </tr>\n",
       "    <tr>\n",
       "      <th>2</th>\n",
       "      <td>Ridge</td>\n",
       "      <td>0.284403</td>\n",
       "      <td>0.180979</td>\n",
       "      <td>0.224202</td>\n",
       "      <td>4.747389</td>\n",
       "      <td>6.051994</td>\n",
       "      <td>4.967163</td>\n",
       "    </tr>\n",
       "    <tr>\n",
       "      <th>3</th>\n",
       "      <td>K-Nearest Neighbor</td>\n",
       "      <td>0.464900</td>\n",
       "      <td>0.216672</td>\n",
       "      <td>0.230635</td>\n",
       "      <td>4.105236</td>\n",
       "      <td>5.918652</td>\n",
       "      <td>5.054052</td>\n",
       "    </tr>\n",
       "    <tr>\n",
       "      <th>4</th>\n",
       "      <td>Decision Tree</td>\n",
       "      <td>1.000000</td>\n",
       "      <td>0.281047</td>\n",
       "      <td>-0.241936</td>\n",
       "      <td>0.000000</td>\n",
       "      <td>5.670235</td>\n",
       "      <td>5.978598</td>\n",
       "    </tr>\n",
       "    <tr>\n",
       "      <th>5</th>\n",
       "      <td>Bagged Tree</td>\n",
       "      <td>0.847551</td>\n",
       "      <td>0.232191</td>\n",
       "      <td>0.253511</td>\n",
       "      <td>2.191202</td>\n",
       "      <td>5.859731</td>\n",
       "      <td>4.836170</td>\n",
       "    </tr>\n",
       "    <tr>\n",
       "      <th>6</th>\n",
       "      <td>Random Forest</td>\n",
       "      <td>0.913980</td>\n",
       "      <td>0.267935</td>\n",
       "      <td>0.307596</td>\n",
       "      <td>1.645961</td>\n",
       "      <td>5.721711</td>\n",
       "      <td>4.691898</td>\n",
       "    </tr>\n",
       "    <tr>\n",
       "      <th>7</th>\n",
       "      <td>Adaptive Boosting</td>\n",
       "      <td>0.502907</td>\n",
       "      <td>0.196265</td>\n",
       "      <td>0.000963</td>\n",
       "      <td>3.956757</td>\n",
       "      <td>5.995250</td>\n",
       "      <td>5.400426</td>\n",
       "    </tr>\n",
       "    <tr>\n",
       "      <th>8</th>\n",
       "      <td>Support Vector</td>\n",
       "      <td>0.239499</td>\n",
       "      <td>0.128783</td>\n",
       "      <td>0.188329</td>\n",
       "      <td>4.894074</td>\n",
       "      <td>6.241861</td>\n",
       "      <td>5.107508</td>\n",
       "    </tr>\n",
       "    <tr>\n",
       "      <th>9</th>\n",
       "      <td>Gradient Boosting</td>\n",
       "      <td>0.800791</td>\n",
       "      <td>0.276863</td>\n",
       "      <td>0.254950</td>\n",
       "      <td>2.504812</td>\n",
       "      <td>5.686711</td>\n",
       "      <td>4.893265</td>\n",
       "    </tr>\n",
       "  </tbody>\n",
       "</table>\n",
       "</div>"
      ],
      "text/plain": [
       "                Model  R2 Train Set  R2 Test Set  R2 Cross-Val  \\\n",
       "0              Linear      0.295833     0.172844      0.177045   \n",
       "1               Lasso      0.279899     0.178622      0.218697   \n",
       "2               Ridge      0.284403     0.180979      0.224202   \n",
       "3  K-Nearest Neighbor      0.464900     0.216672      0.230635   \n",
       "4       Decision Tree      1.000000     0.281047     -0.241936   \n",
       "5         Bagged Tree      0.847551     0.232191      0.253511   \n",
       "6       Random Forest      0.913980     0.267935      0.307596   \n",
       "7   Adaptive Boosting      0.502907     0.196265      0.000963   \n",
       "8      Support Vector      0.239499     0.128783      0.188329   \n",
       "9   Gradient Boosting      0.800791     0.276863      0.254950   \n",
       "\n",
       "   RMSE Train Set  RMSE Test Set  RMSE Cross-Val  \n",
       "0        4.709325       6.081976        5.065165  \n",
       "1        4.762306       6.060696        4.985858  \n",
       "2        4.747389       6.051994        4.967163  \n",
       "3        4.105236       5.918652        5.054052  \n",
       "4        0.000000       5.670235        5.978598  \n",
       "5        2.191202       5.859731        4.836170  \n",
       "6        1.645961       5.721711        4.691898  \n",
       "7        3.956757       5.995250        5.400426  \n",
       "8        4.894074       6.241861        5.107508  \n",
       "9        2.504812       5.686711        4.893265  "
      ]
     },
     "execution_count": 38,
     "metadata": {},
     "output_type": "execute_result"
    }
   ],
   "source": [
    "# Creating table of the results\n",
    "\n",
    "results = pd.DataFrame(data=[[\"Linear\", linear_train_r, linear_test_r, lr_cv_mean, linear_train_rmse, linear_test_rmse, lr_cv_rmse_mean],\n",
    "                                [\"Lasso\", lasso_train_r, lasso_test_r, lasso_cv_mean, lasso_train_rmse, lasso_test_rmse, lasso_cv_rmse_mean],\n",
    "                                [\"Ridge\", ridge_train_r, ridge_test_r, ridge_cv_mean, ridge_train_rmse, ridge_test_rmse, ridge_cv_rmse_mean],\n",
    "                                [\"K-Nearest Neighbor\", knn_train_r, knn_test_r, knn_cv_mean, knn_train_rmse, knn_test_rmse, knn_cv_rmse_mean],\n",
    "                                [\"Decision Tree\", decision_tree_train_r, decision_tree_test_r, decision_tree_cv_mean, decision_tree_train_rmse, decision_tree_test_rmse, decision_tree_cv_rmse_mean],\n",
    "                                [\"Bagged Tree\", bagged_train_r, bagged_test_r, bagged_cv_mean, bagged_train_rmse, bagged_test_rmse, bagged_cv_rmse_mean],\n",
    "                                [\"Random Forest\", random_forest_train_r, random_forest_test_r, random_forest_cv_mean, random_forest_train_rmse, random_forest_test_rmse, random_forest_cv_rmse_mean],\n",
    "                                [\"Adaptive Boosting\", adaboost_train_r, adaboost_test_r, adaboost_cv_mean, adaboost_train_rmse, adaboost_test_rmse, adaboost_cv_rmse_mean],\n",
    "                                [\"Support Vector\", support_vector_train_r, support_vector_test_r, support_vector_cv_mean, support_vector_train_rmse, support_vector_test_rmse, support_vector_cv_rmse_mean],\n",
    "                                [\"Gradient Boosting\", gradient_boost_train_r, gradient_boost_test_r, gradient_boost_cv_mean, gradient_boost_train_rmse, gradient_boost_test_rmse, gradient_boost_cv_rmse_mean]],\n",
    "                                columns=['Model', 'R2 Train Set','R2 Test Set', 'R2 Cross-Val', 'RMSE Train Set','RMSE Test Set', 'RMSE Cross-Val'])\n",
    "\n",
    "results"
   ]
  },
  {
   "cell_type": "markdown",
   "id": "c6094053",
   "metadata": {},
   "source": [
    "Based on the results, Random Forest has shown the highest R2 and lowest RMSE cross validation score. The training and testing scores are also more consistent compared to the other models. The next best model is bagged tree, which we will ignore as it has the tendency to overfit. \n",
    "\n",
    "Next, we'll perform a GridSearch to tune the Random Forest model and hope to achieve better results."
   ]
  },
  {
   "cell_type": "markdown",
   "id": "b3bd1351",
   "metadata": {},
   "source": [
    "## Tuning"
   ]
  },
  {
   "cell_type": "markdown",
   "id": "b73b598b",
   "metadata": {},
   "source": [
    "GridSearch uses different combination of specified hyperparameters to calculate the performance of each combination, and then selecting the best value for the hyperparameters. This allows us to find the optimized values for our models so that we can maximize our prediction accuracy."
   ]
  },
  {
   "cell_type": "code",
   "execution_count": 39,
   "id": "e5e08710",
   "metadata": {},
   "outputs": [
    {
     "name": "stderr",
     "output_type": "stream",
     "text": [
      "[Parallel(n_jobs=-1)]: Using backend LokyBackend with 8 concurrent workers.\n",
      "[Parallel(n_jobs=-1)]: Done  25 tasks      | elapsed:    1.8s\n",
      "[Parallel(n_jobs=-1)]: Done 100 out of 100 | elapsed:    2.1s finished\n",
      "[Parallel(n_jobs=8)]: Using backend ThreadingBackend with 8 concurrent workers.\n",
      "[Parallel(n_jobs=8)]: Done  25 tasks      | elapsed:    0.0s\n",
      "[Parallel(n_jobs=8)]: Done 100 out of 100 | elapsed:    0.0s finished\n",
      "[Parallel(n_jobs=-1)]: Using backend LokyBackend with 8 concurrent workers.\n",
      "[Parallel(n_jobs=-1)]: Done  34 tasks      | elapsed:    0.0s\n",
      "[Parallel(n_jobs=-1)]: Done 100 out of 100 | elapsed:    0.0s finished\n",
      "[Parallel(n_jobs=8)]: Using backend ThreadingBackend with 8 concurrent workers.\n",
      "[Parallel(n_jobs=8)]: Done  25 tasks      | elapsed:    0.0s\n",
      "[Parallel(n_jobs=8)]: Done 100 out of 100 | elapsed:    0.0s finished\n",
      "[Parallel(n_jobs=-1)]: Using backend LokyBackend with 8 concurrent workers.\n",
      "[Parallel(n_jobs=-1)]: Done  34 tasks      | elapsed:    0.0s\n",
      "[Parallel(n_jobs=-1)]: Done 100 out of 100 | elapsed:    0.1s finished\n",
      "[Parallel(n_jobs=8)]: Using backend ThreadingBackend with 8 concurrent workers.\n",
      "[Parallel(n_jobs=8)]: Done  25 tasks      | elapsed:    0.0s\n",
      "[Parallel(n_jobs=8)]: Done 100 out of 100 | elapsed:    0.0s finished\n",
      "[Parallel(n_jobs=-1)]: Using backend LokyBackend with 8 concurrent workers.\n",
      "[Parallel(n_jobs=-1)]: Done  34 tasks      | elapsed:    0.0s\n",
      "[Parallel(n_jobs=-1)]: Done 100 out of 100 | elapsed:    0.0s finished\n",
      "[Parallel(n_jobs=8)]: Using backend ThreadingBackend with 8 concurrent workers.\n",
      "[Parallel(n_jobs=8)]: Done  25 tasks      | elapsed:    0.0s\n",
      "[Parallel(n_jobs=8)]: Done 100 out of 100 | elapsed:    0.0s finished\n",
      "[Parallel(n_jobs=-1)]: Using backend LokyBackend with 8 concurrent workers.\n",
      "[Parallel(n_jobs=-1)]: Done  34 tasks      | elapsed:    0.0s\n",
      "[Parallel(n_jobs=-1)]: Done 100 out of 100 | elapsed:    0.0s finished\n",
      "[Parallel(n_jobs=8)]: Using backend ThreadingBackend with 8 concurrent workers.\n",
      "[Parallel(n_jobs=8)]: Done  25 tasks      | elapsed:    0.0s\n",
      "[Parallel(n_jobs=8)]: Done 100 out of 100 | elapsed:    0.0s finished\n",
      "[Parallel(n_jobs=-1)]: Using backend LokyBackend with 8 concurrent workers.\n",
      "[Parallel(n_jobs=-1)]: Done  34 tasks      | elapsed:    0.0s\n",
      "[Parallel(n_jobs=-1)]: Done 150 out of 150 | elapsed:    0.1s finished\n",
      "[Parallel(n_jobs=8)]: Using backend ThreadingBackend with 8 concurrent workers.\n",
      "[Parallel(n_jobs=8)]: Done  25 tasks      | elapsed:    0.0s\n",
      "[Parallel(n_jobs=8)]: Done 150 out of 150 | elapsed:    0.0s finished\n",
      "[Parallel(n_jobs=-1)]: Using backend LokyBackend with 8 concurrent workers.\n",
      "[Parallel(n_jobs=-1)]: Done  34 tasks      | elapsed:    0.0s\n",
      "[Parallel(n_jobs=-1)]: Done 150 out of 150 | elapsed:    0.1s finished\n",
      "[Parallel(n_jobs=8)]: Using backend ThreadingBackend with 8 concurrent workers.\n",
      "[Parallel(n_jobs=8)]: Done  25 tasks      | elapsed:    0.0s\n",
      "[Parallel(n_jobs=8)]: Done 150 out of 150 | elapsed:    0.0s finished\n",
      "[Parallel(n_jobs=-1)]: Using backend LokyBackend with 8 concurrent workers.\n",
      "[Parallel(n_jobs=-1)]: Done  34 tasks      | elapsed:    0.1s\n",
      "[Parallel(n_jobs=-1)]: Done 150 out of 150 | elapsed:    0.1s finished\n",
      "[Parallel(n_jobs=8)]: Using backend ThreadingBackend with 8 concurrent workers.\n",
      "[Parallel(n_jobs=8)]: Done  25 tasks      | elapsed:    0.0s\n",
      "[Parallel(n_jobs=8)]: Done 150 out of 150 | elapsed:    0.0s finished\n",
      "[Parallel(n_jobs=-1)]: Using backend LokyBackend with 8 concurrent workers.\n",
      "[Parallel(n_jobs=-1)]: Done  34 tasks      | elapsed:    0.0s\n",
      "[Parallel(n_jobs=-1)]: Done 150 out of 150 | elapsed:    0.1s finished\n",
      "[Parallel(n_jobs=8)]: Using backend ThreadingBackend with 8 concurrent workers.\n",
      "[Parallel(n_jobs=8)]: Done  25 tasks      | elapsed:    0.0s\n",
      "[Parallel(n_jobs=8)]: Done 150 out of 150 | elapsed:    0.0s finished\n",
      "[Parallel(n_jobs=-1)]: Using backend LokyBackend with 8 concurrent workers.\n",
      "[Parallel(n_jobs=-1)]: Done  34 tasks      | elapsed:    0.0s\n",
      "[Parallel(n_jobs=-1)]: Done 150 out of 150 | elapsed:    0.1s finished\n",
      "[Parallel(n_jobs=8)]: Using backend ThreadingBackend with 8 concurrent workers.\n",
      "[Parallel(n_jobs=8)]: Done  25 tasks      | elapsed:    0.0s\n",
      "[Parallel(n_jobs=8)]: Done 150 out of 150 | elapsed:    0.0s finished\n",
      "[Parallel(n_jobs=-1)]: Using backend LokyBackend with 8 concurrent workers.\n",
      "[Parallel(n_jobs=-1)]: Done  34 tasks      | elapsed:    0.0s\n",
      "[Parallel(n_jobs=-1)]: Done 200 out of 200 | elapsed:    0.1s finished\n",
      "[Parallel(n_jobs=8)]: Using backend ThreadingBackend with 8 concurrent workers.\n",
      "[Parallel(n_jobs=8)]: Done  25 tasks      | elapsed:    0.0s\n",
      "[Parallel(n_jobs=8)]: Done 146 tasks      | elapsed:    0.0s\n",
      "[Parallel(n_jobs=8)]: Done 200 out of 200 | elapsed:    0.0s finished\n",
      "[Parallel(n_jobs=-1)]: Using backend LokyBackend with 8 concurrent workers.\n",
      "[Parallel(n_jobs=-1)]: Done  34 tasks      | elapsed:    0.0s\n",
      "[Parallel(n_jobs=-1)]: Done 200 out of 200 | elapsed:    0.1s finished\n",
      "[Parallel(n_jobs=8)]: Using backend ThreadingBackend with 8 concurrent workers.\n",
      "[Parallel(n_jobs=8)]: Done  25 tasks      | elapsed:    0.0s\n",
      "[Parallel(n_jobs=8)]: Done 146 tasks      | elapsed:    0.0s\n",
      "[Parallel(n_jobs=8)]: Done 200 out of 200 | elapsed:    0.0s finished\n",
      "[Parallel(n_jobs=-1)]: Using backend LokyBackend with 8 concurrent workers.\n",
      "[Parallel(n_jobs=-1)]: Done  34 tasks      | elapsed:    0.0s\n",
      "[Parallel(n_jobs=-1)]: Done 200 out of 200 | elapsed:    0.1s finished\n",
      "[Parallel(n_jobs=8)]: Using backend ThreadingBackend with 8 concurrent workers.\n",
      "[Parallel(n_jobs=8)]: Done  25 tasks      | elapsed:    0.0s\n",
      "[Parallel(n_jobs=8)]: Done 146 tasks      | elapsed:    0.0s\n",
      "[Parallel(n_jobs=8)]: Done 200 out of 200 | elapsed:    0.0s finished\n",
      "[Parallel(n_jobs=-1)]: Using backend LokyBackend with 8 concurrent workers.\n",
      "[Parallel(n_jobs=-1)]: Done  34 tasks      | elapsed:    0.0s\n",
      "[Parallel(n_jobs=-1)]: Done 200 out of 200 | elapsed:    0.1s finished\n",
      "[Parallel(n_jobs=8)]: Using backend ThreadingBackend with 8 concurrent workers.\n",
      "[Parallel(n_jobs=8)]: Done  25 tasks      | elapsed:    0.0s\n",
      "[Parallel(n_jobs=8)]: Done 146 tasks      | elapsed:    0.0s\n",
      "[Parallel(n_jobs=8)]: Done 200 out of 200 | elapsed:    0.0s finished\n",
      "[Parallel(n_jobs=-1)]: Using backend LokyBackend with 8 concurrent workers.\n",
      "[Parallel(n_jobs=-1)]: Done  34 tasks      | elapsed:    0.0s\n",
      "[Parallel(n_jobs=-1)]: Done 200 out of 200 | elapsed:    0.1s finished\n",
      "[Parallel(n_jobs=8)]: Using backend ThreadingBackend with 8 concurrent workers.\n",
      "[Parallel(n_jobs=8)]: Done  25 tasks      | elapsed:    0.0s\n",
      "[Parallel(n_jobs=8)]: Done 146 tasks      | elapsed:    0.0s\n",
      "[Parallel(n_jobs=8)]: Done 200 out of 200 | elapsed:    0.0s finished\n",
      "[Parallel(n_jobs=-1)]: Using backend LokyBackend with 8 concurrent workers.\n",
      "[Parallel(n_jobs=-1)]: Done  34 tasks      | elapsed:    0.0s\n",
      "[Parallel(n_jobs=-1)]: Done 235 out of 250 | elapsed:    0.1s remaining:    0.0s\n",
      "[Parallel(n_jobs=-1)]: Done 250 out of 250 | elapsed:    0.1s finished\n",
      "[Parallel(n_jobs=8)]: Using backend ThreadingBackend with 8 concurrent workers.\n",
      "[Parallel(n_jobs=8)]: Done  25 tasks      | elapsed:    0.0s\n",
      "[Parallel(n_jobs=8)]: Done 146 tasks      | elapsed:    0.0s\n",
      "[Parallel(n_jobs=8)]: Done 250 out of 250 | elapsed:    0.0s finished\n",
      "[Parallel(n_jobs=-1)]: Using backend LokyBackend with 8 concurrent workers.\n",
      "[Parallel(n_jobs=-1)]: Done  34 tasks      | elapsed:    0.0s\n",
      "[Parallel(n_jobs=-1)]: Done 235 out of 250 | elapsed:    0.1s remaining:    0.0s\n",
      "[Parallel(n_jobs=-1)]: Done 250 out of 250 | elapsed:    0.1s finished\n",
      "[Parallel(n_jobs=8)]: Using backend ThreadingBackend with 8 concurrent workers.\n",
      "[Parallel(n_jobs=8)]: Done  25 tasks      | elapsed:    0.0s\n",
      "[Parallel(n_jobs=8)]: Done 146 tasks      | elapsed:    0.0s\n",
      "[Parallel(n_jobs=8)]: Done 250 out of 250 | elapsed:    0.0s finished\n",
      "[Parallel(n_jobs=-1)]: Using backend LokyBackend with 8 concurrent workers.\n",
      "[Parallel(n_jobs=-1)]: Done  34 tasks      | elapsed:    0.0s\n",
      "[Parallel(n_jobs=-1)]: Done 250 out of 250 | elapsed:    0.1s finished\n",
      "[Parallel(n_jobs=8)]: Using backend ThreadingBackend with 8 concurrent workers.\n",
      "[Parallel(n_jobs=8)]: Done  25 tasks      | elapsed:    0.0s\n",
      "[Parallel(n_jobs=8)]: Done 146 tasks      | elapsed:    0.0s\n",
      "[Parallel(n_jobs=8)]: Done 250 out of 250 | elapsed:    0.0s finished\n"
     ]
    },
    {
     "name": "stderr",
     "output_type": "stream",
     "text": [
      "[Parallel(n_jobs=-1)]: Using backend LokyBackend with 8 concurrent workers.\n",
      "[Parallel(n_jobs=-1)]: Done  34 tasks      | elapsed:    0.1s\n",
      "[Parallel(n_jobs=-1)]: Done 235 out of 250 | elapsed:    0.1s remaining:    0.0s\n",
      "[Parallel(n_jobs=-1)]: Done 250 out of 250 | elapsed:    0.1s finished\n",
      "[Parallel(n_jobs=8)]: Using backend ThreadingBackend with 8 concurrent workers.\n",
      "[Parallel(n_jobs=8)]: Done  25 tasks      | elapsed:    0.0s\n",
      "[Parallel(n_jobs=8)]: Done 146 tasks      | elapsed:    0.0s\n",
      "[Parallel(n_jobs=8)]: Done 250 out of 250 | elapsed:    0.0s finished\n",
      "[Parallel(n_jobs=-1)]: Using backend LokyBackend with 8 concurrent workers.\n",
      "[Parallel(n_jobs=-1)]: Done  34 tasks      | elapsed:    0.0s\n",
      "[Parallel(n_jobs=-1)]: Done 250 out of 250 | elapsed:    0.1s finished\n",
      "[Parallel(n_jobs=8)]: Using backend ThreadingBackend with 8 concurrent workers.\n",
      "[Parallel(n_jobs=8)]: Done  25 tasks      | elapsed:    0.0s\n",
      "[Parallel(n_jobs=8)]: Done 146 tasks      | elapsed:    0.0s\n",
      "[Parallel(n_jobs=8)]: Done 250 out of 250 | elapsed:    0.0s finished\n",
      "[Parallel(n_jobs=-1)]: Using backend LokyBackend with 8 concurrent workers.\n",
      "[Parallel(n_jobs=-1)]: Done  34 tasks      | elapsed:    0.0s\n",
      "[Parallel(n_jobs=-1)]: Done 300 out of 300 | elapsed:    0.1s finished\n",
      "[Parallel(n_jobs=8)]: Using backend ThreadingBackend with 8 concurrent workers.\n",
      "[Parallel(n_jobs=8)]: Done  25 tasks      | elapsed:    0.0s\n",
      "[Parallel(n_jobs=8)]: Done 146 tasks      | elapsed:    0.0s\n",
      "[Parallel(n_jobs=8)]: Done 300 out of 300 | elapsed:    0.0s finished\n",
      "[Parallel(n_jobs=-1)]: Using backend LokyBackend with 8 concurrent workers.\n",
      "[Parallel(n_jobs=-1)]: Done  34 tasks      | elapsed:    0.0s\n",
      "[Parallel(n_jobs=-1)]: Done 300 out of 300 | elapsed:    0.1s finished\n",
      "[Parallel(n_jobs=8)]: Using backend ThreadingBackend with 8 concurrent workers.\n",
      "[Parallel(n_jobs=8)]: Done  25 tasks      | elapsed:    0.0s\n",
      "[Parallel(n_jobs=8)]: Done 146 tasks      | elapsed:    0.0s\n",
      "[Parallel(n_jobs=8)]: Done 300 out of 300 | elapsed:    0.0s finished\n",
      "[Parallel(n_jobs=-1)]: Using backend LokyBackend with 8 concurrent workers.\n",
      "[Parallel(n_jobs=-1)]: Done  34 tasks      | elapsed:    0.0s\n",
      "[Parallel(n_jobs=-1)]: Done 300 out of 300 | elapsed:    0.1s finished\n",
      "[Parallel(n_jobs=8)]: Using backend ThreadingBackend with 8 concurrent workers.\n",
      "[Parallel(n_jobs=8)]: Done  25 tasks      | elapsed:    0.0s\n",
      "[Parallel(n_jobs=8)]: Done 146 tasks      | elapsed:    0.0s\n",
      "[Parallel(n_jobs=8)]: Done 300 out of 300 | elapsed:    0.0s finished\n",
      "[Parallel(n_jobs=-1)]: Using backend LokyBackend with 8 concurrent workers.\n",
      "[Parallel(n_jobs=-1)]: Done  34 tasks      | elapsed:    0.0s\n",
      "[Parallel(n_jobs=-1)]: Done 300 out of 300 | elapsed:    0.1s finished\n",
      "[Parallel(n_jobs=8)]: Using backend ThreadingBackend with 8 concurrent workers.\n",
      "[Parallel(n_jobs=8)]: Done  25 tasks      | elapsed:    0.0s\n",
      "[Parallel(n_jobs=8)]: Done 146 tasks      | elapsed:    0.0s\n",
      "[Parallel(n_jobs=8)]: Done 300 out of 300 | elapsed:    0.0s finished\n",
      "[Parallel(n_jobs=-1)]: Using backend LokyBackend with 8 concurrent workers.\n",
      "[Parallel(n_jobs=-1)]: Done  34 tasks      | elapsed:    0.0s\n",
      "[Parallel(n_jobs=-1)]: Done 300 out of 300 | elapsed:    0.1s finished\n",
      "[Parallel(n_jobs=8)]: Using backend ThreadingBackend with 8 concurrent workers.\n",
      "[Parallel(n_jobs=8)]: Done  25 tasks      | elapsed:    0.0s\n",
      "[Parallel(n_jobs=8)]: Done 146 tasks      | elapsed:    0.0s\n",
      "[Parallel(n_jobs=8)]: Done 300 out of 300 | elapsed:    0.0s finished\n",
      "[Parallel(n_jobs=-1)]: Using backend LokyBackend with 8 concurrent workers.\n",
      "[Parallel(n_jobs=-1)]: Done  34 tasks      | elapsed:    0.0s\n",
      "[Parallel(n_jobs=-1)]: Done 100 out of 100 | elapsed:    0.0s finished\n",
      "[Parallel(n_jobs=8)]: Using backend ThreadingBackend with 8 concurrent workers.\n",
      "[Parallel(n_jobs=8)]: Done  25 tasks      | elapsed:    0.0s\n",
      "[Parallel(n_jobs=8)]: Done 100 out of 100 | elapsed:    0.0s finished\n",
      "[Parallel(n_jobs=-1)]: Using backend LokyBackend with 8 concurrent workers.\n",
      "[Parallel(n_jobs=-1)]: Done  34 tasks      | elapsed:    0.0s\n",
      "[Parallel(n_jobs=-1)]: Done 100 out of 100 | elapsed:    0.0s finished\n",
      "[Parallel(n_jobs=8)]: Using backend ThreadingBackend with 8 concurrent workers.\n",
      "[Parallel(n_jobs=8)]: Done  25 tasks      | elapsed:    0.0s\n",
      "[Parallel(n_jobs=8)]: Done 100 out of 100 | elapsed:    0.0s finished\n",
      "[Parallel(n_jobs=-1)]: Using backend LokyBackend with 8 concurrent workers.\n",
      "[Parallel(n_jobs=-1)]: Done  34 tasks      | elapsed:    0.0s\n",
      "[Parallel(n_jobs=-1)]: Done 100 out of 100 | elapsed:    0.0s finished\n",
      "[Parallel(n_jobs=8)]: Using backend ThreadingBackend with 8 concurrent workers.\n",
      "[Parallel(n_jobs=8)]: Done  25 tasks      | elapsed:    0.0s\n",
      "[Parallel(n_jobs=8)]: Done 100 out of 100 | elapsed:    0.0s finished\n",
      "[Parallel(n_jobs=-1)]: Using backend LokyBackend with 8 concurrent workers.\n",
      "[Parallel(n_jobs=-1)]: Done  34 tasks      | elapsed:    0.0s\n",
      "[Parallel(n_jobs=-1)]: Done 100 out of 100 | elapsed:    0.0s finished\n",
      "[Parallel(n_jobs=8)]: Using backend ThreadingBackend with 8 concurrent workers.\n",
      "[Parallel(n_jobs=8)]: Done  25 tasks      | elapsed:    0.0s\n",
      "[Parallel(n_jobs=8)]: Done 100 out of 100 | elapsed:    0.0s finished\n",
      "[Parallel(n_jobs=-1)]: Using backend LokyBackend with 8 concurrent workers.\n",
      "[Parallel(n_jobs=-1)]: Done  34 tasks      | elapsed:    0.0s\n",
      "[Parallel(n_jobs=-1)]: Done 100 out of 100 | elapsed:    0.0s finished\n",
      "[Parallel(n_jobs=8)]: Using backend ThreadingBackend with 8 concurrent workers.\n",
      "[Parallel(n_jobs=8)]: Done  25 tasks      | elapsed:    0.0s\n",
      "[Parallel(n_jobs=8)]: Done 100 out of 100 | elapsed:    0.0s finished\n",
      "[Parallel(n_jobs=-1)]: Using backend LokyBackend with 8 concurrent workers.\n",
      "[Parallel(n_jobs=-1)]: Done  34 tasks      | elapsed:    0.0s\n",
      "[Parallel(n_jobs=-1)]: Done 150 out of 150 | elapsed:    0.1s finished\n",
      "[Parallel(n_jobs=8)]: Using backend ThreadingBackend with 8 concurrent workers.\n",
      "[Parallel(n_jobs=8)]: Done  25 tasks      | elapsed:    0.0s\n",
      "[Parallel(n_jobs=8)]: Done 150 out of 150 | elapsed:    0.0s finished\n",
      "[Parallel(n_jobs=-1)]: Using backend LokyBackend with 8 concurrent workers.\n",
      "[Parallel(n_jobs=-1)]: Done  34 tasks      | elapsed:    0.0s\n",
      "[Parallel(n_jobs=-1)]: Done 150 out of 150 | elapsed:    0.1s finished\n",
      "[Parallel(n_jobs=8)]: Using backend ThreadingBackend with 8 concurrent workers.\n",
      "[Parallel(n_jobs=8)]: Done  25 tasks      | elapsed:    0.0s\n",
      "[Parallel(n_jobs=8)]: Done 150 out of 150 | elapsed:    0.0s finished\n",
      "[Parallel(n_jobs=-1)]: Using backend LokyBackend with 8 concurrent workers.\n",
      "[Parallel(n_jobs=-1)]: Done  34 tasks      | elapsed:    0.0s\n",
      "[Parallel(n_jobs=-1)]: Done 150 out of 150 | elapsed:    0.1s finished\n",
      "[Parallel(n_jobs=8)]: Using backend ThreadingBackend with 8 concurrent workers.\n",
      "[Parallel(n_jobs=8)]: Done  25 tasks      | elapsed:    0.0s\n",
      "[Parallel(n_jobs=8)]: Done 150 out of 150 | elapsed:    0.0s finished\n",
      "[Parallel(n_jobs=-1)]: Using backend LokyBackend with 8 concurrent workers.\n",
      "[Parallel(n_jobs=-1)]: Done  34 tasks      | elapsed:    0.0s\n",
      "[Parallel(n_jobs=-1)]: Done 150 out of 150 | elapsed:    0.1s finished\n",
      "[Parallel(n_jobs=8)]: Using backend ThreadingBackend with 8 concurrent workers.\n",
      "[Parallel(n_jobs=8)]: Done  25 tasks      | elapsed:    0.0s\n",
      "[Parallel(n_jobs=8)]: Done 150 out of 150 | elapsed:    0.0s finished\n",
      "[Parallel(n_jobs=-1)]: Using backend LokyBackend with 8 concurrent workers.\n",
      "[Parallel(n_jobs=-1)]: Done  34 tasks      | elapsed:    0.0s\n",
      "[Parallel(n_jobs=-1)]: Done 150 out of 150 | elapsed:    0.1s finished\n",
      "[Parallel(n_jobs=8)]: Using backend ThreadingBackend with 8 concurrent workers.\n",
      "[Parallel(n_jobs=8)]: Done  25 tasks      | elapsed:    0.0s\n",
      "[Parallel(n_jobs=8)]: Done 150 out of 150 | elapsed:    0.0s finished\n",
      "[Parallel(n_jobs=-1)]: Using backend LokyBackend with 8 concurrent workers.\n",
      "[Parallel(n_jobs=-1)]: Done  34 tasks      | elapsed:    0.0s\n",
      "[Parallel(n_jobs=-1)]: Done 200 out of 200 | elapsed:    0.1s finished\n",
      "[Parallel(n_jobs=8)]: Using backend ThreadingBackend with 8 concurrent workers.\n",
      "[Parallel(n_jobs=8)]: Done  25 tasks      | elapsed:    0.0s\n",
      "[Parallel(n_jobs=8)]: Done 146 tasks      | elapsed:    0.0s\n",
      "[Parallel(n_jobs=8)]: Done 200 out of 200 | elapsed:    0.0s finished\n",
      "[Parallel(n_jobs=-1)]: Using backend LokyBackend with 8 concurrent workers.\n"
     ]
    },
    {
     "name": "stderr",
     "output_type": "stream",
     "text": [
      "[Parallel(n_jobs=-1)]: Done  34 tasks      | elapsed:    0.0s\n",
      "[Parallel(n_jobs=-1)]: Done 200 out of 200 | elapsed:    0.1s finished\n",
      "[Parallel(n_jobs=8)]: Using backend ThreadingBackend with 8 concurrent workers.\n",
      "[Parallel(n_jobs=8)]: Done  25 tasks      | elapsed:    0.0s\n",
      "[Parallel(n_jobs=8)]: Done 146 tasks      | elapsed:    0.0s\n",
      "[Parallel(n_jobs=8)]: Done 200 out of 200 | elapsed:    0.0s finished\n",
      "[Parallel(n_jobs=-1)]: Using backend LokyBackend with 8 concurrent workers.\n",
      "[Parallel(n_jobs=-1)]: Done  34 tasks      | elapsed:    0.0s\n",
      "[Parallel(n_jobs=-1)]: Done 200 out of 200 | elapsed:    0.1s finished\n",
      "[Parallel(n_jobs=8)]: Using backend ThreadingBackend with 8 concurrent workers.\n",
      "[Parallel(n_jobs=8)]: Done  25 tasks      | elapsed:    0.0s\n",
      "[Parallel(n_jobs=8)]: Done 146 tasks      | elapsed:    0.0s\n",
      "[Parallel(n_jobs=8)]: Done 200 out of 200 | elapsed:    0.0s finished\n",
      "[Parallel(n_jobs=-1)]: Using backend LokyBackend with 8 concurrent workers.\n",
      "[Parallel(n_jobs=-1)]: Done  34 tasks      | elapsed:    0.0s\n",
      "[Parallel(n_jobs=-1)]: Done 200 out of 200 | elapsed:    0.1s finished\n",
      "[Parallel(n_jobs=8)]: Using backend ThreadingBackend with 8 concurrent workers.\n",
      "[Parallel(n_jobs=8)]: Done  25 tasks      | elapsed:    0.0s\n",
      "[Parallel(n_jobs=8)]: Done 146 tasks      | elapsed:    0.0s\n",
      "[Parallel(n_jobs=8)]: Done 200 out of 200 | elapsed:    0.0s finished\n",
      "[Parallel(n_jobs=-1)]: Using backend LokyBackend with 8 concurrent workers.\n",
      "[Parallel(n_jobs=-1)]: Done  34 tasks      | elapsed:    0.0s\n",
      "[Parallel(n_jobs=-1)]: Done 200 out of 200 | elapsed:    0.1s finished\n",
      "[Parallel(n_jobs=8)]: Using backend ThreadingBackend with 8 concurrent workers.\n",
      "[Parallel(n_jobs=8)]: Done  25 tasks      | elapsed:    0.0s\n",
      "[Parallel(n_jobs=8)]: Done 146 tasks      | elapsed:    0.0s\n",
      "[Parallel(n_jobs=8)]: Done 200 out of 200 | elapsed:    0.0s finished\n",
      "[Parallel(n_jobs=-1)]: Using backend LokyBackend with 8 concurrent workers.\n",
      "[Parallel(n_jobs=-1)]: Done  34 tasks      | elapsed:    0.0s\n",
      "[Parallel(n_jobs=-1)]: Done 235 out of 250 | elapsed:    0.1s remaining:    0.0s\n",
      "[Parallel(n_jobs=-1)]: Done 250 out of 250 | elapsed:    0.1s finished\n",
      "[Parallel(n_jobs=8)]: Using backend ThreadingBackend with 8 concurrent workers.\n",
      "[Parallel(n_jobs=8)]: Done  25 tasks      | elapsed:    0.0s\n",
      "[Parallel(n_jobs=8)]: Done 146 tasks      | elapsed:    0.0s\n",
      "[Parallel(n_jobs=8)]: Done 250 out of 250 | elapsed:    0.0s finished\n",
      "[Parallel(n_jobs=-1)]: Using backend LokyBackend with 8 concurrent workers.\n",
      "[Parallel(n_jobs=-1)]: Done  34 tasks      | elapsed:    0.0s\n",
      "[Parallel(n_jobs=-1)]: Done 250 out of 250 | elapsed:    0.1s finished\n",
      "[Parallel(n_jobs=8)]: Using backend ThreadingBackend with 8 concurrent workers.\n",
      "[Parallel(n_jobs=8)]: Done  25 tasks      | elapsed:    0.0s\n",
      "[Parallel(n_jobs=8)]: Done 146 tasks      | elapsed:    0.0s\n",
      "[Parallel(n_jobs=8)]: Done 250 out of 250 | elapsed:    0.0s finished\n",
      "[Parallel(n_jobs=-1)]: Using backend LokyBackend with 8 concurrent workers.\n",
      "[Parallel(n_jobs=-1)]: Done  34 tasks      | elapsed:    0.0s\n",
      "[Parallel(n_jobs=-1)]: Done 250 out of 250 | elapsed:    0.1s finished\n",
      "[Parallel(n_jobs=8)]: Using backend ThreadingBackend with 8 concurrent workers.\n",
      "[Parallel(n_jobs=8)]: Done  25 tasks      | elapsed:    0.0s\n",
      "[Parallel(n_jobs=8)]: Done 146 tasks      | elapsed:    0.0s\n",
      "[Parallel(n_jobs=8)]: Done 250 out of 250 | elapsed:    0.0s finished\n",
      "[Parallel(n_jobs=-1)]: Using backend LokyBackend with 8 concurrent workers.\n",
      "[Parallel(n_jobs=-1)]: Done  34 tasks      | elapsed:    0.0s\n",
      "[Parallel(n_jobs=-1)]: Done 250 out of 250 | elapsed:    0.1s finished\n",
      "[Parallel(n_jobs=8)]: Using backend ThreadingBackend with 8 concurrent workers.\n",
      "[Parallel(n_jobs=8)]: Done  25 tasks      | elapsed:    0.0s\n",
      "[Parallel(n_jobs=8)]: Done 146 tasks      | elapsed:    0.0s\n",
      "[Parallel(n_jobs=8)]: Done 250 out of 250 | elapsed:    0.0s finished\n",
      "[Parallel(n_jobs=-1)]: Using backend LokyBackend with 8 concurrent workers.\n",
      "[Parallel(n_jobs=-1)]: Done  34 tasks      | elapsed:    0.0s\n",
      "[Parallel(n_jobs=-1)]: Done 250 out of 250 | elapsed:    0.1s finished\n",
      "[Parallel(n_jobs=8)]: Using backend ThreadingBackend with 8 concurrent workers.\n",
      "[Parallel(n_jobs=8)]: Done  25 tasks      | elapsed:    0.0s\n",
      "[Parallel(n_jobs=8)]: Done 146 tasks      | elapsed:    0.0s\n",
      "[Parallel(n_jobs=8)]: Done 250 out of 250 | elapsed:    0.0s finished\n",
      "[Parallel(n_jobs=-1)]: Using backend LokyBackend with 8 concurrent workers.\n",
      "[Parallel(n_jobs=-1)]: Done  34 tasks      | elapsed:    0.0s\n",
      "[Parallel(n_jobs=-1)]: Done 300 out of 300 | elapsed:    0.1s finished\n",
      "[Parallel(n_jobs=8)]: Using backend ThreadingBackend with 8 concurrent workers.\n",
      "[Parallel(n_jobs=8)]: Done  25 tasks      | elapsed:    0.0s\n",
      "[Parallel(n_jobs=8)]: Done 146 tasks      | elapsed:    0.0s\n",
      "[Parallel(n_jobs=8)]: Done 300 out of 300 | elapsed:    0.0s finished\n",
      "[Parallel(n_jobs=-1)]: Using backend LokyBackend with 8 concurrent workers.\n",
      "[Parallel(n_jobs=-1)]: Done  34 tasks      | elapsed:    0.0s\n",
      "[Parallel(n_jobs=-1)]: Done 300 out of 300 | elapsed:    0.1s finished\n",
      "[Parallel(n_jobs=8)]: Using backend ThreadingBackend with 8 concurrent workers.\n",
      "[Parallel(n_jobs=8)]: Done  25 tasks      | elapsed:    0.0s\n",
      "[Parallel(n_jobs=8)]: Done 146 tasks      | elapsed:    0.0s\n",
      "[Parallel(n_jobs=8)]: Done 300 out of 300 | elapsed:    0.0s finished\n",
      "[Parallel(n_jobs=-1)]: Using backend LokyBackend with 8 concurrent workers.\n",
      "[Parallel(n_jobs=-1)]: Done  34 tasks      | elapsed:    0.0s\n",
      "[Parallel(n_jobs=-1)]: Done 300 out of 300 | elapsed:    0.1s finished\n",
      "[Parallel(n_jobs=8)]: Using backend ThreadingBackend with 8 concurrent workers.\n",
      "[Parallel(n_jobs=8)]: Done  25 tasks      | elapsed:    0.0s\n",
      "[Parallel(n_jobs=8)]: Done 146 tasks      | elapsed:    0.0s\n",
      "[Parallel(n_jobs=8)]: Done 300 out of 300 | elapsed:    0.0s finished\n",
      "[Parallel(n_jobs=-1)]: Using backend LokyBackend with 8 concurrent workers.\n",
      "[Parallel(n_jobs=-1)]: Done  34 tasks      | elapsed:    0.0s\n",
      "[Parallel(n_jobs=-1)]: Done 300 out of 300 | elapsed:    0.1s finished\n",
      "[Parallel(n_jobs=8)]: Using backend ThreadingBackend with 8 concurrent workers.\n",
      "[Parallel(n_jobs=8)]: Done  25 tasks      | elapsed:    0.0s\n",
      "[Parallel(n_jobs=8)]: Done 146 tasks      | elapsed:    0.0s\n",
      "[Parallel(n_jobs=8)]: Done 300 out of 300 | elapsed:    0.0s finished\n",
      "[Parallel(n_jobs=-1)]: Using backend LokyBackend with 8 concurrent workers.\n",
      "[Parallel(n_jobs=-1)]: Done  34 tasks      | elapsed:    0.0s\n",
      "[Parallel(n_jobs=-1)]: Done 300 out of 300 | elapsed:    0.1s finished\n",
      "[Parallel(n_jobs=8)]: Using backend ThreadingBackend with 8 concurrent workers.\n",
      "[Parallel(n_jobs=8)]: Done  25 tasks      | elapsed:    0.0s\n",
      "[Parallel(n_jobs=8)]: Done 146 tasks      | elapsed:    0.0s\n",
      "[Parallel(n_jobs=8)]: Done 300 out of 300 | elapsed:    0.0s finished\n",
      "[Parallel(n_jobs=-1)]: Using backend LokyBackend with 8 concurrent workers.\n",
      "[Parallel(n_jobs=-1)]: Done  34 tasks      | elapsed:    0.0s\n",
      "[Parallel(n_jobs=-1)]: Done 100 out of 100 | elapsed:    0.1s finished\n",
      "[Parallel(n_jobs=8)]: Using backend ThreadingBackend with 8 concurrent workers.\n",
      "[Parallel(n_jobs=8)]: Done  25 tasks      | elapsed:    0.0s\n",
      "[Parallel(n_jobs=8)]: Done 100 out of 100 | elapsed:    0.0s finished\n",
      "[Parallel(n_jobs=-1)]: Using backend LokyBackend with 8 concurrent workers.\n",
      "[Parallel(n_jobs=-1)]: Done  34 tasks      | elapsed:    0.0s\n",
      "[Parallel(n_jobs=-1)]: Done 100 out of 100 | elapsed:    0.1s finished\n",
      "[Parallel(n_jobs=8)]: Using backend ThreadingBackend with 8 concurrent workers.\n",
      "[Parallel(n_jobs=8)]: Done  25 tasks      | elapsed:    0.0s\n",
      "[Parallel(n_jobs=8)]: Done 100 out of 100 | elapsed:    0.0s finished\n",
      "[Parallel(n_jobs=-1)]: Using backend LokyBackend with 8 concurrent workers.\n",
      "[Parallel(n_jobs=-1)]: Done  34 tasks      | elapsed:    0.0s\n",
      "[Parallel(n_jobs=-1)]: Done 100 out of 100 | elapsed:    0.1s finished\n",
      "[Parallel(n_jobs=8)]: Using backend ThreadingBackend with 8 concurrent workers.\n",
      "[Parallel(n_jobs=8)]: Done  25 tasks      | elapsed:    0.0s\n",
      "[Parallel(n_jobs=8)]: Done 100 out of 100 | elapsed:    0.0s finished\n",
      "[Parallel(n_jobs=-1)]: Using backend LokyBackend with 8 concurrent workers.\n",
      "[Parallel(n_jobs=-1)]: Done  34 tasks      | elapsed:    0.0s\n",
      "[Parallel(n_jobs=-1)]: Done 100 out of 100 | elapsed:    0.1s finished\n",
      "[Parallel(n_jobs=8)]: Using backend ThreadingBackend with 8 concurrent workers.\n",
      "[Parallel(n_jobs=8)]: Done  25 tasks      | elapsed:    0.0s\n",
      "[Parallel(n_jobs=8)]: Done 100 out of 100 | elapsed:    0.0s finished\n",
      "[Parallel(n_jobs=-1)]: Using backend LokyBackend with 8 concurrent workers.\n",
      "[Parallel(n_jobs=-1)]: Done  34 tasks      | elapsed:    0.0s\n",
      "[Parallel(n_jobs=-1)]: Done 100 out of 100 | elapsed:    0.1s finished\n",
      "[Parallel(n_jobs=8)]: Using backend ThreadingBackend with 8 concurrent workers.\n",
      "[Parallel(n_jobs=8)]: Done  25 tasks      | elapsed:    0.0s\n",
      "[Parallel(n_jobs=8)]: Done 100 out of 100 | elapsed:    0.0s finished\n"
     ]
    },
    {
     "name": "stderr",
     "output_type": "stream",
     "text": [
      "[Parallel(n_jobs=-1)]: Using backend LokyBackend with 8 concurrent workers.\n",
      "[Parallel(n_jobs=-1)]: Done  34 tasks      | elapsed:    0.0s\n",
      "[Parallel(n_jobs=-1)]: Done 150 out of 150 | elapsed:    0.1s finished\n",
      "[Parallel(n_jobs=8)]: Using backend ThreadingBackend with 8 concurrent workers.\n",
      "[Parallel(n_jobs=8)]: Done  25 tasks      | elapsed:    0.0s\n",
      "[Parallel(n_jobs=8)]: Done 150 out of 150 | elapsed:    0.0s finished\n",
      "[Parallel(n_jobs=-1)]: Using backend LokyBackend with 8 concurrent workers.\n",
      "[Parallel(n_jobs=-1)]: Done  34 tasks      | elapsed:    0.0s\n",
      "[Parallel(n_jobs=-1)]: Done 150 out of 150 | elapsed:    0.1s finished\n",
      "[Parallel(n_jobs=8)]: Using backend ThreadingBackend with 8 concurrent workers.\n",
      "[Parallel(n_jobs=8)]: Done  25 tasks      | elapsed:    0.0s\n",
      "[Parallel(n_jobs=8)]: Done 150 out of 150 | elapsed:    0.0s finished\n",
      "[Parallel(n_jobs=-1)]: Using backend LokyBackend with 8 concurrent workers.\n",
      "[Parallel(n_jobs=-1)]: Done  34 tasks      | elapsed:    0.0s\n",
      "[Parallel(n_jobs=-1)]: Done 150 out of 150 | elapsed:    0.1s finished\n",
      "[Parallel(n_jobs=8)]: Using backend ThreadingBackend with 8 concurrent workers.\n",
      "[Parallel(n_jobs=8)]: Done  25 tasks      | elapsed:    0.0s\n",
      "[Parallel(n_jobs=8)]: Done 150 out of 150 | elapsed:    0.0s finished\n",
      "[Parallel(n_jobs=-1)]: Using backend LokyBackend with 8 concurrent workers.\n",
      "[Parallel(n_jobs=-1)]: Done  34 tasks      | elapsed:    0.0s\n",
      "[Parallel(n_jobs=-1)]: Done 150 out of 150 | elapsed:    0.1s finished\n",
      "[Parallel(n_jobs=8)]: Using backend ThreadingBackend with 8 concurrent workers.\n",
      "[Parallel(n_jobs=8)]: Done  25 tasks      | elapsed:    0.0s\n",
      "[Parallel(n_jobs=8)]: Done 150 out of 150 | elapsed:    0.0s finished\n",
      "[Parallel(n_jobs=-1)]: Using backend LokyBackend with 8 concurrent workers.\n",
      "[Parallel(n_jobs=-1)]: Done  34 tasks      | elapsed:    0.0s\n",
      "[Parallel(n_jobs=-1)]: Done 150 out of 150 | elapsed:    0.1s finished\n",
      "[Parallel(n_jobs=8)]: Using backend ThreadingBackend with 8 concurrent workers.\n",
      "[Parallel(n_jobs=8)]: Done  25 tasks      | elapsed:    0.0s\n",
      "[Parallel(n_jobs=8)]: Done 150 out of 150 | elapsed:    0.0s finished\n",
      "[Parallel(n_jobs=-1)]: Using backend LokyBackend with 8 concurrent workers.\n",
      "[Parallel(n_jobs=-1)]: Done  34 tasks      | elapsed:    0.0s\n",
      "[Parallel(n_jobs=-1)]: Done 200 out of 200 | elapsed:    0.1s finished\n",
      "[Parallel(n_jobs=8)]: Using backend ThreadingBackend with 8 concurrent workers.\n",
      "[Parallel(n_jobs=8)]: Done  25 tasks      | elapsed:    0.0s\n",
      "[Parallel(n_jobs=8)]: Done 146 tasks      | elapsed:    0.0s\n",
      "[Parallel(n_jobs=8)]: Done 200 out of 200 | elapsed:    0.0s finished\n",
      "[Parallel(n_jobs=-1)]: Using backend LokyBackend with 8 concurrent workers.\n",
      "[Parallel(n_jobs=-1)]: Done  34 tasks      | elapsed:    0.0s\n",
      "[Parallel(n_jobs=-1)]: Done 200 out of 200 | elapsed:    0.1s finished\n",
      "[Parallel(n_jobs=8)]: Using backend ThreadingBackend with 8 concurrent workers.\n",
      "[Parallel(n_jobs=8)]: Done  25 tasks      | elapsed:    0.0s\n",
      "[Parallel(n_jobs=8)]: Done 146 tasks      | elapsed:    0.0s\n",
      "[Parallel(n_jobs=8)]: Done 200 out of 200 | elapsed:    0.0s finished\n",
      "[Parallel(n_jobs=-1)]: Using backend LokyBackend with 8 concurrent workers.\n",
      "[Parallel(n_jobs=-1)]: Done  34 tasks      | elapsed:    0.0s\n",
      "[Parallel(n_jobs=-1)]: Done 200 out of 200 | elapsed:    0.1s finished\n",
      "[Parallel(n_jobs=8)]: Using backend ThreadingBackend with 8 concurrent workers.\n",
      "[Parallel(n_jobs=8)]: Done  25 tasks      | elapsed:    0.0s\n",
      "[Parallel(n_jobs=8)]: Done 146 tasks      | elapsed:    0.0s\n",
      "[Parallel(n_jobs=8)]: Done 200 out of 200 | elapsed:    0.0s finished\n",
      "[Parallel(n_jobs=-1)]: Using backend LokyBackend with 8 concurrent workers.\n",
      "[Parallel(n_jobs=-1)]: Done  34 tasks      | elapsed:    0.0s\n",
      "[Parallel(n_jobs=-1)]: Done 200 out of 200 | elapsed:    0.1s finished\n",
      "[Parallel(n_jobs=8)]: Using backend ThreadingBackend with 8 concurrent workers.\n",
      "[Parallel(n_jobs=8)]: Done  25 tasks      | elapsed:    0.0s\n",
      "[Parallel(n_jobs=8)]: Done 146 tasks      | elapsed:    0.0s\n",
      "[Parallel(n_jobs=8)]: Done 200 out of 200 | elapsed:    0.0s finished\n",
      "[Parallel(n_jobs=-1)]: Using backend LokyBackend with 8 concurrent workers.\n",
      "[Parallel(n_jobs=-1)]: Done  34 tasks      | elapsed:    0.0s\n",
      "[Parallel(n_jobs=-1)]: Done 200 out of 200 | elapsed:    0.1s finished\n",
      "[Parallel(n_jobs=8)]: Using backend ThreadingBackend with 8 concurrent workers.\n",
      "[Parallel(n_jobs=8)]: Done  25 tasks      | elapsed:    0.0s\n",
      "[Parallel(n_jobs=8)]: Done 146 tasks      | elapsed:    0.0s\n",
      "[Parallel(n_jobs=8)]: Done 200 out of 200 | elapsed:    0.0s finished\n",
      "[Parallel(n_jobs=-1)]: Using backend LokyBackend with 8 concurrent workers.\n",
      "[Parallel(n_jobs=-1)]: Done  34 tasks      | elapsed:    0.0s\n",
      "[Parallel(n_jobs=-1)]: Done 250 out of 250 | elapsed:    0.1s finished\n",
      "[Parallel(n_jobs=8)]: Using backend ThreadingBackend with 8 concurrent workers.\n",
      "[Parallel(n_jobs=8)]: Done  25 tasks      | elapsed:    0.0s\n",
      "[Parallel(n_jobs=8)]: Done 146 tasks      | elapsed:    0.0s\n",
      "[Parallel(n_jobs=8)]: Done 250 out of 250 | elapsed:    0.0s finished\n",
      "[Parallel(n_jobs=-1)]: Using backend LokyBackend with 8 concurrent workers.\n",
      "[Parallel(n_jobs=-1)]: Done  34 tasks      | elapsed:    0.0s\n",
      "[Parallel(n_jobs=-1)]: Done 250 out of 250 | elapsed:    0.1s finished\n",
      "[Parallel(n_jobs=8)]: Using backend ThreadingBackend with 8 concurrent workers.\n",
      "[Parallel(n_jobs=8)]: Done  25 tasks      | elapsed:    0.0s\n",
      "[Parallel(n_jobs=8)]: Done 146 tasks      | elapsed:    0.0s\n",
      "[Parallel(n_jobs=8)]: Done 250 out of 250 | elapsed:    0.0s finished\n",
      "[Parallel(n_jobs=-1)]: Using backend LokyBackend with 8 concurrent workers.\n",
      "[Parallel(n_jobs=-1)]: Done  34 tasks      | elapsed:    0.0s\n",
      "[Parallel(n_jobs=-1)]: Done 250 out of 250 | elapsed:    0.1s finished\n",
      "[Parallel(n_jobs=8)]: Using backend ThreadingBackend with 8 concurrent workers.\n",
      "[Parallel(n_jobs=8)]: Done  25 tasks      | elapsed:    0.0s\n",
      "[Parallel(n_jobs=8)]: Done 146 tasks      | elapsed:    0.0s\n",
      "[Parallel(n_jobs=8)]: Done 250 out of 250 | elapsed:    0.0s finished\n",
      "[Parallel(n_jobs=-1)]: Using backend LokyBackend with 8 concurrent workers.\n",
      "[Parallel(n_jobs=-1)]: Done  34 tasks      | elapsed:    0.0s\n",
      "[Parallel(n_jobs=-1)]: Done 250 out of 250 | elapsed:    0.1s finished\n",
      "[Parallel(n_jobs=8)]: Using backend ThreadingBackend with 8 concurrent workers.\n",
      "[Parallel(n_jobs=8)]: Done  25 tasks      | elapsed:    0.0s\n",
      "[Parallel(n_jobs=8)]: Done 146 tasks      | elapsed:    0.0s\n",
      "[Parallel(n_jobs=8)]: Done 250 out of 250 | elapsed:    0.0s finished\n",
      "[Parallel(n_jobs=-1)]: Using backend LokyBackend with 8 concurrent workers.\n",
      "[Parallel(n_jobs=-1)]: Done  34 tasks      | elapsed:    0.0s\n",
      "[Parallel(n_jobs=-1)]: Done 250 out of 250 | elapsed:    0.1s finished\n",
      "[Parallel(n_jobs=8)]: Using backend ThreadingBackend with 8 concurrent workers.\n",
      "[Parallel(n_jobs=8)]: Done  25 tasks      | elapsed:    0.0s\n",
      "[Parallel(n_jobs=8)]: Done 146 tasks      | elapsed:    0.0s\n",
      "[Parallel(n_jobs=8)]: Done 250 out of 250 | elapsed:    0.0s finished\n",
      "[Parallel(n_jobs=-1)]: Using backend LokyBackend with 8 concurrent workers.\n",
      "[Parallel(n_jobs=-1)]: Done  34 tasks      | elapsed:    0.0s\n",
      "[Parallel(n_jobs=-1)]: Done 300 out of 300 | elapsed:    0.1s finished\n",
      "[Parallel(n_jobs=8)]: Using backend ThreadingBackend with 8 concurrent workers.\n",
      "[Parallel(n_jobs=8)]: Done  25 tasks      | elapsed:    0.0s\n",
      "[Parallel(n_jobs=8)]: Done 146 tasks      | elapsed:    0.0s\n",
      "[Parallel(n_jobs=8)]: Done 300 out of 300 | elapsed:    0.0s finished\n",
      "[Parallel(n_jobs=-1)]: Using backend LokyBackend with 8 concurrent workers.\n",
      "[Parallel(n_jobs=-1)]: Done  34 tasks      | elapsed:    0.0s\n",
      "[Parallel(n_jobs=-1)]: Done 300 out of 300 | elapsed:    0.1s finished\n",
      "[Parallel(n_jobs=8)]: Using backend ThreadingBackend with 8 concurrent workers.\n",
      "[Parallel(n_jobs=8)]: Done  25 tasks      | elapsed:    0.0s\n",
      "[Parallel(n_jobs=8)]: Done 146 tasks      | elapsed:    0.0s\n",
      "[Parallel(n_jobs=8)]: Done 300 out of 300 | elapsed:    0.0s finished\n",
      "[Parallel(n_jobs=-1)]: Using backend LokyBackend with 8 concurrent workers.\n",
      "[Parallel(n_jobs=-1)]: Done  34 tasks      | elapsed:    0.0s\n",
      "[Parallel(n_jobs=-1)]: Done 300 out of 300 | elapsed:    0.1s finished\n",
      "[Parallel(n_jobs=8)]: Using backend ThreadingBackend with 8 concurrent workers.\n",
      "[Parallel(n_jobs=8)]: Done  25 tasks      | elapsed:    0.0s\n",
      "[Parallel(n_jobs=8)]: Done 146 tasks      | elapsed:    0.0s\n",
      "[Parallel(n_jobs=8)]: Done 300 out of 300 | elapsed:    0.0s finished\n",
      "[Parallel(n_jobs=-1)]: Using backend LokyBackend with 8 concurrent workers.\n",
      "[Parallel(n_jobs=-1)]: Done  34 tasks      | elapsed:    0.0s\n"
     ]
    },
    {
     "name": "stderr",
     "output_type": "stream",
     "text": [
      "[Parallel(n_jobs=-1)]: Done 300 out of 300 | elapsed:    0.1s finished\n",
      "[Parallel(n_jobs=8)]: Using backend ThreadingBackend with 8 concurrent workers.\n",
      "[Parallel(n_jobs=8)]: Done  25 tasks      | elapsed:    0.0s\n",
      "[Parallel(n_jobs=8)]: Done 146 tasks      | elapsed:    0.0s\n",
      "[Parallel(n_jobs=8)]: Done 300 out of 300 | elapsed:    0.0s finished\n",
      "[Parallel(n_jobs=-1)]: Using backend LokyBackend with 8 concurrent workers.\n",
      "[Parallel(n_jobs=-1)]: Done  34 tasks      | elapsed:    0.0s\n",
      "[Parallel(n_jobs=-1)]: Done 300 out of 300 | elapsed:    0.1s finished\n",
      "[Parallel(n_jobs=8)]: Using backend ThreadingBackend with 8 concurrent workers.\n",
      "[Parallel(n_jobs=8)]: Done  25 tasks      | elapsed:    0.0s\n",
      "[Parallel(n_jobs=8)]: Done 146 tasks      | elapsed:    0.0s\n",
      "[Parallel(n_jobs=8)]: Done 300 out of 300 | elapsed:    0.0s finished\n",
      "[Parallel(n_jobs=-1)]: Using backend LokyBackend with 8 concurrent workers.\n",
      "[Parallel(n_jobs=-1)]: Done  34 tasks      | elapsed:    0.0s\n",
      "[Parallel(n_jobs=-1)]: Done 100 out of 100 | elapsed:    0.1s finished\n",
      "[Parallel(n_jobs=8)]: Using backend ThreadingBackend with 8 concurrent workers.\n",
      "[Parallel(n_jobs=8)]: Done  25 tasks      | elapsed:    0.0s\n",
      "[Parallel(n_jobs=8)]: Done 100 out of 100 | elapsed:    0.0s finished\n",
      "[Parallel(n_jobs=-1)]: Using backend LokyBackend with 8 concurrent workers.\n",
      "[Parallel(n_jobs=-1)]: Done  34 tasks      | elapsed:    0.0s\n",
      "[Parallel(n_jobs=-1)]: Done 100 out of 100 | elapsed:    0.1s finished\n",
      "[Parallel(n_jobs=8)]: Using backend ThreadingBackend with 8 concurrent workers.\n",
      "[Parallel(n_jobs=8)]: Done  25 tasks      | elapsed:    0.0s\n",
      "[Parallel(n_jobs=8)]: Done 100 out of 100 | elapsed:    0.0s finished\n",
      "[Parallel(n_jobs=-1)]: Using backend LokyBackend with 8 concurrent workers.\n",
      "[Parallel(n_jobs=-1)]: Done  34 tasks      | elapsed:    0.0s\n",
      "[Parallel(n_jobs=-1)]: Done 100 out of 100 | elapsed:    0.1s finished\n",
      "[Parallel(n_jobs=8)]: Using backend ThreadingBackend with 8 concurrent workers.\n",
      "[Parallel(n_jobs=8)]: Done  25 tasks      | elapsed:    0.0s\n",
      "[Parallel(n_jobs=8)]: Done 100 out of 100 | elapsed:    0.0s finished\n",
      "[Parallel(n_jobs=-1)]: Using backend LokyBackend with 8 concurrent workers.\n",
      "[Parallel(n_jobs=-1)]: Done  34 tasks      | elapsed:    0.0s\n",
      "[Parallel(n_jobs=-1)]: Done 100 out of 100 | elapsed:    0.1s finished\n",
      "[Parallel(n_jobs=8)]: Using backend ThreadingBackend with 8 concurrent workers.\n",
      "[Parallel(n_jobs=8)]: Done  25 tasks      | elapsed:    0.0s\n",
      "[Parallel(n_jobs=8)]: Done 100 out of 100 | elapsed:    0.0s finished\n",
      "[Parallel(n_jobs=-1)]: Using backend LokyBackend with 8 concurrent workers.\n",
      "[Parallel(n_jobs=-1)]: Done  34 tasks      | elapsed:    0.0s\n",
      "[Parallel(n_jobs=-1)]: Done 100 out of 100 | elapsed:    0.1s finished\n",
      "[Parallel(n_jobs=8)]: Using backend ThreadingBackend with 8 concurrent workers.\n",
      "[Parallel(n_jobs=8)]: Done  25 tasks      | elapsed:    0.0s\n",
      "[Parallel(n_jobs=8)]: Done 100 out of 100 | elapsed:    0.0s finished\n",
      "[Parallel(n_jobs=-1)]: Using backend LokyBackend with 8 concurrent workers.\n",
      "[Parallel(n_jobs=-1)]: Done  34 tasks      | elapsed:    0.0s\n",
      "[Parallel(n_jobs=-1)]: Done 150 out of 150 | elapsed:    0.1s finished\n",
      "[Parallel(n_jobs=8)]: Using backend ThreadingBackend with 8 concurrent workers.\n",
      "[Parallel(n_jobs=8)]: Done  25 tasks      | elapsed:    0.0s\n",
      "[Parallel(n_jobs=8)]: Done 150 out of 150 | elapsed:    0.0s finished\n",
      "[Parallel(n_jobs=-1)]: Using backend LokyBackend with 8 concurrent workers.\n",
      "[Parallel(n_jobs=-1)]: Done  34 tasks      | elapsed:    0.0s\n",
      "[Parallel(n_jobs=-1)]: Done 150 out of 150 | elapsed:    0.1s finished\n",
      "[Parallel(n_jobs=8)]: Using backend ThreadingBackend with 8 concurrent workers.\n",
      "[Parallel(n_jobs=8)]: Done  25 tasks      | elapsed:    0.0s\n",
      "[Parallel(n_jobs=8)]: Done 150 out of 150 | elapsed:    0.0s finished\n",
      "[Parallel(n_jobs=-1)]: Using backend LokyBackend with 8 concurrent workers.\n",
      "[Parallel(n_jobs=-1)]: Done  34 tasks      | elapsed:    0.0s\n",
      "[Parallel(n_jobs=-1)]: Done 150 out of 150 | elapsed:    0.1s finished\n",
      "[Parallel(n_jobs=8)]: Using backend ThreadingBackend with 8 concurrent workers.\n",
      "[Parallel(n_jobs=8)]: Done  25 tasks      | elapsed:    0.0s\n",
      "[Parallel(n_jobs=8)]: Done 150 out of 150 | elapsed:    0.0s finished\n",
      "[Parallel(n_jobs=-1)]: Using backend LokyBackend with 8 concurrent workers.\n",
      "[Parallel(n_jobs=-1)]: Done  34 tasks      | elapsed:    0.0s\n",
      "[Parallel(n_jobs=-1)]: Done 150 out of 150 | elapsed:    0.1s finished\n",
      "[Parallel(n_jobs=8)]: Using backend ThreadingBackend with 8 concurrent workers.\n",
      "[Parallel(n_jobs=8)]: Done  25 tasks      | elapsed:    0.0s\n",
      "[Parallel(n_jobs=8)]: Done 150 out of 150 | elapsed:    0.0s finished\n",
      "[Parallel(n_jobs=-1)]: Using backend LokyBackend with 8 concurrent workers.\n",
      "[Parallel(n_jobs=-1)]: Done  34 tasks      | elapsed:    0.0s\n",
      "[Parallel(n_jobs=-1)]: Done 150 out of 150 | elapsed:    0.1s finished\n",
      "[Parallel(n_jobs=8)]: Using backend ThreadingBackend with 8 concurrent workers.\n",
      "[Parallel(n_jobs=8)]: Done  25 tasks      | elapsed:    0.0s\n",
      "[Parallel(n_jobs=8)]: Done 150 out of 150 | elapsed:    0.0s finished\n",
      "[Parallel(n_jobs=-1)]: Using backend LokyBackend with 8 concurrent workers.\n",
      "[Parallel(n_jobs=-1)]: Done  34 tasks      | elapsed:    0.0s\n",
      "[Parallel(n_jobs=-1)]: Done 200 out of 200 | elapsed:    0.1s finished\n",
      "[Parallel(n_jobs=8)]: Using backend ThreadingBackend with 8 concurrent workers.\n",
      "[Parallel(n_jobs=8)]: Done  25 tasks      | elapsed:    0.0s\n",
      "[Parallel(n_jobs=8)]: Done 146 tasks      | elapsed:    0.0s\n",
      "[Parallel(n_jobs=8)]: Done 200 out of 200 | elapsed:    0.0s finished\n",
      "[Parallel(n_jobs=-1)]: Using backend LokyBackend with 8 concurrent workers.\n",
      "[Parallel(n_jobs=-1)]: Done  34 tasks      | elapsed:    0.0s\n",
      "[Parallel(n_jobs=-1)]: Done 200 out of 200 | elapsed:    0.1s finished\n",
      "[Parallel(n_jobs=8)]: Using backend ThreadingBackend with 8 concurrent workers.\n",
      "[Parallel(n_jobs=8)]: Done  25 tasks      | elapsed:    0.0s\n",
      "[Parallel(n_jobs=8)]: Done 146 tasks      | elapsed:    0.0s\n",
      "[Parallel(n_jobs=8)]: Done 200 out of 200 | elapsed:    0.0s finished\n",
      "[Parallel(n_jobs=-1)]: Using backend LokyBackend with 8 concurrent workers.\n",
      "[Parallel(n_jobs=-1)]: Done  34 tasks      | elapsed:    0.0s\n",
      "[Parallel(n_jobs=-1)]: Done 200 out of 200 | elapsed:    0.1s finished\n",
      "[Parallel(n_jobs=8)]: Using backend ThreadingBackend with 8 concurrent workers.\n",
      "[Parallel(n_jobs=8)]: Done  25 tasks      | elapsed:    0.0s\n",
      "[Parallel(n_jobs=8)]: Done 146 tasks      | elapsed:    0.0s\n",
      "[Parallel(n_jobs=8)]: Done 200 out of 200 | elapsed:    0.0s finished\n",
      "[Parallel(n_jobs=-1)]: Using backend LokyBackend with 8 concurrent workers.\n",
      "[Parallel(n_jobs=-1)]: Done  34 tasks      | elapsed:    0.0s\n",
      "[Parallel(n_jobs=-1)]: Done 200 out of 200 | elapsed:    0.1s finished\n",
      "[Parallel(n_jobs=8)]: Using backend ThreadingBackend with 8 concurrent workers.\n",
      "[Parallel(n_jobs=8)]: Done  25 tasks      | elapsed:    0.0s\n",
      "[Parallel(n_jobs=8)]: Done 146 tasks      | elapsed:    0.0s\n",
      "[Parallel(n_jobs=8)]: Done 200 out of 200 | elapsed:    0.0s finished\n",
      "[Parallel(n_jobs=-1)]: Using backend LokyBackend with 8 concurrent workers.\n",
      "[Parallel(n_jobs=-1)]: Done  34 tasks      | elapsed:    0.0s\n",
      "[Parallel(n_jobs=-1)]: Done 200 out of 200 | elapsed:    0.1s finished\n",
      "[Parallel(n_jobs=8)]: Using backend ThreadingBackend with 8 concurrent workers.\n",
      "[Parallel(n_jobs=8)]: Done  25 tasks      | elapsed:    0.0s\n",
      "[Parallel(n_jobs=8)]: Done 146 tasks      | elapsed:    0.0s\n",
      "[Parallel(n_jobs=8)]: Done 200 out of 200 | elapsed:    0.0s finished\n",
      "[Parallel(n_jobs=-1)]: Using backend LokyBackend with 8 concurrent workers.\n",
      "[Parallel(n_jobs=-1)]: Done  34 tasks      | elapsed:    0.0s\n",
      "[Parallel(n_jobs=-1)]: Done 250 out of 250 | elapsed:    0.1s finished\n",
      "[Parallel(n_jobs=8)]: Using backend ThreadingBackend with 8 concurrent workers.\n",
      "[Parallel(n_jobs=8)]: Done  25 tasks      | elapsed:    0.0s\n",
      "[Parallel(n_jobs=8)]: Done 146 tasks      | elapsed:    0.0s\n",
      "[Parallel(n_jobs=8)]: Done 250 out of 250 | elapsed:    0.0s finished\n",
      "[Parallel(n_jobs=-1)]: Using backend LokyBackend with 8 concurrent workers.\n",
      "[Parallel(n_jobs=-1)]: Done  34 tasks      | elapsed:    0.0s\n",
      "[Parallel(n_jobs=-1)]: Done 250 out of 250 | elapsed:    0.1s finished\n",
      "[Parallel(n_jobs=8)]: Using backend ThreadingBackend with 8 concurrent workers.\n",
      "[Parallel(n_jobs=8)]: Done  25 tasks      | elapsed:    0.0s\n",
      "[Parallel(n_jobs=8)]: Done 146 tasks      | elapsed:    0.0s\n",
      "[Parallel(n_jobs=8)]: Done 250 out of 250 | elapsed:    0.0s finished\n"
     ]
    },
    {
     "name": "stderr",
     "output_type": "stream",
     "text": [
      "[Parallel(n_jobs=-1)]: Using backend LokyBackend with 8 concurrent workers.\n",
      "[Parallel(n_jobs=-1)]: Done  34 tasks      | elapsed:    0.0s\n",
      "[Parallel(n_jobs=-1)]: Done 235 out of 250 | elapsed:    0.1s remaining:    0.0s\n",
      "[Parallel(n_jobs=-1)]: Done 250 out of 250 | elapsed:    0.1s finished\n",
      "[Parallel(n_jobs=8)]: Using backend ThreadingBackend with 8 concurrent workers.\n",
      "[Parallel(n_jobs=8)]: Done  25 tasks      | elapsed:    0.0s\n",
      "[Parallel(n_jobs=8)]: Done 146 tasks      | elapsed:    0.0s\n",
      "[Parallel(n_jobs=8)]: Done 250 out of 250 | elapsed:    0.0s finished\n",
      "[Parallel(n_jobs=-1)]: Using backend LokyBackend with 8 concurrent workers.\n",
      "[Parallel(n_jobs=-1)]: Done  34 tasks      | elapsed:    0.0s\n",
      "[Parallel(n_jobs=-1)]: Done 235 out of 250 | elapsed:    0.1s remaining:    0.0s\n",
      "[Parallel(n_jobs=-1)]: Done 250 out of 250 | elapsed:    0.1s finished\n",
      "[Parallel(n_jobs=8)]: Using backend ThreadingBackend with 8 concurrent workers.\n",
      "[Parallel(n_jobs=8)]: Done  25 tasks      | elapsed:    0.0s\n",
      "[Parallel(n_jobs=8)]: Done 146 tasks      | elapsed:    0.0s\n",
      "[Parallel(n_jobs=8)]: Done 250 out of 250 | elapsed:    0.0s finished\n",
      "[Parallel(n_jobs=-1)]: Using backend LokyBackend with 8 concurrent workers.\n",
      "[Parallel(n_jobs=-1)]: Done  34 tasks      | elapsed:    0.0s\n",
      "[Parallel(n_jobs=-1)]: Done 250 out of 250 | elapsed:    0.1s finished\n",
      "[Parallel(n_jobs=8)]: Using backend ThreadingBackend with 8 concurrent workers.\n",
      "[Parallel(n_jobs=8)]: Done  25 tasks      | elapsed:    0.0s\n",
      "[Parallel(n_jobs=8)]: Done 146 tasks      | elapsed:    0.0s\n",
      "[Parallel(n_jobs=8)]: Done 250 out of 250 | elapsed:    0.0s finished\n",
      "[Parallel(n_jobs=-1)]: Using backend LokyBackend with 8 concurrent workers.\n",
      "[Parallel(n_jobs=-1)]: Done  34 tasks      | elapsed:    0.0s\n",
      "[Parallel(n_jobs=-1)]: Done 300 out of 300 | elapsed:    0.2s finished\n",
      "[Parallel(n_jobs=8)]: Using backend ThreadingBackend with 8 concurrent workers.\n",
      "[Parallel(n_jobs=8)]: Done  25 tasks      | elapsed:    0.0s\n",
      "[Parallel(n_jobs=8)]: Done 146 tasks      | elapsed:    0.0s\n",
      "[Parallel(n_jobs=8)]: Done 300 out of 300 | elapsed:    0.0s finished\n",
      "[Parallel(n_jobs=-1)]: Using backend LokyBackend with 8 concurrent workers.\n",
      "[Parallel(n_jobs=-1)]: Done  34 tasks      | elapsed:    0.0s\n",
      "[Parallel(n_jobs=-1)]: Done 300 out of 300 | elapsed:    0.2s finished\n",
      "[Parallel(n_jobs=8)]: Using backend ThreadingBackend with 8 concurrent workers.\n",
      "[Parallel(n_jobs=8)]: Done  25 tasks      | elapsed:    0.0s\n",
      "[Parallel(n_jobs=8)]: Done 146 tasks      | elapsed:    0.0s\n",
      "[Parallel(n_jobs=8)]: Done 300 out of 300 | elapsed:    0.0s finished\n",
      "[Parallel(n_jobs=-1)]: Using backend LokyBackend with 8 concurrent workers.\n",
      "[Parallel(n_jobs=-1)]: Done  34 tasks      | elapsed:    0.0s\n",
      "[Parallel(n_jobs=-1)]: Done 300 out of 300 | elapsed:    0.1s finished\n",
      "[Parallel(n_jobs=8)]: Using backend ThreadingBackend with 8 concurrent workers.\n",
      "[Parallel(n_jobs=8)]: Done  25 tasks      | elapsed:    0.0s\n",
      "[Parallel(n_jobs=8)]: Done 146 tasks      | elapsed:    0.0s\n",
      "[Parallel(n_jobs=8)]: Done 300 out of 300 | elapsed:    0.0s finished\n",
      "[Parallel(n_jobs=-1)]: Using backend LokyBackend with 8 concurrent workers.\n",
      "[Parallel(n_jobs=-1)]: Done  34 tasks      | elapsed:    0.0s\n",
      "[Parallel(n_jobs=-1)]: Done 300 out of 300 | elapsed:    0.1s finished\n",
      "[Parallel(n_jobs=8)]: Using backend ThreadingBackend with 8 concurrent workers.\n",
      "[Parallel(n_jobs=8)]: Done  25 tasks      | elapsed:    0.0s\n",
      "[Parallel(n_jobs=8)]: Done 146 tasks      | elapsed:    0.0s\n",
      "[Parallel(n_jobs=8)]: Done 300 out of 300 | elapsed:    0.0s finished\n",
      "[Parallel(n_jobs=-1)]: Using backend LokyBackend with 8 concurrent workers.\n",
      "[Parallel(n_jobs=-1)]: Done  34 tasks      | elapsed:    0.0s\n"
     ]
    },
    {
     "name": "stdout",
     "output_type": "stream",
     "text": [
      "building tree 1 of 150\n",
      "building tree 2 of 150building tree 3 of 150building tree 4 of 150\n",
      "building tree 5 of 150\n",
      "building tree 6 of 150\n",
      "\n",
      "\n",
      "building tree 7 of 150\n",
      "building tree 8 of 150\n",
      "building tree 9 of 150building tree 10 of 150\n",
      "\n",
      "building tree 11 of 150\n",
      "building tree 12 of 150building tree 13 of 150building tree 14 of 150building tree 15 of 150\n",
      "\n",
      "\n",
      "building tree 16 of 150\n",
      "\n",
      "building tree 17 of 150\n",
      "building tree 18 of 150building tree 19 of 150\n",
      "\n",
      "building tree 20 of 150\n",
      "building tree 21 of 150\n",
      "building tree 22 of 150building tree 23 of 150\n",
      "\n",
      "building tree 24 of 150\n",
      "building tree 25 of 150\n",
      "building tree 26 of 150\n",
      "building tree 27 of 150\n",
      "building tree 28 of 150building tree 29 of 150\n",
      "\n",
      "building tree 30 of 150\n",
      "building tree 31 of 150\n",
      "building tree 32 of 150\n",
      "building tree 33 of 150building tree 34 of 150\n",
      "\n",
      "building tree 35 of 150\n",
      "building tree 36 of 150\n",
      "building tree 37 of 150building tree 38 of 150\n",
      "\n",
      "building tree 39 of 150\n",
      "building tree 40 of 150\n",
      "building tree 41 of 150\n",
      "building tree 42 of 150\n",
      "building tree 43 of 150\n",
      "building tree 44 of 150\n",
      "building tree 45 of 150\n",
      "building tree 46 of 150\n",
      "building tree 47 of 150building tree 48 of 150building tree 49 of 150\n",
      "\n",
      "\n",
      "building tree 50 of 150building tree 51 of 150\n",
      "\n",
      "building tree 52 of 150building tree 53 of 150building tree 54 of 150\n",
      "\n",
      "\n",
      "building tree 55 of 150\n",
      "building tree 56 of 150building tree 57 of 150\n",
      "\n",
      "building tree 58 of 150\n",
      "building tree 59 of 150\n",
      "building tree 60 of 150building tree 61 of 150\n",
      "building tree 62 of 150\n",
      "building tree 63 of 150\n",
      "\n",
      "building tree 64 of 150building tree 65 of 150\n",
      "\n",
      "building tree 66 of 150building tree 67 of 150\n",
      "building tree 68 of 150\n",
      "\n",
      "building tree 69 of 150\n",
      "building tree 70 of 150\n",
      "building tree 71 of 150\n",
      "building tree 72 of 150\n",
      "building tree 73 of 150building tree 74 of 150building tree 75 of 150\n",
      "\n",
      "\n",
      "building tree 76 of 150\n",
      "building tree 77 of 150\n",
      "building tree 78 of 150building tree 79 of 150\n",
      "\n",
      "building tree 80 of 150\n",
      "building tree 81 of 150building tree 82 of 150\n",
      "\n",
      "building tree 83 of 150\n",
      "building tree 84 of 150building tree 85 of 150\n",
      "building tree 86 of 150\n",
      "\n",
      "building tree 87 of 150\n",
      "building tree 88 of 150\n",
      "building tree 89 of 150\n",
      "building tree 90 of 150\n",
      "building tree 91 of 150\n",
      "building tree 92 of 150building tree 93 of 150\n",
      "building tree 94 of 150\n",
      "\n",
      "building tree 95 of 150building tree 96 of 150\n",
      "\n",
      "building tree 97 of 150building tree 98 of 150\n",
      "building tree 99 of 150\n",
      "\n",
      "building tree 100 of 150\n",
      "building tree 101 of 150\n",
      "building tree 102 of 150\n",
      "building tree 103 of 150\n",
      "building tree 104 of 150\n",
      "building tree 105 of 150building tree 106 of 150building tree 107 of 150\n",
      "\n",
      "building tree 108 of 150building tree 109 of 150\n",
      "\n",
      "\n",
      "building tree 110 of 150\n",
      "building tree 111 of 150building tree 112 of 150\n",
      "\n",
      "building tree 113 of 150\n",
      "building tree 114 of 150\n",
      "building tree 115 of 150\n",
      "building tree 116 of 150\n",
      "building tree 117 of 150building tree 118 of 150\n",
      "building tree 119 of 150\n",
      "building tree 120 of 150\n",
      "\n",
      "building tree 121 of 150\n",
      "building tree 122 of 150\n",
      "building tree 123 of 150\n",
      "building tree 124 of 150building tree 125 of 150\n",
      "\n",
      "building tree 126 of 150\n",
      "building tree 127 of 150building tree 128 of 150\n",
      "\n",
      "building tree 129 of 150\n",
      "building tree 130 of 150building tree 131 of 150building tree 132 of 150\n",
      "\n",
      "building tree 133 of 150\n",
      "building tree 134 of 150\n",
      "\n",
      "building tree 135 of 150\n",
      "building tree 136 of 150\n",
      "building tree 137 of 150building tree 138 of 150\n",
      "building tree 139 of 150\n",
      "\n",
      "building tree 140 of 150\n",
      "building tree 141 of 150\n",
      "building tree 142 of 150\n",
      "building tree 143 of 150building tree 144 of 150\n",
      "\n",
      "building tree 145 of 150\n",
      "building tree 146 of 150\n",
      "building tree 147 of 150building tree 148 of 150\n",
      "\n",
      "building tree 149 of 150building tree 150 of 150\n",
      "\n"
     ]
    },
    {
     "name": "stderr",
     "output_type": "stream",
     "text": [
      "[Parallel(n_jobs=-1)]: Done 300 out of 300 | elapsed:    0.1s finished\n",
      "[Parallel(n_jobs=8)]: Using backend ThreadingBackend with 8 concurrent workers.\n",
      "[Parallel(n_jobs=8)]: Done  25 tasks      | elapsed:    0.0s\n",
      "[Parallel(n_jobs=8)]: Done 146 tasks      | elapsed:    0.0s\n",
      "[Parallel(n_jobs=8)]: Done 300 out of 300 | elapsed:    0.0s finished\n",
      "[Parallel(n_jobs=-1)]: Using backend ThreadingBackend with 8 concurrent workers.\n",
      "[Parallel(n_jobs=-1)]: Done  25 tasks      | elapsed:    0.0s\n",
      "[Parallel(n_jobs=-1)]: Done 150 out of 150 | elapsed:    0.1s finished\n"
     ]
    },
    {
     "data": {
      "text/plain": [
       "GridSearchCV(estimator=RandomForestRegressor(),\n",
       "             param_grid={'max_depth': [1, 2, 3, 4],\n",
       "                         'n_estimators': [100, 150, 200, 250, 300],\n",
       "                         'n_jobs': [-1], 'verbose': [2]})"
      ]
     },
     "execution_count": 39,
     "metadata": {},
     "output_type": "execute_result"
    }
   ],
   "source": [
    "rf_params = {\n",
    "    'n_estimators': [100, 150, 200, 250, 300],\n",
    "    'max_depth': [1,2,3,4],\n",
    "    'n_jobs': [-1],\n",
    "    'verbose': [2],\n",
    "}\n",
    "\n",
    "rf_tuned = GridSearchCV(random_forest, rf_params)\n",
    "rf_tuned.fit(X_train_sc, y_train)"
   ]
  },
  {
   "cell_type": "code",
   "execution_count": 40,
   "id": "666ac1dd",
   "metadata": {},
   "outputs": [
    {
     "data": {
      "text/plain": [
       "{'max_depth': 4, 'n_estimators': 150, 'n_jobs': -1, 'verbose': 2}"
      ]
     },
     "execution_count": 40,
     "metadata": {},
     "output_type": "execute_result"
    }
   ],
   "source": [
    "rf_tuned.best_params_"
   ]
  },
  {
   "cell_type": "code",
   "execution_count": 41,
   "id": "81d0a4b5",
   "metadata": {},
   "outputs": [
    {
     "data": {
      "text/plain": [
       "0.26983729439326465"
      ]
     },
     "execution_count": 41,
     "metadata": {},
     "output_type": "execute_result"
    }
   ],
   "source": [
    "rf_tuned.best_score_"
   ]
  },
  {
   "cell_type": "code",
   "execution_count": 42,
   "id": "8eb9c87c",
   "metadata": {},
   "outputs": [
    {
     "name": "stderr",
     "output_type": "stream",
     "text": [
      "[Parallel(n_jobs=8)]: Using backend ThreadingBackend with 8 concurrent workers.\n",
      "[Parallel(n_jobs=8)]: Done  25 tasks      | elapsed:    0.0s\n"
     ]
    },
    {
     "name": "stdout",
     "output_type": "stream",
     "text": [
      "Random Forest Post-Tuning:\n",
      "\n",
      "R2 for training dataset: 0.5703279207890941\n",
      "R2 validation dataset: 0.19583197277835795\n",
      "\n",
      "RMSE for training dataset: 3.6786569400877753\n",
      "RMSE for validation dataset: 5.996865889839821\n"
     ]
    },
    {
     "name": "stderr",
     "output_type": "stream",
     "text": [
      "[Parallel(n_jobs=8)]: Done 150 out of 150 | elapsed:    0.0s finished\n",
      "[Parallel(n_jobs=8)]: Using backend ThreadingBackend with 8 concurrent workers.\n",
      "[Parallel(n_jobs=8)]: Done  25 tasks      | elapsed:    0.0s\n",
      "[Parallel(n_jobs=8)]: Done 150 out of 150 | elapsed:    0.0s finished\n",
      "[Parallel(n_jobs=8)]: Using backend ThreadingBackend with 8 concurrent workers.\n",
      "[Parallel(n_jobs=8)]: Done  25 tasks      | elapsed:    0.0s\n",
      "[Parallel(n_jobs=8)]: Done 150 out of 150 | elapsed:    0.0s finished\n",
      "[Parallel(n_jobs=8)]: Using backend ThreadingBackend with 8 concurrent workers.\n",
      "[Parallel(n_jobs=8)]: Done  25 tasks      | elapsed:    0.0s\n",
      "[Parallel(n_jobs=8)]: Done 150 out of 150 | elapsed:    0.0s finished\n"
     ]
    }
   ],
   "source": [
    "print(\"Random Forest Post-Tuning:\")\n",
    "print()\n",
    "rf_tuned_train_r = rf_tuned.score(X_train_sc,y_train)\n",
    "print(f\"R2 for training dataset: {rf_tuned_train_r}\")\n",
    "rf_tuned_test_r = rf_tuned.score(X_test_sc,y_test)\n",
    "print(f\"R2 validation dataset: {rf_tuned_test_r}\")\n",
    "\n",
    "print()\n",
    "rf_tuned_train_rmse = np.sqrt(mean_squared_error(y_train, rf_tuned.predict(X_train_sc)))\n",
    "print(f\"RMSE for training dataset: {rf_tuned_train_rmse}\")\n",
    "rf_tuned_test_rmse = np.sqrt(mean_squared_error(y_test, rf_tuned.predict(X_test_sc)))\n",
    "print(f\"RMSE for validation dataset: {rf_tuned_test_rmse}\")\n"
   ]
  },
  {
   "cell_type": "markdown",
   "id": "3a91b305",
   "metadata": {},
   "source": [
    "Based on the tuned model, we can see that the training and validation sets do not have a big gap compared to the initial model. The RMSE value has also decreased compared to earlier. \n",
    "\n",
    "So let's take a look at the prediction accuracy:"
   ]
  },
  {
   "cell_type": "code",
   "execution_count": 43,
   "id": "e78d14db",
   "metadata": {},
   "outputs": [
    {
     "name": "stderr",
     "output_type": "stream",
     "text": [
      "[Parallel(n_jobs=8)]: Using backend ThreadingBackend with 8 concurrent workers.\n",
      "[Parallel(n_jobs=8)]: Done  25 tasks      | elapsed:    0.0s\n",
      "[Parallel(n_jobs=8)]: Done 150 out of 150 | elapsed:    0.0s finished\n"
     ]
    },
    {
     "data": {
      "image/png": "[encoded data removed]",
      "text/plain": [
       "<Figure size 720x576 with 1 Axes>"
      ]
     },
     "metadata": {
      "needs_background": "light"
     },
     "output_type": "display_data"
    }
   ],
   "source": [
    "rf_preds = rf_tuned.predict(X_test_sc)\n",
    "\n",
    "plt.figure(figsize=(10,8))\n",
    "sns.regplot(data=X_train_sc, x=rf_preds, y=y_test, line_kws={'color':'red'})\n",
    "plt.xlabel('Predicted Alpha', fontsize=14)\n",
    "plt.ylabel('Actual Alpha', fontsize=14)\n",
    "plt.title('ETF Predictions of Alpha vs Actual Alpha', fontsize=22)\n",
    "plt.show()"
   ]
  },
  {
   "cell_type": "markdown",
   "id": "fe263d5d",
   "metadata": {},
   "source": [
    "Fortunately, we can see that the model accuracy for ETF alpha prediction is slightly higher than the YTD return prediction (23.15%).\n",
    "\n",
    "However, the model accuracy for ETF isn't as good as the mutual funds' dataset due to the lack of quality ETF data. "
   ]
  },
  {
   "cell_type": "markdown",
   "id": "b4278563",
   "metadata": {},
   "source": [
    "## Feature Importance"
   ]
  },
  {
   "cell_type": "markdown",
   "id": "2a2a7d29",
   "metadata": {},
   "source": [
    "Using the tuned model, we've identified the most important features in the prediction model:"
   ]
  },
  {
   "cell_type": "code",
   "execution_count": 44,
   "id": "17479019",
   "metadata": {},
   "outputs": [
    {
     "name": "stdout",
     "output_type": "stream",
     "text": [
      " 1) investment_type_Growth         0.177131\n",
      " 2) fund_sector_financial_services 0.138404\n",
      " 3) asset_bonds                    0.107789\n",
      " 4) fund_annual_report_net_expense_ratio 0.100164\n",
      " 5) fund_sector_technology         0.059510\n",
      " 6) asset_stocks                   0.056033\n",
      " 7) fund_yield                     0.055961\n",
      " 8) fund_sector_healthcare         0.046203\n",
      " 9) annual_holdings_turnover       0.043807\n",
      "10) fund_sector_utilities          0.043094\n",
      "11) fund_bond_maturity             0.035093\n",
      "12) fund_sector_industrials        0.028676\n",
      "13) size_type_Medium               0.019881\n",
      "14) fund_sector_real_estate        0.013880\n",
      "15) fund_sector_communication_services 0.013638\n",
      "16) fund_sector_energy             0.013086\n",
      "17) fund_sector_consumer_defensive 0.010351\n",
      "18) fund_price_earning_ratio       0.008477\n",
      "19) investment_type_Blend          0.007237\n",
      "20) investment_type_Value          0.006164\n",
      "21) fund_alpha_3years              0.004374\n",
      "22) fund_sector_consumer_cyclical  0.004053\n",
      "23) size_type_Large                0.002262\n",
      "24) fund_bonds_below_b             0.001866\n",
      "25) fund_sector_basic_materials    0.001290\n",
      "26) fund_bonds_aa                  0.000604\n",
      "27) fund_return_ytd                0.000471\n",
      "28) fund_bonds_bb                  0.000363\n",
      "29) fund_bonds_a                   0.000113\n",
      "30) fund_bonds_aaa                 0.000026\n",
      "31) fund_bonds_bbb                 0.000000\n"
     ]
    }
   ],
   "source": [
    "feature = rf_tuned.best_estimator_.feature_importances_\n",
    "sorted_indices = np.argsort(feature)[::-1]\n",
    " \n",
    "feature_labels = etf.columns[1:]\n",
    " \n",
    "for f in range(X_train.shape[1]):\n",
    "    print(\"%2d) %-*s %f\" % (f + 1, 30,\n",
    "                            feature_labels[sorted_indices[f]],\n",
    "                            feature[sorted_indices[f]]))"
   ]
  },
  {
   "cell_type": "code",
   "execution_count": 45,
   "id": "3f4ab793",
   "metadata": {},
   "outputs": [
    {
     "data": {
      "image/png": "[encoded data removed]",
      "text/plain": [
       "<Figure size 1152x576 with 1 Axes>"
      ]
     },
     "metadata": {
      "needs_background": "light"
     },
     "output_type": "display_data"
    }
   ],
   "source": [
    "plt.figure(figsize=(16,8))\n",
    "plt.title('ETF Prediction on Alpha: Feature Importance', size=20)\n",
    "plt.bar(range(X_train.shape[1]), feature[sorted_indices], align='center', color='#87afe2')\n",
    "plt.xticks(range(X_train.shape[1]), X_train.columns[sorted_indices], rotation=90)\n",
    "plt.tight_layout()\n",
    "plt.show()"
   ]
  },
  {
   "cell_type": "markdown",
   "id": "8745bd6a",
   "metadata": {},
   "source": [
    "**Top 10 features**: Investment type (Value), fund sectors (energy, real estate, technology, financial services)\n",
    "stocks asset breakdown, annual holdings turnover, total net assets, fund yield, operating costs"
   ]
  }
 ],
 "metadata": {
  "kernelspec": {
   "display_name": "Python 3",
   "language": "python",
   "name": "python3"
  },
  "language_info": {
   "codemirror_mode": {
    "name": "ipython",
    "version": 3
   },
   "file_extension": ".py",
   "mimetype": "text/x-python",
   "name": "python",
   "nbconvert_exporter": "python",
   "pygments_lexer": "ipython3",
   "version": "3.8.8"
  },
  "toc": {
   "base_numbering": 1,
   "nav_menu": {},
   "number_sections": true,
   "sideBar": true,
   "skip_h1_title": true,
   "title_cell": "Table of Contents",
   "title_sidebar": "Contents",
   "toc_cell": false,
   "toc_position": {},
   "toc_section_display": true,
   "toc_window_display": true
  }
 },
 "nbformat": 4,
 "nbformat_minor": 5
}
