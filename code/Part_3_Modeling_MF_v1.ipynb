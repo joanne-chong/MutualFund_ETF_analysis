{
 "cells": [
  {
   "cell_type": "markdown",
   "id": "f3af7087",
   "metadata": {},
   "source": [
    "# Mutual Fund & ETFs Analysis\n",
    "---"
   ]
  },
  {
   "cell_type": "markdown",
   "id": "fb248a76",
   "metadata": {},
   "source": [
    "# Part 3 - Modeling - Mutual Fund Returns"
   ]
  },
  {
   "cell_type": "markdown",
   "id": "7917f6fa",
   "metadata": {},
   "source": [
    "For this model, we'll be predicting mutual fund returns for the year to date using the selected features from previous notebook."
   ]
  },
  {
   "cell_type": "markdown",
   "id": "df801133",
   "metadata": {},
   "source": [
    "## Content\n",
    "\n",
    "1. [Model Preparation](#Model-Preparation)\n",
    "2. [Cross Validation](#Cross-Validation)\n",
    "3. [Modeling](#Modeling)\n",
    "4. [Result](#Result)\n",
    "5. [Tuning](#Tuning)\n",
    "6. [Feature Importance](#Feature-Importance)"
   ]
  },
  {
   "cell_type": "markdown",
   "id": "021cf2e9",
   "metadata": {},
   "source": [
    "## Links to Other Notebooks\n",
    "\n",
    "- [Part 1: Data Cleaning](Part_1_Cleaning.ipynb)\n",
    "- [Part 2: Exploratory Data Analysis](Part_2_EDA.ipynb)\n",
    "- [Part 4: Modeling: Mutual Fund v2](Part_4_Modeling_MF_v2.ipynb) - Mutual Fund Prediction of alpha\n",
    "- [Part 5: Modeling: ETFs v1](Part_5_Modeling_ETF_v1.ipynb) - ETF Prediction of fund returns\n",
    "- [Part 6: Modeling: ETFs v2](Part_6_Modeling_ETF_v2.ipynb) - ETF Prediction of alpha\n",
    "- [Part 7: Evaluation & Conclusion](Part_7_Conclusion.ipynb)"
   ]
  },
  {
   "cell_type": "markdown",
   "id": "9422a75e",
   "metadata": {},
   "source": [
    "### Libraries"
   ]
  },
  {
   "cell_type": "code",
   "execution_count": 1,
   "id": "68ce6936",
   "metadata": {},
   "outputs": [],
   "source": [
    "import numpy as np\n",
    "import scipy.stats as stats\n",
    "import matplotlib.pyplot as plt\n",
    "%matplotlib inline\n",
    "import pandas as pd\n",
    "import statistics\n",
    "import seaborn as sns\n",
    "\n",
    "from sklearn.linear_model import LinearRegression, LassoCV, RidgeCV, Lasso, Ridge\n",
    "from sklearn.metrics import mean_squared_error, r2_score\n",
    "from sklearn.model_selection import train_test_split, cross_val_score, GridSearchCV\n",
    "from sklearn.neighbors import KNeighborsRegressor\n",
    "from sklearn.tree import DecisionTreeRegressor\n",
    "from sklearn.ensemble import BaggingRegressor, RandomForestRegressor, AdaBoostRegressor, GradientBoostingRegressor\n",
    "from sklearn.svm import SVR\n",
    "from sklearn.preprocessing import StandardScaler\n",
    "\n",
    "#Ignore warnings\n",
    "import warnings\n",
    "warnings.filterwarnings(\"ignore\")\n",
    "\n",
    "# set display options\n",
    "pd.set_option(\"display.max_rows\", 200)\n",
    "pd.set_option(\"display.max_columns\", 300)"
   ]
  },
  {
   "cell_type": "markdown",
   "id": "4fa148cd",
   "metadata": {},
   "source": [
    "### Load datasets"
   ]
  },
  {
   "cell_type": "code",
   "execution_count": 2,
   "id": "6c58f848",
   "metadata": {},
   "outputs": [],
   "source": [
    "mutual_fund = pd.read_csv('../datasets/mutual_fund_processed.csv')"
   ]
  },
  {
   "cell_type": "markdown",
   "id": "fe44f58f",
   "metadata": {},
   "source": [
    "## Model Preparation"
   ]
  },
  {
   "cell_type": "markdown",
   "id": "a315ca43",
   "metadata": {},
   "source": [
    "First, we'll set our X and y, and split the data using test size 20%. We'll scale data using StandardScaler as some of the columns were not normally distributed. \n",
    "\n",
    "We'll generate predictions using:\n",
    "- **Supervised learning**: Linear regression, Lasso regression, Ridge regression\n",
    "- **Clustering**: KNeighbors regressor\n",
    "- **Ensemble learning**: Decision tree, Bagged tree, Random Forest, Adaptive Boosting, Support Vector, Gradient Boosting"
   ]
  },
  {
   "cell_type": "code",
   "execution_count": 3,
   "id": "fd75a115",
   "metadata": {},
   "outputs": [],
   "source": [
    "X = mutual_fund.drop(columns=['year_to_date_return', 'fund_alpha_3years'])\n",
    "y = mutual_fund['year_to_date_return']"
   ]
  },
  {
   "cell_type": "code",
   "execution_count": 4,
   "id": "8a0c349a",
   "metadata": {},
   "outputs": [],
   "source": [
    "X_train, X_test, y_train, y_test = train_test_split(X, y, test_size=0.2, random_state=10)"
   ]
  },
  {
   "cell_type": "code",
   "execution_count": 5,
   "id": "12c8a55e",
   "metadata": {},
   "outputs": [],
   "source": [
    "# Scaling the dataset\n",
    "\n",
    "ss = StandardScaler()\n",
    "ss.fit(X_train)\n",
    "\n",
    "X_train_sc = ss.transform(X_train)\n",
    "X_test_sc = ss.transform(X_test)"
   ]
  },
  {
   "cell_type": "code",
   "execution_count": 6,
   "id": "76d3c887",
   "metadata": {},
   "outputs": [],
   "source": [
    "# Instantiate models\n",
    "\n",
    "lr = LinearRegression()\n",
    "lasso = LassoCV(n_alphas=100)\n",
    "ridge = RidgeCV(alphas=np.linspace(1, 200, 100))\n",
    "knn = KNeighborsRegressor()\n",
    "decision_tree = DecisionTreeRegressor()\n",
    "bagged = BaggingRegressor()\n",
    "random_forest = RandomForestRegressor()\n",
    "adaboost = AdaBoostRegressor()\n",
    "support_vector = SVR()\n",
    "gradient_boost = GradientBoostingRegressor()"
   ]
  },
  {
   "cell_type": "markdown",
   "id": "1111daf4",
   "metadata": {},
   "source": [
    "## Cross Validation"
   ]
  },
  {
   "cell_type": "markdown",
   "id": "9ca63e52",
   "metadata": {},
   "source": [
    "Before we can build our models, we'll first need to ensure our models are reliable. We'll use the cross-validation technique to train several machine learning models on subsets of the dataset and evaluate them for any signs of overfitting."
   ]
  },
  {
   "cell_type": "code",
   "execution_count": 7,
   "id": "40da3b31",
   "metadata": {},
   "outputs": [
    {
     "name": "stdout",
     "output_type": "stream",
     "text": [
      "Linear Regression R2 cross-validation score: 0.5490062567818296\n",
      "Linear regression RSME cross-validation score:' 0.054110662140962607\n"
     ]
    }
   ],
   "source": [
    "# Testing linear regression model\n",
    "\n",
    "lr_cv_scores = cross_val_score(lr, X_train_sc, y_train, cv=5)\n",
    "lr_cv_mean = lr_cv_scores.mean()\n",
    "print(f\"Linear Regression R2 cross-validation score: {lr_cv_mean}\")\n",
    "      \n",
    "lr_cv_mse_scores = -cross_val_score(lr,X_train_sc, y_train,cv=5, scoring ='neg_mean_squared_error')\n",
    "lr_cv_rmse_mean = np.sqrt(lr_cv_mse_scores.mean())\n",
    "print(f\"Linear regression RSME cross-validation score:' {lr_cv_rmse_mean}\")"
   ]
  },
  {
   "cell_type": "code",
   "execution_count": 8,
   "id": "9c51d6a6",
   "metadata": {},
   "outputs": [
    {
     "name": "stdout",
     "output_type": "stream",
     "text": [
      "Lasso R2 cross-validation score: 0.5489777112254055\n",
      "Lasso RSME cross-validation score: 0.0541125425790344\n"
     ]
    }
   ],
   "source": [
    "# Testing lasso model \n",
    "\n",
    "lasso_cv_scores = cross_val_score(lasso, X_train_sc, y_train, cv=5)\n",
    "lasso_cv_mean = lasso_cv_scores.mean()\n",
    "print(f\"Lasso R2 cross-validation score: {lasso_cv_mean}\")\n",
    "\n",
    "lasso_cv_mse_scores = -cross_val_score(lasso,X_train_sc, y_train,cv=5, scoring ='neg_mean_squared_error')\n",
    "lasso_cv_rmse_mean = np.sqrt(lasso_cv_mse_scores.mean())\n",
    "print(f\"Lasso RSME cross-validation score: {lasso_cv_rmse_mean}\")"
   ]
  },
  {
   "cell_type": "code",
   "execution_count": 9,
   "id": "695cdca5",
   "metadata": {},
   "outputs": [
    {
     "name": "stdout",
     "output_type": "stream",
     "text": [
      "Ridge R2 cross-validation score: 0.5489935302734475\n",
      "Ridge RSME cross-validation score: 0.05411144308224879\n"
     ]
    }
   ],
   "source": [
    "# Testing ridge model\n",
    "\n",
    "ridge_cv_scores = cross_val_score(ridge, X_train_sc, y_train, cv=5)\n",
    "ridge_cv_mean = ridge_cv_scores.mean()\n",
    "print(f\"Ridge R2 cross-validation score: {ridge_cv_mean}\")\n",
    "\n",
    "ridge_cv_mse_scores = -cross_val_score(ridge, X_train_sc, y_train,cv=5, scoring ='neg_mean_squared_error')\n",
    "ridge_cv_rmse_mean = np.sqrt(ridge_cv_mse_scores.mean())\n",
    "print(f\"Ridge RSME cross-validation score: {ridge_cv_rmse_mean}\")"
   ]
  },
  {
   "cell_type": "code",
   "execution_count": 10,
   "id": "212fe5fd",
   "metadata": {},
   "outputs": [
    {
     "name": "stdout",
     "output_type": "stream",
     "text": [
      "K-Nearest Neighbor R2 cross-validation score: 0.8284836444101739\n",
      "K-Nearest Neighbor RSME cross-validation score: 0.03337647950051824\n"
     ]
    }
   ],
   "source": [
    "# Testing KNN model\n",
    "\n",
    "knn_cv_scores = cross_val_score(knn, X_train_sc, y_train, cv=5)\n",
    "knn_cv_mean = knn_cv_scores.mean()\n",
    "print(f\"K-Nearest Neighbor R2 cross-validation score: {knn_cv_mean}\")\n",
    "\n",
    "knn_cv_mse_scores = -cross_val_score(knn, X_train_sc, y_train,cv=5, scoring ='neg_mean_squared_error')\n",
    "knn_cv_rmse_mean = np.sqrt(knn_cv_mse_scores.mean())\n",
    "print(f\"K-Nearest Neighbor RSME cross-validation score: {knn_cv_rmse_mean}\")"
   ]
  },
  {
   "cell_type": "code",
   "execution_count": 11,
   "id": "495c14f3",
   "metadata": {},
   "outputs": [
    {
     "name": "stdout",
     "output_type": "stream",
     "text": [
      "Decision Tree R2 cross-validation score: 0.8721755939879312\n",
      "Decision RSME cross-validation score: 0.029253299828043932\n"
     ]
    }
   ],
   "source": [
    "# Testing decision tree model\n",
    "\n",
    "decision_tree_cv_scores = cross_val_score(decision_tree, X_train_sc, y_train, cv=5)\n",
    "decision_tree_cv_mean = decision_tree_cv_scores.mean()\n",
    "print(f\"Decision Tree R2 cross-validation score: {decision_tree_cv_mean}\")\n",
    "\n",
    "decision_tree_cv_mse_scores = -cross_val_score(decision_tree, X_train_sc, y_train,cv=5, scoring ='neg_mean_squared_error')\n",
    "decision_tree_cv_rmse_mean = np.sqrt(decision_tree_cv_mse_scores.mean())\n",
    "print(f\"Decision RSME cross-validation score: {decision_tree_cv_rmse_mean}\")"
   ]
  },
  {
   "cell_type": "code",
   "execution_count": 12,
   "id": "2cfa68af",
   "metadata": {},
   "outputs": [
    {
     "name": "stdout",
     "output_type": "stream",
     "text": [
      "Bagged Tree R2 cross-validation score: 0.9150046162893013\n",
      "Bagged Tree RSME cross-validation score: 0.024146313829903586\n"
     ]
    }
   ],
   "source": [
    "# Testing bagged tree model\n",
    "\n",
    "bagged_cv_scores = cross_val_score(bagged, X_train_sc, y_train, cv=5)\n",
    "bagged_cv_mean = bagged_cv_scores.mean()\n",
    "print(f\"Bagged Tree R2 cross-validation score: {bagged_cv_mean}\")\n",
    "\n",
    "bagged_cv_mse_scores = -cross_val_score(bagged, X_train_sc, y_train,cv=5, scoring ='neg_mean_squared_error')\n",
    "bagged_cv_rmse_mean = np.sqrt(bagged_cv_mse_scores.mean())\n",
    "print(f\"Bagged Tree RSME cross-validation score: {bagged_cv_rmse_mean}\")"
   ]
  },
  {
   "cell_type": "code",
   "execution_count": 13,
   "id": "208dfe63",
   "metadata": {},
   "outputs": [
    {
     "name": "stdout",
     "output_type": "stream",
     "text": [
      "Random Forest R2 cross-validation score: 0.9234864098873464\n",
      "Random Forest RSME cross-validation score: 0.02219791789454371\n"
     ]
    }
   ],
   "source": [
    "# Testing random forest model\n",
    "\n",
    "random_forest_cv_scores = cross_val_score(random_forest, X_train_sc, y_train, cv=5)\n",
    "random_forest_cv_mean = random_forest_cv_scores.mean()\n",
    "print(f\"Random Forest R2 cross-validation score: {random_forest_cv_mean}\")\n",
    "\n",
    "random_forest_cv_mse_scores = -cross_val_score(random_forest, X_train_sc, y_train,cv=5, scoring ='neg_mean_squared_error')\n",
    "random_forest_cv_rmse_mean = np.sqrt(random_forest_cv_mse_scores.mean())\n",
    "print(f\"Random Forest RSME cross-validation score: {random_forest_cv_rmse_mean}\")"
   ]
  },
  {
   "cell_type": "code",
   "execution_count": 14,
   "id": "e2f0cd90",
   "metadata": {},
   "outputs": [
    {
     "name": "stdout",
     "output_type": "stream",
     "text": [
      "Adaptive Boosting R2 cross-validation score: 0.3939535887714487\n",
      "Adaptive Boosting RSME cross-validation score: 0.06251855551156396\n"
     ]
    }
   ],
   "source": [
    "# Testing adaptive boosting model\n",
    "\n",
    "adaboost_cv_scores = cross_val_score(adaboost, X_train_sc, y_train, cv=5)\n",
    "adaboost_cv_mean = adaboost_cv_scores.mean()\n",
    "print(f\"Adaptive Boosting R2 cross-validation score: {adaboost_cv_mean}\")\n",
    "\n",
    "adaboost_cv_mse_scores = -cross_val_score(adaboost, X_train_sc, y_train,cv=5, scoring ='neg_mean_squared_error')\n",
    "adaboost_cv_rmse_mean = np.sqrt(adaboost_cv_mse_scores.mean())\n",
    "print(f\"Adaptive Boosting RSME cross-validation score: {adaboost_cv_rmse_mean}\")"
   ]
  },
  {
   "cell_type": "code",
   "execution_count": 15,
   "id": "eafabaf5",
   "metadata": {},
   "outputs": [
    {
     "name": "stdout",
     "output_type": "stream",
     "text": [
      "Support Vector R2 cross-validation score: 0.3939535887714487\n",
      "Support Vector RSME cross-validation score: 0.05102836055703325\n"
     ]
    }
   ],
   "source": [
    "# Testing support vector model\n",
    "\n",
    "support_vector_cv_scores = cross_val_score(support_vector, X_train_sc, y_train, cv=5)\n",
    "support_vector_cv_mean = support_vector_cv_scores.mean()\n",
    "print(f\"Support Vector R2 cross-validation score: {adaboost_cv_mean}\")\n",
    "\n",
    "support_vector_cv_mse_scores = -cross_val_score(support_vector, X_train_sc, y_train,cv=5, scoring ='neg_mean_squared_error')\n",
    "support_vector_cv_rmse_mean = np.sqrt(support_vector_cv_mse_scores.mean())\n",
    "print(f\"Support Vector RSME cross-validation score: {support_vector_cv_rmse_mean}\")"
   ]
  },
  {
   "cell_type": "code",
   "execution_count": 16,
   "id": "0f562e1d",
   "metadata": {},
   "outputs": [
    {
     "name": "stdout",
     "output_type": "stream",
     "text": [
      "Gradient Boosting R2 cross-validation score: 0.758045433900762\n",
      "Gradient Boosting RSME cross-validation score: 0.03962526019460459\n"
     ]
    }
   ],
   "source": [
    "# Testing gradient boosting model\n",
    "\n",
    "gradient_boost_cv_scores = cross_val_score(gradient_boost, X_train_sc, y_train, cv=5)\n",
    "gradient_boost_cv_mean = gradient_boost_cv_scores.mean()\n",
    "print(f\"Gradient Boosting R2 cross-validation score: {gradient_boost_cv_mean}\")\n",
    "\n",
    "gradient_boost_cv_mse_scores = -cross_val_score(gradient_boost, X_train_sc, y_train,cv=5, scoring ='neg_mean_squared_error')\n",
    "gradient_boost_cv_rmse_mean = np.sqrt(gradient_boost_cv_mse_scores.mean())\n",
    "print(f\"Gradient Boosting RSME cross-validation score: {gradient_boost_cv_rmse_mean}\")"
   ]
  },
  {
   "cell_type": "markdown",
   "id": "8e6adbde",
   "metadata": {},
   "source": [
    "## Modeling\n",
    "\n",
    "Once we have our cross-validation scores, we'll start building our models:"
   ]
  },
  {
   "cell_type": "markdown",
   "id": "001dbfcc",
   "metadata": {},
   "source": [
    "### Linear Regression"
   ]
  },
  {
   "cell_type": "code",
   "execution_count": 17,
   "id": "38556095",
   "metadata": {},
   "outputs": [
    {
     "name": "stdout",
     "output_type": "stream",
     "text": [
      "Linear Regression:\n",
      "\n",
      "R2 for training dataset: 0.5510845743175776\n",
      "R2 validation dataset: 0.5370269783160544\n",
      "R2 for cross-validation sets: 0.5490062567818296\n",
      "\n",
      "RMSE for training dataset: 0.05397845828459145\n",
      "RMSE for validation dataset: 0.05398337389171377\n",
      "RMSE for cross-validation sets: 0.054110662140962607\n"
     ]
    }
   ],
   "source": [
    "# Building linear regression model\n",
    "\n",
    "lr.fit(X_train_sc, y_train)\n",
    "\n",
    "print(\"Linear Regression:\")\n",
    "print()\n",
    "linear_train_r = lr.score(X_train_sc,y_train)\n",
    "print(f\"R2 for training dataset: {linear_train_r}\")\n",
    "linear_test_r = lr.score(X_test_sc,y_test)\n",
    "print(f\"R2 validation dataset: {linear_test_r}\")\n",
    "print(f\"R2 for cross-validation sets: {lr_cv_mean}\")\n",
    "print()\n",
    "linear_train_rmse = np.sqrt(mean_squared_error(y_train, lr.predict(X_train_sc)))\n",
    "print(f\"RMSE for training dataset: {linear_train_rmse}\")\n",
    "linear_test_rmse = np.sqrt(mean_squared_error(y_test,lr.predict(X_test_sc)))\n",
    "print(f\"RMSE for validation dataset: {linear_test_rmse}\")\n",
    "print(f\"RMSE for cross-validation sets: {lr_cv_rmse_mean}\")"
   ]
  },
  {
   "cell_type": "markdown",
   "id": "25bbaef7",
   "metadata": {},
   "source": [
    "### Lasso Regression"
   ]
  },
  {
   "cell_type": "code",
   "execution_count": 18,
   "id": "2ee901b6",
   "metadata": {},
   "outputs": [
    {
     "data": {
      "text/plain": [
       "5.213793356150148e-05"
      ]
     },
     "execution_count": 18,
     "metadata": {},
     "output_type": "execute_result"
    }
   ],
   "source": [
    "# Building lasso model\n",
    "\n",
    "lasso.fit(X_train_sc, y_train)\n",
    "\n",
    "lasso_alpha = lasso.alpha_\n",
    "lasso_alpha"
   ]
  },
  {
   "cell_type": "code",
   "execution_count": 19,
   "id": "9b17c39b",
   "metadata": {},
   "outputs": [
    {
     "data": {
      "text/plain": [
       "Lasso(alpha=5.213793356150148e-05)"
      ]
     },
     "execution_count": 19,
     "metadata": {},
     "output_type": "execute_result"
    }
   ],
   "source": [
    "lasso = Lasso(alpha=lasso_alpha)\n",
    "lasso.fit(X_train_sc, y_train)"
   ]
  },
  {
   "cell_type": "code",
   "execution_count": 20,
   "id": "f3220186",
   "metadata": {},
   "outputs": [
    {
     "name": "stdout",
     "output_type": "stream",
     "text": [
      "Lasso Regression:\n",
      "\n",
      "R2 for training dataset: 0.5510568977264111\n",
      "R2 validation dataset: 0.5370559029123758\n",
      "R2 for cross-validation sets: 0.5489777112254055\n",
      "\n",
      "RMSE for training dataset: 0.05398012220234838\n",
      "RMSE for validation dataset: 0.05398168753893114\n",
      "RMSE for cross-validation sets: 0.0541125425790344\n"
     ]
    }
   ],
   "source": [
    "print(\"Lasso Regression:\")\n",
    "print()\n",
    "lasso_train_r = lasso.score(X_train_sc,y_train)\n",
    "print(f\"R2 for training dataset: {lasso_train_r}\")\n",
    "lasso_test_r = lasso.score(X_test_sc,y_test)\n",
    "print(f\"R2 validation dataset: {lasso_test_r}\")\n",
    "print(f\"R2 for cross-validation sets: {lasso_cv_mean}\")\n",
    "print()\n",
    "lasso_train_rmse = np.sqrt(mean_squared_error(y_train, lasso.predict(X_train_sc)))\n",
    "print(f\"RMSE for training dataset: {lasso_train_rmse}\")\n",
    "lasso_test_rmse = np.sqrt(mean_squared_error(y_test,lasso.predict(X_test_sc)))\n",
    "print(f\"RMSE for validation dataset: {lasso_test_rmse}\")\n",
    "print(f\"RMSE for cross-validation sets: {lasso_cv_rmse_mean}\")"
   ]
  },
  {
   "cell_type": "markdown",
   "id": "a323f045",
   "metadata": {},
   "source": [
    "### Ridge Regression"
   ]
  },
  {
   "cell_type": "code",
   "execution_count": 21,
   "id": "9163f0cf",
   "metadata": {},
   "outputs": [
    {
     "data": {
      "text/plain": [
       "37.18181818181818"
      ]
     },
     "execution_count": 21,
     "metadata": {},
     "output_type": "execute_result"
    }
   ],
   "source": [
    "# Building ridge model\n",
    "\n",
    "ridge.fit(X_train_sc,y_train)\n",
    "\n",
    "ridge_alpha = ridge.alpha_\n",
    "ridge_alpha"
   ]
  },
  {
   "cell_type": "code",
   "execution_count": 22,
   "id": "a9221495",
   "metadata": {},
   "outputs": [
    {
     "data": {
      "text/plain": [
       "Ridge(alpha=37.18181818181818)"
      ]
     },
     "execution_count": 22,
     "metadata": {},
     "output_type": "execute_result"
    }
   ],
   "source": [
    "ridge = Ridge(alpha=ridge_alpha)\n",
    "ridge.fit(X_train_sc, y_train)"
   ]
  },
  {
   "cell_type": "code",
   "execution_count": 23,
   "id": "3781eb65",
   "metadata": {},
   "outputs": [
    {
     "name": "stdout",
     "output_type": "stream",
     "text": [
      "Ridge Regression:\n",
      "\n",
      "R2 for training dataset: 0.5510793488650334\n",
      "R2 validation dataset: 0.5371525838652645\n",
      "R2 for cross-validation sets: 0.5489935302734475\n",
      "\n",
      "RMSE for training dataset: 0.05397877244293312\n",
      "RMSE for validation dataset: 0.053976050493838315\n",
      "RMSE for cross-validation sets: 0.05411144308224879\n"
     ]
    }
   ],
   "source": [
    "print(\"Ridge Regression:\")\n",
    "print()\n",
    "ridge_train_r = ridge.score(X_train_sc,y_train)\n",
    "print(f\"R2 for training dataset: {ridge_train_r}\")\n",
    "ridge_test_r = ridge.score(X_test_sc,y_test)\n",
    "print(f\"R2 validation dataset: {ridge_test_r}\")\n",
    "print(f\"R2 for cross-validation sets: {ridge_cv_mean}\")\n",
    "print()\n",
    "ridge_train_rmse = np.sqrt(mean_squared_error(y_train, ridge.predict(X_train_sc)))\n",
    "print(f\"RMSE for training dataset: {ridge_train_rmse}\")\n",
    "ridge_test_rmse = np.sqrt(mean_squared_error(y_test,ridge.predict(X_test_sc)))\n",
    "print(f\"RMSE for validation dataset: {ridge_test_rmse}\")\n",
    "print(f\"RMSE for cross-validation sets: {ridge_cv_rmse_mean}\")"
   ]
  },
  {
   "cell_type": "markdown",
   "id": "e8733426",
   "metadata": {},
   "source": [
    "### K-Nearest Neighbor"
   ]
  },
  {
   "cell_type": "code",
   "execution_count": 24,
   "id": "9c1ee287",
   "metadata": {},
   "outputs": [
    {
     "data": {
      "text/plain": [
       "KNeighborsRegressor()"
      ]
     },
     "execution_count": 24,
     "metadata": {},
     "output_type": "execute_result"
    }
   ],
   "source": [
    "knn.fit(X_train_sc, y_train)"
   ]
  },
  {
   "cell_type": "code",
   "execution_count": 25,
   "id": "8b566d5f",
   "metadata": {},
   "outputs": [
    {
     "name": "stdout",
     "output_type": "stream",
     "text": [
      "K-Nearest Neighbor:\n",
      "\n",
      "R2 for training dataset: 0.9128743591854187\n",
      "R2 validation dataset: 0.8440676494419934\n",
      "R2 for cross-validation sets: 0.8284836444101739\n",
      "\n",
      "RMSE for training dataset: 0.02377996463668954\n",
      "RMSE for validation dataset: 0.031329271360948825\n",
      "RMSE for cross-validation sets: 0.03337647950051824\n"
     ]
    }
   ],
   "source": [
    "print(\"K-Nearest Neighbor:\")\n",
    "print()\n",
    "knn_train_r = knn.score(X_train_sc,y_train)\n",
    "print(f\"R2 for training dataset: {knn_train_r}\")\n",
    "knn_test_r = knn.score(X_test_sc,y_test)\n",
    "print(f\"R2 validation dataset: {knn_test_r}\")\n",
    "print(f\"R2 for cross-validation sets: {knn_cv_mean}\")\n",
    "print()\n",
    "knn_train_rmse = np.sqrt(mean_squared_error(y_train, knn.predict(X_train_sc)))\n",
    "print(f\"RMSE for training dataset: {knn_train_rmse}\")\n",
    "knn_test_rmse = np.sqrt(mean_squared_error(y_test,knn.predict(X_test_sc)))\n",
    "print(f\"RMSE for validation dataset: {knn_test_rmse}\")\n",
    "print(f\"RMSE for cross-validation sets: {knn_cv_rmse_mean}\")"
   ]
  },
  {
   "cell_type": "markdown",
   "id": "41a37ef3",
   "metadata": {},
   "source": [
    "### Decision Tree"
   ]
  },
  {
   "cell_type": "code",
   "execution_count": 26,
   "id": "9839b1f9",
   "metadata": {},
   "outputs": [
    {
     "data": {
      "text/plain": [
       "DecisionTreeRegressor()"
      ]
     },
     "execution_count": 26,
     "metadata": {},
     "output_type": "execute_result"
    }
   ],
   "source": [
    "decision_tree.fit(X_train_sc, y_train)"
   ]
  },
  {
   "cell_type": "code",
   "execution_count": 27,
   "id": "ce38638b",
   "metadata": {},
   "outputs": [
    {
     "name": "stdout",
     "output_type": "stream",
     "text": [
      "Decision Tree:\n",
      "\n",
      "R2 for training dataset: 0.9999957901295259\n",
      "R2 validation dataset: 0.9279165898188144\n",
      "R2 for cross-validation sets: 0.8721755939879312\n",
      "\n",
      "RMSE for training dataset: 0.0001652998954030649\n",
      "RMSE for validation dataset: 0.02130099271438753\n",
      "RMSE for cross-validation sets: 0.029253299828043932\n"
     ]
    }
   ],
   "source": [
    "print(\"Decision Tree:\")\n",
    "print()\n",
    "decision_tree_train_r = decision_tree.score(X_train_sc,y_train)\n",
    "print(f\"R2 for training dataset: {decision_tree_train_r}\")\n",
    "decision_tree_test_r = decision_tree.score(X_test_sc,y_test)\n",
    "print(f\"R2 validation dataset: {decision_tree_test_r}\")\n",
    "print(f\"R2 for cross-validation sets: {decision_tree_cv_mean}\")\n",
    "print()\n",
    "decision_tree_train_rmse = np.sqrt(mean_squared_error(y_train, decision_tree.predict(X_train_sc)))\n",
    "print(f\"RMSE for training dataset: {decision_tree_train_rmse}\")\n",
    "decision_tree_test_rmse = np.sqrt(mean_squared_error(y_test,decision_tree.predict(X_test_sc)))\n",
    "print(f\"RMSE for validation dataset: {decision_tree_test_rmse}\")\n",
    "print(f\"RMSE for cross-validation sets: {decision_tree_cv_rmse_mean}\")"
   ]
  },
  {
   "cell_type": "markdown",
   "id": "eaf52d90",
   "metadata": {},
   "source": [
    "### Bagged Tree"
   ]
  },
  {
   "cell_type": "code",
   "execution_count": 28,
   "id": "62de3607",
   "metadata": {},
   "outputs": [
    {
     "data": {
      "text/plain": [
       "BaggingRegressor()"
      ]
     },
     "execution_count": 28,
     "metadata": {},
     "output_type": "execute_result"
    }
   ],
   "source": [
    "bagged.fit(X_train_sc, y_train)"
   ]
  },
  {
   "cell_type": "code",
   "execution_count": 29,
   "id": "4bc387da",
   "metadata": {},
   "outputs": [
    {
     "name": "stdout",
     "output_type": "stream",
     "text": [
      "Bagged Tree:\n",
      "\n",
      "R2 for training dataset: 0.9872818797030979\n",
      "R2 validation dataset: 0.9325875804215829\n",
      "R2 for cross-validation sets: 0.9150046162893013\n",
      "\n",
      "RMSE for training dataset: 0.009085517641893817\n",
      "RMSE for validation dataset: 0.02059928466434752\n",
      "RMSE for cross-validation sets: 0.024146313829903586\n"
     ]
    }
   ],
   "source": [
    "print(\"Bagged Tree:\")\n",
    "print()\n",
    "bagged_train_r = bagged.score(X_train_sc,y_train)\n",
    "print(f\"R2 for training dataset: {bagged_train_r}\")\n",
    "bagged_test_r = bagged.score(X_test_sc,y_test)\n",
    "print(f\"R2 validation dataset: {bagged_test_r}\")\n",
    "print(f\"R2 for cross-validation sets: {bagged_cv_mean}\")\n",
    "print()\n",
    "bagged_train_rmse = np.sqrt(mean_squared_error(y_train, bagged.predict(X_train_sc)))\n",
    "print(f\"RMSE for training dataset: {bagged_train_rmse}\")\n",
    "bagged_test_rmse = np.sqrt(mean_squared_error(y_test, bagged.predict(X_test_sc)))\n",
    "print(f\"RMSE for validation dataset: {bagged_test_rmse}\")\n",
    "print(f\"RMSE for cross-validation sets: {bagged_cv_rmse_mean}\")"
   ]
  },
  {
   "cell_type": "markdown",
   "id": "330a9445",
   "metadata": {},
   "source": [
    "### Random Forest"
   ]
  },
  {
   "cell_type": "code",
   "execution_count": 30,
   "id": "dd324e2c",
   "metadata": {},
   "outputs": [
    {
     "data": {
      "text/plain": [
       "RandomForestRegressor()"
      ]
     },
     "execution_count": 30,
     "metadata": {},
     "output_type": "execute_result"
    }
   ],
   "source": [
    "random_forest.fit(X_train_sc, y_train)"
   ]
  },
  {
   "cell_type": "code",
   "execution_count": 31,
   "id": "e704402a",
   "metadata": {},
   "outputs": [
    {
     "name": "stdout",
     "output_type": "stream",
     "text": [
      "Random Forest:\n",
      "\n",
      "R2 for training dataset: 0.9916096909331802\n",
      "R2 validation dataset: 0.9407682822749175\n",
      "R2 for cross-validation sets: 0.9234864098873464\n",
      "\n",
      "RMSE for training dataset: 0.0073795043177121815\n",
      "RMSE for validation dataset: 0.019308980560809885\n",
      "RMSE for cross-validation sets: 0.02219791789454371\n"
     ]
    }
   ],
   "source": [
    "print(\"Random Forest:\")\n",
    "print()\n",
    "random_forest_train_r = random_forest.score(X_train_sc,y_train)\n",
    "print(f\"R2 for training dataset: {random_forest_train_r}\")\n",
    "random_forest_test_r = random_forest.score(X_test_sc,y_test)\n",
    "print(f\"R2 validation dataset: {random_forest_test_r}\")\n",
    "print(f\"R2 for cross-validation sets: {random_forest_cv_mean}\")\n",
    "print()\n",
    "random_forest_train_rmse = np.sqrt(mean_squared_error(y_train, random_forest.predict(X_train_sc)))\n",
    "print(f\"RMSE for training dataset: {random_forest_train_rmse}\")\n",
    "random_forest_test_rmse = np.sqrt(mean_squared_error(y_test, random_forest.predict(X_test_sc)))\n",
    "print(f\"RMSE for validation dataset: {random_forest_test_rmse}\")\n",
    "print(f\"RMSE for cross-validation sets: {random_forest_cv_rmse_mean}\")"
   ]
  },
  {
   "cell_type": "markdown",
   "id": "00a626f5",
   "metadata": {},
   "source": [
    "### Adaptive Boosting"
   ]
  },
  {
   "cell_type": "code",
   "execution_count": 32,
   "id": "caa70f87",
   "metadata": {},
   "outputs": [
    {
     "data": {
      "text/plain": [
       "AdaBoostRegressor()"
      ]
     },
     "execution_count": 32,
     "metadata": {},
     "output_type": "execute_result"
    }
   ],
   "source": [
    "adaboost.fit(X_train_sc, y_train)"
   ]
  },
  {
   "cell_type": "code",
   "execution_count": 33,
   "id": "9e724d23",
   "metadata": {},
   "outputs": [
    {
     "name": "stdout",
     "output_type": "stream",
     "text": [
      "Adaptive Boosting:\n",
      "\n",
      "R2 for training dataset: 0.41983271568439506\n",
      "R2 validation dataset: 0.41804258565649755\n",
      "R2 for cross-validation sets: 0.3939535887714487\n",
      "\n",
      "RMSE for training dataset: 0.06136416505005185\n",
      "RMSE for validation dataset: 0.0605240225537006\n",
      "RMSE for cross-validation sets: 0.06251855551156396\n"
     ]
    }
   ],
   "source": [
    "print(\"Adaptive Boosting:\")\n",
    "print()\n",
    "adaboost_train_r = adaboost.score(X_train_sc,y_train)\n",
    "print(f\"R2 for training dataset: {adaboost_train_r}\")\n",
    "adaboost_test_r = adaboost.score(X_test_sc,y_test)\n",
    "print(f\"R2 validation dataset: {adaboost_test_r}\")\n",
    "print(f\"R2 for cross-validation sets: {adaboost_cv_mean}\")\n",
    "print()\n",
    "adaboost_train_rmse = np.sqrt(mean_squared_error(y_train, adaboost.predict(X_train_sc)))\n",
    "print(f\"RMSE for training dataset: {adaboost_train_rmse}\")\n",
    "adaboost_test_rmse = np.sqrt(mean_squared_error(y_test, adaboost.predict(X_test_sc)))\n",
    "print(f\"RMSE for validation dataset: {adaboost_test_rmse}\")\n",
    "print(f\"RMSE for cross-validation sets: {adaboost_cv_rmse_mean}\")"
   ]
  },
  {
   "cell_type": "markdown",
   "id": "74156447",
   "metadata": {},
   "source": [
    "### Support Vector"
   ]
  },
  {
   "cell_type": "code",
   "execution_count": 34,
   "id": "ae2893f8",
   "metadata": {},
   "outputs": [
    {
     "data": {
      "text/plain": [
       "SVR()"
      ]
     },
     "execution_count": 34,
     "metadata": {},
     "output_type": "execute_result"
    }
   ],
   "source": [
    "support_vector.fit(X_train_sc, y_train)"
   ]
  },
  {
   "cell_type": "code",
   "execution_count": 35,
   "id": "dd99dea8",
   "metadata": {},
   "outputs": [
    {
     "name": "stdout",
     "output_type": "stream",
     "text": [
      "Support Vector:\n",
      "\n",
      "R2 for training dataset: 0.6360113865762917\n",
      "R2 validation dataset: 0.5967860133341321\n",
      "R2 for cross-validation sets: 0.598631021042188\n",
      "\n",
      "RMSE for training dataset: 0.0486051301873198\n",
      "RMSE for validation dataset: 0.05037905024757478\n",
      "RMSE for cross-validation sets: 0.05102836055703325\n"
     ]
    }
   ],
   "source": [
    "print(\"Support Vector:\")\n",
    "print()\n",
    "support_vector_train_r = support_vector.score(X_train_sc,y_train)\n",
    "print(f\"R2 for training dataset: {support_vector_train_r}\")\n",
    "support_vector_test_r = support_vector.score(X_test_sc,y_test)\n",
    "print(f\"R2 validation dataset: {support_vector_test_r}\")\n",
    "print(f\"R2 for cross-validation sets: {support_vector_cv_mean}\")\n",
    "print()\n",
    "support_vector_train_rmse = np.sqrt(mean_squared_error(y_train, support_vector.predict(X_train_sc)))\n",
    "print(f\"RMSE for training dataset: {support_vector_train_rmse}\")\n",
    "support_vector_test_rmse = np.sqrt(mean_squared_error(y_test, support_vector.predict(X_test_sc)))\n",
    "print(f\"RMSE for validation dataset: {support_vector_test_rmse}\")\n",
    "print(f\"RMSE for cross-validation sets: {support_vector_cv_rmse_mean}\")"
   ]
  },
  {
   "cell_type": "markdown",
   "id": "6a077cd3",
   "metadata": {},
   "source": [
    "### Gradient Boosting"
   ]
  },
  {
   "cell_type": "code",
   "execution_count": 36,
   "id": "ba3cf483",
   "metadata": {},
   "outputs": [
    {
     "data": {
      "text/plain": [
       "GradientBoostingRegressor()"
      ]
     },
     "execution_count": 36,
     "metadata": {},
     "output_type": "execute_result"
    }
   ],
   "source": [
    "gradient_boost.fit(X_train_sc, y_train)"
   ]
  },
  {
   "cell_type": "code",
   "execution_count": 37,
   "id": "a3552976",
   "metadata": {},
   "outputs": [
    {
     "name": "stdout",
     "output_type": "stream",
     "text": [
      "Gradient Boosting:\n",
      "\n",
      "R2 for training dataset: 0.7813224770710293\n",
      "R2 validation dataset: 0.7520318616994189\n",
      "R2 for cross-validation sets: 0.758045433900762\n",
      "\n",
      "RMSE for training dataset: 0.03767387431994778\n",
      "RMSE for validation dataset: 0.03950755217662737\n",
      "RMSE for cross-validation sets: 0.03962526019460459\n"
     ]
    }
   ],
   "source": [
    "print(\"Gradient Boosting:\")\n",
    "print()\n",
    "gradient_boost_train_r = gradient_boost.score(X_train_sc,y_train)\n",
    "print(f\"R2 for training dataset: {gradient_boost_train_r}\")\n",
    "gradient_boost_test_r = gradient_boost.score(X_test_sc,y_test)\n",
    "print(f\"R2 validation dataset: {gradient_boost_test_r}\")\n",
    "print(f\"R2 for cross-validation sets: {gradient_boost_cv_mean}\")\n",
    "print()\n",
    "gradient_boost_train_rmse = np.sqrt(mean_squared_error(y_train, gradient_boost.predict(X_train_sc)))\n",
    "print(f\"RMSE for training dataset: {gradient_boost_train_rmse}\")\n",
    "gradient_boost_test_rmse = np.sqrt(mean_squared_error(y_test, gradient_boost.predict(X_test_sc)))\n",
    "print(f\"RMSE for validation dataset: {gradient_boost_test_rmse}\")\n",
    "print(f\"RMSE for cross-validation sets: {gradient_boost_cv_rmse_mean}\")"
   ]
  },
  {
   "cell_type": "markdown",
   "id": "06e3038c",
   "metadata": {},
   "source": [
    "## Result"
   ]
  },
  {
   "cell_type": "markdown",
   "id": "7b3cb63e",
   "metadata": {},
   "source": [
    "Now we'll compile the results into a dataframe for evaluation:"
   ]
  },
  {
   "cell_type": "code",
   "execution_count": 38,
   "id": "ac1a5959",
   "metadata": {},
   "outputs": [
    {
     "data": {
      "text/html": [
       "<div>\n",
       "<style scoped>\n",
       "    .dataframe tbody tr th:only-of-type {\n",
       "        vertical-align: middle;\n",
       "    }\n",
       "\n",
       "    .dataframe tbody tr th {\n",
       "        vertical-align: top;\n",
       "    }\n",
       "\n",
       "    .dataframe thead th {\n",
       "        text-align: right;\n",
       "    }\n",
       "</style>\n",
       "<table border=\"1\" class=\"dataframe\">\n",
       "  <thead>\n",
       "    <tr style=\"text-align: right;\">\n",
       "      <th></th>\n",
       "      <th>Model</th>\n",
       "      <th>R2 Train Set</th>\n",
       "      <th>R2 Test Set</th>\n",
       "      <th>R2 Cross-Val</th>\n",
       "      <th>RMSE Train Set</th>\n",
       "      <th>RMSE Test Set</th>\n",
       "      <th>RMSE Cross-Val</th>\n",
       "    </tr>\n",
       "  </thead>\n",
       "  <tbody>\n",
       "    <tr>\n",
       "      <th>0</th>\n",
       "      <td>Linear</td>\n",
       "      <td>0.551085</td>\n",
       "      <td>0.537027</td>\n",
       "      <td>0.549006</td>\n",
       "      <td>0.053978</td>\n",
       "      <td>0.053983</td>\n",
       "      <td>0.054111</td>\n",
       "    </tr>\n",
       "    <tr>\n",
       "      <th>1</th>\n",
       "      <td>Lasso</td>\n",
       "      <td>0.551057</td>\n",
       "      <td>0.537056</td>\n",
       "      <td>0.548978</td>\n",
       "      <td>0.053980</td>\n",
       "      <td>0.053982</td>\n",
       "      <td>0.054113</td>\n",
       "    </tr>\n",
       "    <tr>\n",
       "      <th>2</th>\n",
       "      <td>Ridge</td>\n",
       "      <td>0.551079</td>\n",
       "      <td>0.537153</td>\n",
       "      <td>0.548994</td>\n",
       "      <td>0.053979</td>\n",
       "      <td>0.053976</td>\n",
       "      <td>0.054111</td>\n",
       "    </tr>\n",
       "    <tr>\n",
       "      <th>3</th>\n",
       "      <td>K-Nearest Neighbor</td>\n",
       "      <td>0.912874</td>\n",
       "      <td>0.844068</td>\n",
       "      <td>0.828484</td>\n",
       "      <td>0.023780</td>\n",
       "      <td>0.031329</td>\n",
       "      <td>0.033376</td>\n",
       "    </tr>\n",
       "    <tr>\n",
       "      <th>4</th>\n",
       "      <td>Decision Tree</td>\n",
       "      <td>0.999996</td>\n",
       "      <td>0.927917</td>\n",
       "      <td>0.872176</td>\n",
       "      <td>0.000165</td>\n",
       "      <td>0.021301</td>\n",
       "      <td>0.029253</td>\n",
       "    </tr>\n",
       "    <tr>\n",
       "      <th>5</th>\n",
       "      <td>Bagged Tree</td>\n",
       "      <td>0.987282</td>\n",
       "      <td>0.932588</td>\n",
       "      <td>0.915005</td>\n",
       "      <td>0.009086</td>\n",
       "      <td>0.020599</td>\n",
       "      <td>0.024146</td>\n",
       "    </tr>\n",
       "    <tr>\n",
       "      <th>6</th>\n",
       "      <td>Random Forest</td>\n",
       "      <td>0.991610</td>\n",
       "      <td>0.940768</td>\n",
       "      <td>0.923486</td>\n",
       "      <td>0.007380</td>\n",
       "      <td>0.019309</td>\n",
       "      <td>0.022198</td>\n",
       "    </tr>\n",
       "    <tr>\n",
       "      <th>7</th>\n",
       "      <td>Adaptive Boosting</td>\n",
       "      <td>0.419833</td>\n",
       "      <td>0.418043</td>\n",
       "      <td>0.393954</td>\n",
       "      <td>0.061364</td>\n",
       "      <td>0.060524</td>\n",
       "      <td>0.062519</td>\n",
       "    </tr>\n",
       "    <tr>\n",
       "      <th>8</th>\n",
       "      <td>Support Vector</td>\n",
       "      <td>0.636011</td>\n",
       "      <td>0.596786</td>\n",
       "      <td>0.598631</td>\n",
       "      <td>0.048605</td>\n",
       "      <td>0.050379</td>\n",
       "      <td>0.051028</td>\n",
       "    </tr>\n",
       "    <tr>\n",
       "      <th>9</th>\n",
       "      <td>Gradient Boosting</td>\n",
       "      <td>0.781322</td>\n",
       "      <td>0.752032</td>\n",
       "      <td>0.758045</td>\n",
       "      <td>0.037674</td>\n",
       "      <td>0.039508</td>\n",
       "      <td>0.039625</td>\n",
       "    </tr>\n",
       "  </tbody>\n",
       "</table>\n",
       "</div>"
      ],
      "text/plain": [
       "                Model  R2 Train Set  R2 Test Set  R2 Cross-Val  \\\n",
       "0              Linear      0.551085     0.537027      0.549006   \n",
       "1               Lasso      0.551057     0.537056      0.548978   \n",
       "2               Ridge      0.551079     0.537153      0.548994   \n",
       "3  K-Nearest Neighbor      0.912874     0.844068      0.828484   \n",
       "4       Decision Tree      0.999996     0.927917      0.872176   \n",
       "5         Bagged Tree      0.987282     0.932588      0.915005   \n",
       "6       Random Forest      0.991610     0.940768      0.923486   \n",
       "7   Adaptive Boosting      0.419833     0.418043      0.393954   \n",
       "8      Support Vector      0.636011     0.596786      0.598631   \n",
       "9   Gradient Boosting      0.781322     0.752032      0.758045   \n",
       "\n",
       "   RMSE Train Set  RMSE Test Set  RMSE Cross-Val  \n",
       "0        0.053978       0.053983        0.054111  \n",
       "1        0.053980       0.053982        0.054113  \n",
       "2        0.053979       0.053976        0.054111  \n",
       "3        0.023780       0.031329        0.033376  \n",
       "4        0.000165       0.021301        0.029253  \n",
       "5        0.009086       0.020599        0.024146  \n",
       "6        0.007380       0.019309        0.022198  \n",
       "7        0.061364       0.060524        0.062519  \n",
       "8        0.048605       0.050379        0.051028  \n",
       "9        0.037674       0.039508        0.039625  "
      ]
     },
     "execution_count": 38,
     "metadata": {},
     "output_type": "execute_result"
    }
   ],
   "source": [
    "# Creating table of the results\n",
    "\n",
    "results = pd.DataFrame(data=[[\"Linear\", linear_train_r, linear_test_r, lr_cv_mean, linear_train_rmse, linear_test_rmse, lr_cv_rmse_mean],\n",
    "                                [\"Lasso\", lasso_train_r, lasso_test_r, lasso_cv_mean, lasso_train_rmse, lasso_test_rmse, lasso_cv_rmse_mean],\n",
    "                                [\"Ridge\", ridge_train_r, ridge_test_r, ridge_cv_mean, ridge_train_rmse, ridge_test_rmse, ridge_cv_rmse_mean],\n",
    "                                [\"K-Nearest Neighbor\", knn_train_r, knn_test_r, knn_cv_mean, knn_train_rmse, knn_test_rmse, knn_cv_rmse_mean],\n",
    "                                [\"Decision Tree\", decision_tree_train_r, decision_tree_test_r, decision_tree_cv_mean, decision_tree_train_rmse, decision_tree_test_rmse, decision_tree_cv_rmse_mean],\n",
    "                                [\"Bagged Tree\", bagged_train_r, bagged_test_r, bagged_cv_mean, bagged_train_rmse, bagged_test_rmse, bagged_cv_rmse_mean],\n",
    "                                [\"Random Forest\", random_forest_train_r, random_forest_test_r, random_forest_cv_mean, random_forest_train_rmse, random_forest_test_rmse, random_forest_cv_rmse_mean],\n",
    "                                [\"Adaptive Boosting\", adaboost_train_r, adaboost_test_r, adaboost_cv_mean, adaboost_train_rmse, adaboost_test_rmse, adaboost_cv_rmse_mean],\n",
    "                                [\"Support Vector\", support_vector_train_r, support_vector_test_r, support_vector_cv_mean, support_vector_train_rmse, support_vector_test_rmse, support_vector_cv_rmse_mean],\n",
    "                                [\"Gradient Boosting\", gradient_boost_train_r, gradient_boost_test_r, gradient_boost_cv_mean, gradient_boost_train_rmse, gradient_boost_test_rmse, gradient_boost_cv_rmse_mean]],\n",
    "                                columns=['Model', 'R2 Train Set','R2 Test Set', 'R2 Cross-Val', 'RMSE Train Set','RMSE Test Set', 'RMSE Cross-Val'])\n",
    "\n",
    "results"
   ]
  },
  {
   "cell_type": "markdown",
   "id": "c6094053",
   "metadata": {},
   "source": [
    "Based on the results, Random Forest has shown the highest R2 and lowest RMSE cross validation score. The training and testing scores are also more consistent compared to the other models. The next best models are bagged tree and decision tree, which we will ignore as they have a tendency to overfit. \n",
    "\n",
    "Next, we'll perform a GridSearch to tune the Random Forest model and hope to achieve better results."
   ]
  },
  {
   "cell_type": "markdown",
   "id": "b3bd1351",
   "metadata": {},
   "source": [
    "## Tuning"
   ]
  },
  {
   "cell_type": "markdown",
   "id": "a69f7ccb",
   "metadata": {},
   "source": [
    "GridSearch uses different combination of specified hyperparameters to calculate the performance of each combination, and then selecting the best value for the hyperparameters. This allows us to find the optimized values for our models so that we can maximize our prediction accuracy."
   ]
  },
  {
   "cell_type": "code",
   "execution_count": 39,
   "id": "e5e08710",
   "metadata": {},
   "outputs": [
    {
     "name": "stderr",
     "output_type": "stream",
     "text": [
      "[Parallel(n_jobs=-1)]: Using backend LokyBackend with 8 concurrent workers.\n",
      "[Parallel(n_jobs=-1)]: Done  25 tasks      | elapsed:    2.0s\n",
      "[Parallel(n_jobs=-1)]: Done 100 out of 100 | elapsed:    2.6s finished\n",
      "[Parallel(n_jobs=8)]: Using backend ThreadingBackend with 8 concurrent workers.\n",
      "[Parallel(n_jobs=8)]: Done  25 tasks      | elapsed:    0.0s\n",
      "[Parallel(n_jobs=8)]: Done 100 out of 100 | elapsed:    0.0s finished\n",
      "[Parallel(n_jobs=-1)]: Using backend LokyBackend with 8 concurrent workers.\n",
      "[Parallel(n_jobs=-1)]: Done  34 tasks      | elapsed:    0.4s\n",
      "[Parallel(n_jobs=-1)]: Done 100 out of 100 | elapsed:    0.9s finished\n",
      "[Parallel(n_jobs=8)]: Using backend ThreadingBackend with 8 concurrent workers.\n",
      "[Parallel(n_jobs=8)]: Done  25 tasks      | elapsed:    0.0s\n",
      "[Parallel(n_jobs=8)]: Done 100 out of 100 | elapsed:    0.0s finished\n",
      "[Parallel(n_jobs=-1)]: Using backend LokyBackend with 8 concurrent workers.\n",
      "[Parallel(n_jobs=-1)]: Done  34 tasks      | elapsed:    0.4s\n",
      "[Parallel(n_jobs=-1)]: Done 100 out of 100 | elapsed:    0.8s finished\n",
      "[Parallel(n_jobs=8)]: Using backend ThreadingBackend with 8 concurrent workers.\n",
      "[Parallel(n_jobs=8)]: Done  25 tasks      | elapsed:    0.0s\n",
      "[Parallel(n_jobs=8)]: Done 100 out of 100 | elapsed:    0.0s finished\n",
      "[Parallel(n_jobs=-1)]: Using backend LokyBackend with 8 concurrent workers.\n",
      "[Parallel(n_jobs=-1)]: Done  34 tasks      | elapsed:    0.4s\n",
      "[Parallel(n_jobs=-1)]: Done 100 out of 100 | elapsed:    0.8s finished\n",
      "[Parallel(n_jobs=8)]: Using backend ThreadingBackend with 8 concurrent workers.\n",
      "[Parallel(n_jobs=8)]: Done  25 tasks      | elapsed:    0.0s\n",
      "[Parallel(n_jobs=8)]: Done 100 out of 100 | elapsed:    0.0s finished\n",
      "[Parallel(n_jobs=-1)]: Using backend LokyBackend with 8 concurrent workers.\n",
      "[Parallel(n_jobs=-1)]: Done  34 tasks      | elapsed:    0.4s\n",
      "[Parallel(n_jobs=-1)]: Done 100 out of 100 | elapsed:    0.8s finished\n",
      "[Parallel(n_jobs=8)]: Using backend ThreadingBackend with 8 concurrent workers.\n",
      "[Parallel(n_jobs=8)]: Done  25 tasks      | elapsed:    0.0s\n",
      "[Parallel(n_jobs=8)]: Done 100 out of 100 | elapsed:    0.0s finished\n",
      "[Parallel(n_jobs=-1)]: Using backend LokyBackend with 8 concurrent workers.\n",
      "[Parallel(n_jobs=-1)]: Done  34 tasks      | elapsed:    0.4s\n",
      "[Parallel(n_jobs=-1)]: Done 200 out of 200 | elapsed:    1.6s finished\n",
      "[Parallel(n_jobs=8)]: Using backend ThreadingBackend with 8 concurrent workers.\n",
      "[Parallel(n_jobs=8)]: Done  25 tasks      | elapsed:    0.0s\n",
      "[Parallel(n_jobs=8)]: Done 146 tasks      | elapsed:    0.0s\n",
      "[Parallel(n_jobs=8)]: Done 200 out of 200 | elapsed:    0.0s finished\n",
      "[Parallel(n_jobs=-1)]: Using backend LokyBackend with 8 concurrent workers.\n",
      "[Parallel(n_jobs=-1)]: Done  34 tasks      | elapsed:    0.4s\n",
      "[Parallel(n_jobs=-1)]: Done 200 out of 200 | elapsed:    1.6s finished\n",
      "[Parallel(n_jobs=8)]: Using backend ThreadingBackend with 8 concurrent workers.\n",
      "[Parallel(n_jobs=8)]: Done  25 tasks      | elapsed:    0.0s\n",
      "[Parallel(n_jobs=8)]: Done 146 tasks      | elapsed:    0.0s\n",
      "[Parallel(n_jobs=8)]: Done 200 out of 200 | elapsed:    0.0s finished\n",
      "[Parallel(n_jobs=-1)]: Using backend LokyBackend with 8 concurrent workers.\n",
      "[Parallel(n_jobs=-1)]: Done  34 tasks      | elapsed:    0.4s\n",
      "[Parallel(n_jobs=-1)]: Done 200 out of 200 | elapsed:    1.6s finished\n",
      "[Parallel(n_jobs=8)]: Using backend ThreadingBackend with 8 concurrent workers.\n",
      "[Parallel(n_jobs=8)]: Done  25 tasks      | elapsed:    0.0s\n",
      "[Parallel(n_jobs=8)]: Done 146 tasks      | elapsed:    0.0s\n",
      "[Parallel(n_jobs=8)]: Done 200 out of 200 | elapsed:    0.0s finished\n",
      "[Parallel(n_jobs=-1)]: Using backend LokyBackend with 8 concurrent workers.\n",
      "[Parallel(n_jobs=-1)]: Done  34 tasks      | elapsed:    0.4s\n",
      "[Parallel(n_jobs=-1)]: Done 200 out of 200 | elapsed:    1.6s finished\n",
      "[Parallel(n_jobs=8)]: Using backend ThreadingBackend with 8 concurrent workers.\n",
      "[Parallel(n_jobs=8)]: Done  25 tasks      | elapsed:    0.0s\n",
      "[Parallel(n_jobs=8)]: Done 146 tasks      | elapsed:    0.0s\n",
      "[Parallel(n_jobs=8)]: Done 200 out of 200 | elapsed:    0.0s finished\n",
      "[Parallel(n_jobs=-1)]: Using backend LokyBackend with 8 concurrent workers.\n",
      "[Parallel(n_jobs=-1)]: Done  34 tasks      | elapsed:    0.4s\n",
      "[Parallel(n_jobs=-1)]: Done 200 out of 200 | elapsed:    1.7s finished\n",
      "[Parallel(n_jobs=8)]: Using backend ThreadingBackend with 8 concurrent workers.\n",
      "[Parallel(n_jobs=8)]: Done  25 tasks      | elapsed:    0.0s\n",
      "[Parallel(n_jobs=8)]: Done 146 tasks      | elapsed:    0.0s\n",
      "[Parallel(n_jobs=8)]: Done 200 out of 200 | elapsed:    0.0s finished\n",
      "[Parallel(n_jobs=-1)]: Using backend LokyBackend with 8 concurrent workers.\n",
      "[Parallel(n_jobs=-1)]: Done  25 tasks      | elapsed:    0.9s\n",
      "[Parallel(n_jobs=-1)]: Done 100 out of 100 | elapsed:    3.3s finished\n",
      "[Parallel(n_jobs=8)]: Using backend ThreadingBackend with 8 concurrent workers.\n",
      "[Parallel(n_jobs=8)]: Done  25 tasks      | elapsed:    0.0s\n",
      "[Parallel(n_jobs=8)]: Done 100 out of 100 | elapsed:    0.0s finished\n",
      "[Parallel(n_jobs=-1)]: Using backend LokyBackend with 8 concurrent workers.\n",
      "[Parallel(n_jobs=-1)]: Done  25 tasks      | elapsed:    1.0s\n",
      "[Parallel(n_jobs=-1)]: Done 100 out of 100 | elapsed:    3.3s finished\n",
      "[Parallel(n_jobs=8)]: Using backend ThreadingBackend with 8 concurrent workers.\n",
      "[Parallel(n_jobs=8)]: Done  25 tasks      | elapsed:    0.0s\n",
      "[Parallel(n_jobs=8)]: Done 100 out of 100 | elapsed:    0.0s finished\n",
      "[Parallel(n_jobs=-1)]: Using backend LokyBackend with 8 concurrent workers.\n",
      "[Parallel(n_jobs=-1)]: Done  25 tasks      | elapsed:    0.9s\n",
      "[Parallel(n_jobs=-1)]: Done 100 out of 100 | elapsed:    3.3s finished\n",
      "[Parallel(n_jobs=8)]: Using backend ThreadingBackend with 8 concurrent workers.\n",
      "[Parallel(n_jobs=8)]: Done  25 tasks      | elapsed:    0.0s\n",
      "[Parallel(n_jobs=8)]: Done 100 out of 100 | elapsed:    0.0s finished\n",
      "[Parallel(n_jobs=-1)]: Using backend LokyBackend with 8 concurrent workers.\n",
      "[Parallel(n_jobs=-1)]: Done  25 tasks      | elapsed:    1.0s\n",
      "[Parallel(n_jobs=-1)]: Done 100 out of 100 | elapsed:    3.4s finished\n",
      "[Parallel(n_jobs=8)]: Using backend ThreadingBackend with 8 concurrent workers.\n",
      "[Parallel(n_jobs=8)]: Done  25 tasks      | elapsed:    0.0s\n",
      "[Parallel(n_jobs=8)]: Done 100 out of 100 | elapsed:    0.0s finished\n",
      "[Parallel(n_jobs=-1)]: Using backend LokyBackend with 8 concurrent workers.\n",
      "[Parallel(n_jobs=-1)]: Done  25 tasks      | elapsed:    1.1s\n",
      "[Parallel(n_jobs=-1)]: Done 100 out of 100 | elapsed:    3.3s finished\n",
      "[Parallel(n_jobs=8)]: Using backend ThreadingBackend with 8 concurrent workers.\n",
      "[Parallel(n_jobs=8)]: Done  25 tasks      | elapsed:    0.0s\n",
      "[Parallel(n_jobs=8)]: Done 100 out of 100 | elapsed:    0.0s finished\n",
      "[Parallel(n_jobs=-1)]: Using backend LokyBackend with 8 concurrent workers.\n",
      "[Parallel(n_jobs=-1)]: Done  25 tasks      | elapsed:    1.0s\n",
      "[Parallel(n_jobs=-1)]: Done 146 tasks      | elapsed:    4.8s\n",
      "[Parallel(n_jobs=-1)]: Done 200 out of 200 | elapsed:    6.5s finished\n",
      "[Parallel(n_jobs=8)]: Using backend ThreadingBackend with 8 concurrent workers.\n",
      "[Parallel(n_jobs=8)]: Done  25 tasks      | elapsed:    0.0s\n",
      "[Parallel(n_jobs=8)]: Done 146 tasks      | elapsed:    0.0s\n",
      "[Parallel(n_jobs=8)]: Done 200 out of 200 | elapsed:    0.0s finished\n",
      "[Parallel(n_jobs=-1)]: Using backend LokyBackend with 8 concurrent workers.\n",
      "[Parallel(n_jobs=-1)]: Done  25 tasks      | elapsed:    1.0s\n",
      "[Parallel(n_jobs=-1)]: Done 146 tasks      | elapsed:    4.6s\n",
      "[Parallel(n_jobs=-1)]: Done 200 out of 200 | elapsed:    6.3s finished\n",
      "[Parallel(n_jobs=8)]: Using backend ThreadingBackend with 8 concurrent workers.\n",
      "[Parallel(n_jobs=8)]: Done  25 tasks      | elapsed:    0.0s\n",
      "[Parallel(n_jobs=8)]: Done 146 tasks      | elapsed:    0.0s\n",
      "[Parallel(n_jobs=8)]: Done 200 out of 200 | elapsed:    0.0s finished\n",
      "[Parallel(n_jobs=-1)]: Using backend LokyBackend with 8 concurrent workers.\n",
      "[Parallel(n_jobs=-1)]: Done  25 tasks      | elapsed:    1.0s\n",
      "[Parallel(n_jobs=-1)]: Done 146 tasks      | elapsed:    4.8s\n",
      "[Parallel(n_jobs=-1)]: Done 200 out of 200 | elapsed:    6.6s finished\n",
      "[Parallel(n_jobs=8)]: Using backend ThreadingBackend with 8 concurrent workers.\n",
      "[Parallel(n_jobs=8)]: Done  25 tasks      | elapsed:    0.0s\n",
      "[Parallel(n_jobs=8)]: Done 146 tasks      | elapsed:    0.0s\n",
      "[Parallel(n_jobs=8)]: Done 200 out of 200 | elapsed:    0.0s finished\n",
      "[Parallel(n_jobs=-1)]: Using backend LokyBackend with 8 concurrent workers.\n"
     ]
    },
    {
     "name": "stderr",
     "output_type": "stream",
     "text": [
      "[Parallel(n_jobs=-1)]: Done  25 tasks      | elapsed:    1.0s\n",
      "[Parallel(n_jobs=-1)]: Done 146 tasks      | elapsed:    5.0s\n",
      "[Parallel(n_jobs=-1)]: Done 200 out of 200 | elapsed:    6.7s finished\n",
      "[Parallel(n_jobs=8)]: Using backend ThreadingBackend with 8 concurrent workers.\n",
      "[Parallel(n_jobs=8)]: Done  25 tasks      | elapsed:    0.0s\n",
      "[Parallel(n_jobs=8)]: Done 146 tasks      | elapsed:    0.0s\n",
      "[Parallel(n_jobs=8)]: Done 200 out of 200 | elapsed:    0.0s finished\n",
      "[Parallel(n_jobs=-1)]: Using backend LokyBackend with 8 concurrent workers.\n",
      "[Parallel(n_jobs=-1)]: Done  25 tasks      | elapsed:    1.0s\n",
      "[Parallel(n_jobs=-1)]: Done 146 tasks      | elapsed:    5.3s\n",
      "[Parallel(n_jobs=-1)]: Done 200 out of 200 | elapsed:    7.0s finished\n",
      "[Parallel(n_jobs=8)]: Using backend ThreadingBackend with 8 concurrent workers.\n",
      "[Parallel(n_jobs=8)]: Done  25 tasks      | elapsed:    0.0s\n",
      "[Parallel(n_jobs=8)]: Done 146 tasks      | elapsed:    0.0s\n",
      "[Parallel(n_jobs=8)]: Done 200 out of 200 | elapsed:    0.0s finished\n",
      "[Parallel(n_jobs=-1)]: Using backend ThreadingBackend with 8 concurrent workers.\n"
     ]
    },
    {
     "name": "stdout",
     "output_type": "stream",
     "text": [
      "building tree 1 of 200\n",
      "building tree 2 of 200building tree 3 of 200\n",
      "\n",
      "building tree 4 of 200\n",
      "building tree 5 of 200building tree 6 of 200\n",
      "building tree 7 of 200\n",
      "\n",
      "building tree 8 of 200\n",
      "building tree 9 of 200\n",
      "building tree 10 of 200\n",
      "building tree 11 of 200\n",
      "building tree 12 of 200\n",
      "building tree 13 of 200\n",
      "building tree 14 of 200\n",
      "building tree 15 of 200\n",
      "building tree 16 of 200\n",
      "building tree 17 of 200\n",
      "building tree 18 of 200\n",
      "building tree 19 of 200\n",
      "building tree 20 of 200\n",
      "building tree 21 of 200\n",
      "building tree 22 of 200\n",
      "building tree 23 of 200\n",
      "building tree 24 of 200\n",
      "building tree 25 of 200\n",
      "building tree 26 of 200\n",
      "building tree 27 of 200\n",
      "building tree 28 of 200\n",
      "building tree 29 of 200\n",
      "building tree 30 of 200building tree 31 of 200\n",
      "\n",
      "building tree 32 of 200\n"
     ]
    },
    {
     "name": "stderr",
     "output_type": "stream",
     "text": [
      "[Parallel(n_jobs=-1)]: Done  25 tasks      | elapsed:    1.4s\n"
     ]
    },
    {
     "name": "stdout",
     "output_type": "stream",
     "text": [
      "building tree 33 of 200\n",
      "building tree 34 of 200\n",
      "building tree 35 of 200\n",
      "building tree 36 of 200\n",
      "building tree 37 of 200\n",
      "building tree 38 of 200\n",
      "building tree 39 of 200\n",
      "building tree 40 of 200\n",
      "building tree 41 of 200\n",
      "building tree 42 of 200\n",
      "building tree 43 of 200\n",
      "building tree 44 of 200\n",
      "building tree 45 of 200\n",
      "building tree 46 of 200\n",
      "building tree 47 of 200\n",
      "building tree 48 of 200\n",
      "building tree 49 of 200\n",
      "building tree 50 of 200\n",
      "building tree 51 of 200\n",
      "building tree 52 of 200\n",
      "building tree 53 of 200\n",
      "building tree 54 of 200building tree 55 of 200\n",
      "\n",
      "building tree 56 of 200\n",
      "building tree 57 of 200\n",
      "building tree 58 of 200\n",
      "building tree 59 of 200\n",
      "building tree 60 of 200\n",
      "building tree 61 of 200\n",
      "building tree 62 of 200\n",
      "building tree 63 of 200\n",
      "building tree 64 of 200\n",
      "building tree 65 of 200\n",
      "building tree 66 of 200\n",
      "building tree 67 of 200\n",
      "building tree 68 of 200\n",
      "building tree 69 of 200\n",
      "building tree 70 of 200\n",
      "building tree 71 of 200\n",
      "building tree 72 of 200\n",
      "building tree 73 of 200\n",
      "building tree 74 of 200\n",
      "building tree 75 of 200\n",
      "building tree 76 of 200\n",
      "building tree 77 of 200\n",
      "building tree 78 of 200\n",
      "building tree 79 of 200\n",
      "building tree 80 of 200\n",
      "building tree 81 of 200\n",
      "building tree 82 of 200\n",
      "building tree 83 of 200\n",
      "building tree 84 of 200\n",
      "building tree 85 of 200\n",
      "building tree 86 of 200\n",
      "building tree 87 of 200\n",
      "building tree 88 of 200\n",
      "building tree 89 of 200\n",
      "building tree 90 of 200\n",
      "building tree 91 of 200\n",
      "building tree 92 of 200\n",
      "building tree 93 of 200\n",
      "building tree 94 of 200building tree 95 of 200\n",
      "\n",
      "building tree 96 of 200\n",
      "building tree 97 of 200\n",
      "building tree 98 of 200\n",
      "building tree 99 of 200\n",
      "building tree 100 of 200\n",
      "building tree 101 of 200\n",
      "building tree 102 of 200\n",
      "building tree 103 of 200\n",
      "building tree 104 of 200\n",
      "building tree 105 of 200\n",
      "building tree 106 of 200\n",
      "building tree 107 of 200\n",
      "building tree 108 of 200\n",
      "building tree 109 of 200\n",
      "building tree 110 of 200\n",
      "building tree 111 of 200\n",
      "building tree 112 of 200\n",
      "building tree 113 of 200\n",
      "building tree 114 of 200\n",
      "building tree 115 of 200\n",
      "building tree 116 of 200\n",
      "building tree 117 of 200\n",
      "building tree 118 of 200building tree 119 of 200\n",
      "\n",
      "building tree 120 of 200\n",
      "building tree 121 of 200\n",
      "building tree 122 of 200\n",
      "building tree 123 of 200\n",
      "building tree 124 of 200\n",
      "building tree 125 of 200\n",
      "building tree 126 of 200\n",
      "building tree 127 of 200\n",
      "building tree 128 of 200\n",
      "building tree 129 of 200\n",
      "building tree 130 of 200\n",
      "building tree 131 of 200\n",
      "building tree 132 of 200\n",
      "building tree 133 of 200\n",
      "building tree 134 of 200\n",
      "building tree 135 of 200\n",
      "building tree 136 of 200\n",
      "building tree 137 of 200\n",
      "building tree 138 of 200\n",
      "building tree 139 of 200\n",
      "building tree 140 of 200\n",
      "building tree 141 of 200\n",
      "building tree 142 of 200\n",
      "building tree 143 of 200\n",
      "building tree 144 of 200\n",
      "building tree 145 of 200\n",
      "building tree 146 of 200\n",
      "building tree 147 of 200\n",
      "building tree 148 of 200\n",
      "building tree 149 of 200\n",
      "building tree 150 of 200\n",
      "building tree 151 of 200\n",
      "building tree 152 of 200\n",
      "building tree 153 of 200\n",
      "building tree 154 of 200\n"
     ]
    },
    {
     "name": "stderr",
     "output_type": "stream",
     "text": [
      "[Parallel(n_jobs=-1)]: Done 146 tasks      | elapsed:    6.2s\n"
     ]
    },
    {
     "name": "stdout",
     "output_type": "stream",
     "text": [
      "building tree 155 of 200\n",
      "building tree 156 of 200\n",
      "building tree 157 of 200\n",
      "building tree 158 of 200\n",
      "building tree 159 of 200\n",
      "building tree 160 of 200\n",
      "building tree 161 of 200\n",
      "building tree 162 of 200\n",
      "building tree 163 of 200\n",
      "building tree 164 of 200\n",
      "building tree 165 of 200\n",
      "building tree 166 of 200\n",
      "building tree 167 of 200\n",
      "building tree 168 of 200\n",
      "building tree 169 of 200\n",
      "building tree 170 of 200\n",
      "building tree 171 of 200\n",
      "building tree 172 of 200\n",
      "building tree 173 of 200\n",
      "building tree 174 of 200\n",
      "building tree 175 of 200\n",
      "building tree 176 of 200\n",
      "building tree 177 of 200\n",
      "building tree 178 of 200\n",
      "building tree 179 of 200\n",
      "building tree 180 of 200\n",
      "building tree 181 of 200\n",
      "building tree 182 of 200\n",
      "building tree 183 of 200\n",
      "building tree 184 of 200\n",
      "building tree 185 of 200\n",
      "building tree 186 of 200\n",
      "building tree 187 of 200\n",
      "building tree 188 of 200\n",
      "building tree 189 of 200\n",
      "building tree 190 of 200\n",
      "building tree 191 of 200\n",
      "building tree 192 of 200\n",
      "building tree 193 of 200\n",
      "building tree 194 of 200\n",
      "building tree 195 of 200\n",
      "building tree 196 of 200\n",
      "building tree 197 of 200\n",
      "building tree 198 of 200\n",
      "building tree 199 of 200\n",
      "building tree 200 of 200\n"
     ]
    },
    {
     "name": "stderr",
     "output_type": "stream",
     "text": [
      "[Parallel(n_jobs=-1)]: Done 200 out of 200 | elapsed:    8.4s finished\n"
     ]
    },
    {
     "data": {
      "text/plain": [
       "GridSearchCV(estimator=RandomForestRegressor(),\n",
       "             param_grid={'max_depth': [4, None], 'n_estimators': [100, 200],\n",
       "                         'n_jobs': [-1], 'verbose': [2]})"
      ]
     },
     "execution_count": 39,
     "metadata": {},
     "output_type": "execute_result"
    }
   ],
   "source": [
    "rf_params = {\n",
    "    'n_estimators': [100, 200],\n",
    "    'max_depth': [4, None],\n",
    "    'n_jobs': [-1],\n",
    "    'verbose': [2],\n",
    "}\n",
    "\n",
    "rf_tuned = GridSearchCV(random_forest, rf_params)\n",
    "rf_tuned.fit(X_train_sc, y_train)"
   ]
  },
  {
   "cell_type": "code",
   "execution_count": 40,
   "id": "666ac1dd",
   "metadata": {},
   "outputs": [
    {
     "data": {
      "text/plain": [
       "{'max_depth': None, 'n_estimators': 200, 'n_jobs': -1, 'verbose': 2}"
      ]
     },
     "execution_count": 40,
     "metadata": {},
     "output_type": "execute_result"
    }
   ],
   "source": [
    "rf_tuned.best_params_"
   ]
  },
  {
   "cell_type": "code",
   "execution_count": 41,
   "id": "81d0a4b5",
   "metadata": {},
   "outputs": [
    {
     "data": {
      "text/plain": [
       "0.924489754152497"
      ]
     },
     "execution_count": 41,
     "metadata": {},
     "output_type": "execute_result"
    }
   ],
   "source": [
    "rf_tuned.best_score_"
   ]
  },
  {
   "cell_type": "code",
   "execution_count": 42,
   "id": "8eb9c87c",
   "metadata": {},
   "outputs": [
    {
     "name": "stderr",
     "output_type": "stream",
     "text": [
      "[Parallel(n_jobs=8)]: Using backend ThreadingBackend with 8 concurrent workers.\n",
      "[Parallel(n_jobs=8)]: Done  25 tasks      | elapsed:    0.0s\n",
      "[Parallel(n_jobs=8)]: Done 146 tasks      | elapsed:    0.1s\n",
      "[Parallel(n_jobs=8)]: Done 200 out of 200 | elapsed:    0.1s finished\n",
      "[Parallel(n_jobs=8)]: Using backend ThreadingBackend with 8 concurrent workers.\n",
      "[Parallel(n_jobs=8)]: Done  25 tasks      | elapsed:    0.0s\n",
      "[Parallel(n_jobs=8)]: Done 146 tasks      | elapsed:    0.0s\n"
     ]
    },
    {
     "name": "stdout",
     "output_type": "stream",
     "text": [
      "Random Forest Post-Tuning:\n",
      "\n",
      "R2 for training dataset: 0.9920231360917661\n",
      "R2 validation dataset: 0.9426661250040447\n",
      "\n"
     ]
    },
    {
     "name": "stderr",
     "output_type": "stream",
     "text": [
      "[Parallel(n_jobs=8)]: Done 200 out of 200 | elapsed:    0.1s finished\n",
      "[Parallel(n_jobs=8)]: Using backend ThreadingBackend with 8 concurrent workers.\n"
     ]
    },
    {
     "name": "stdout",
     "output_type": "stream",
     "text": [
      "RMSE for training dataset: 0.00719538941736098\n",
      "RMSE for validation dataset: 0.018997122762955437\n"
     ]
    },
    {
     "name": "stderr",
     "output_type": "stream",
     "text": [
      "[Parallel(n_jobs=8)]: Done  25 tasks      | elapsed:    0.0s\n",
      "[Parallel(n_jobs=8)]: Done 146 tasks      | elapsed:    0.1s\n",
      "[Parallel(n_jobs=8)]: Done 200 out of 200 | elapsed:    0.1s finished\n",
      "[Parallel(n_jobs=8)]: Using backend ThreadingBackend with 8 concurrent workers.\n",
      "[Parallel(n_jobs=8)]: Done  25 tasks      | elapsed:    0.0s\n",
      "[Parallel(n_jobs=8)]: Done 146 tasks      | elapsed:    0.0s\n",
      "[Parallel(n_jobs=8)]: Done 200 out of 200 | elapsed:    0.1s finished\n"
     ]
    }
   ],
   "source": [
    "print(\"Random Forest Post-Tuning:\")\n",
    "print()\n",
    "rf_tuned_train_r = rf_tuned.score(X_train_sc,y_train)\n",
    "print(f\"R2 for training dataset: {rf_tuned_train_r}\")\n",
    "rf_tuned_test_r = rf_tuned.score(X_test_sc,y_test)\n",
    "print(f\"R2 validation dataset: {rf_tuned_test_r}\")\n",
    "\n",
    "print()\n",
    "rf_tuned_train_rmse = np.sqrt(mean_squared_error(y_train, rf_tuned.predict(X_train_sc)))\n",
    "print(f\"RMSE for training dataset: {rf_tuned_train_rmse}\")\n",
    "rf_tuned_test_rmse = np.sqrt(mean_squared_error(y_test, rf_tuned.predict(X_test_sc)))\n",
    "print(f\"RMSE for validation dataset: {rf_tuned_test_rmse}\")\n"
   ]
  },
  {
   "cell_type": "markdown",
   "id": "be23ea82",
   "metadata": {},
   "source": [
    "Based on the tuned model, we can see that all of the scores across the board has improved! The R2 is higher and the RMSE values are much lower too. \n",
    "\n",
    "So let's take a look at the prediction accuracy:"
   ]
  },
  {
   "cell_type": "code",
   "execution_count": 43,
   "id": "e78d14db",
   "metadata": {},
   "outputs": [
    {
     "name": "stderr",
     "output_type": "stream",
     "text": [
      "[Parallel(n_jobs=8)]: Using backend ThreadingBackend with 8 concurrent workers.\n",
      "[Parallel(n_jobs=8)]: Done  25 tasks      | elapsed:    0.0s\n",
      "[Parallel(n_jobs=8)]: Done 146 tasks      | elapsed:    0.0s\n",
      "[Parallel(n_jobs=8)]: Done 200 out of 200 | elapsed:    0.1s finished\n"
     ]
    },
    {
     "data": {
      "image/png": "[encoded data removed]",
      "text/plain": [
       "<Figure size 720x576 with 1 Axes>"
      ]
     },
     "metadata": {
      "needs_background": "light"
     },
     "output_type": "display_data"
    }
   ],
   "source": [
    "rf_preds = rf_tuned.predict(X_test_sc)\n",
    "\n",
    "plt.figure(figsize=(10,8))\n",
    "sns.regplot(data=X_train_sc, x=rf_preds, y=y_test, line_kws={'color':'red'})\n",
    "plt.xlabel('Predicted YTD Returns', fontsize=14)\n",
    "plt.ylabel('Actual YTD Returns', fontsize=14)\n",
    "plt.title('Mutual Fund Predictions of YTD Returns vs Actual YTD Returns', fontsize=22)\n",
    "plt.show()"
   ]
  },
  {
   "cell_type": "markdown",
   "id": "5219f012",
   "metadata": {},
   "source": [
    "The predictions are quite close to the actual YTD returns, with only a few data points that are more spread out."
   ]
  },
  {
   "cell_type": "markdown",
   "id": "46e8b268",
   "metadata": {},
   "source": [
    "## Feature Importance\n",
    "\n",
    "Using the tuned model, we've identified the most important features in the prediction model:"
   ]
  },
  {
   "cell_type": "code",
   "execution_count": 44,
   "id": "d96b8e7d",
   "metadata": {},
   "outputs": [
    {
     "name": "stdout",
     "output_type": "stream",
     "text": [
      " 1) asset_stocks                   0.409728\n",
      " 2) fund_alpha_3years              0.055323\n",
      " 3) investment_type_Growth         0.049267\n",
      " 4) fund_sector_industrials        0.044273\n",
      " 5) fund_sector_energy             0.043555\n",
      " 6) fund_sector_real_estate        0.035926\n",
      " 7) fund_sector_technology         0.028997\n",
      " 8) fund_sector_healthcare         0.028168\n",
      " 9) fund_sector_financial_services 0.026466\n",
      "10) fund_sector_consumer_cyclical  0.025743\n",
      "11) fund_price_earning_ratio       0.024454\n",
      "12) investment_type_Value          0.023363\n",
      "13) fund_sector_basic_materials    0.022299\n",
      "14) fund_sector_communication_services 0.020607\n",
      "15) fund_sector_consumer_defensive 0.018280\n",
      "16) annual_holdings_turnover       0.017384\n",
      "17) asset_cash                     0.014454\n",
      "18) fund_yield                     0.013352\n",
      "19) year_to_date_return            0.012711\n",
      "20) fund_sector_utilities          0.012173\n",
      "21) morningstar_risk_rating        0.011336\n",
      "22) last_dividend                  0.009955\n",
      "23) asset_bonds                    0.008739\n",
      "24) fund_bonds_aaa                 0.006201\n",
      "25) fund_annual_report_net_expense_ratio 0.005616\n",
      "26) morningstar_overall_rating     0.004818\n",
      "27) size_type_Medium               0.004663\n",
      "28) investment_type_Blend          0.004299\n",
      "29) esg_score                      0.003828\n",
      "30) fund_bond_duration             0.003384\n",
      "31) fund_bonds_bbb                 0.002125\n",
      "32) size_type_Large                0.001534\n",
      "33) fund_bond_maturity             0.001457\n",
      "34) fund_bonds_b                   0.001266\n",
      "35) fund_bonds_aa                  0.001195\n",
      "36) fund_bonds_a                   0.001136\n",
      "37) fund_bonds_bb                  0.001087\n",
      "38) fund_bonds_below_b             0.000836\n"
     ]
    }
   ],
   "source": [
    "feature = rf_tuned.best_estimator_.feature_importances_\n",
    "sorted_indices = np.argsort(feature)[::-1]\n",
    " \n",
    "feature_labels = mutual_fund.columns[1:]\n",
    " \n",
    "for f in range(X_train.shape[1]):\n",
    "    print(\"%2d) %-*s %f\" % (f + 1, 30,\n",
    "                            feature_labels[sorted_indices[f]],\n",
    "                            feature[sorted_indices[f]]))"
   ]
  },
  {
   "cell_type": "code",
   "execution_count": 45,
   "id": "436feb96",
   "metadata": {
    "scrolled": false
   },
   "outputs": [
    {
     "data": {
      "image/png": "[encoded data removed]",
      "text/plain": [
       "<Figure size 1152x576 with 1 Axes>"
      ]
     },
     "metadata": {
      "needs_background": "light"
     },
     "output_type": "display_data"
    }
   ],
   "source": [
    "plt.figure(figsize=(16,8))\n",
    "plt.title('Mutual Fund Prediction on YTD Returns: Feature Importance', size=20)\n",
    "plt.bar(range(X_train.shape[1]), feature[sorted_indices], align='center', color='#2c5a94')\n",
    "plt.xticks(range(X_train.shape[1]), X_train.columns[sorted_indices], rotation=90)\n",
    "plt.tight_layout()\n",
    "plt.show()"
   ]
  },
  {
   "cell_type": "markdown",
   "id": "d4612f81",
   "metadata": {},
   "source": [
    "**Top 10 features**: stocks asset breakdown, ESG score, Investment type (Value), fund sectors (industrials, energy, real estate, technology, healthcare, financial services, consumer cyclical)\n",
    "\n",
    "While the model accuracy has improved, it appears that most of the top features are the fund sectors - which may not give us a very good idea of the influence from other features.\n"
   ]
  }
 ],
 "metadata": {
  "kernelspec": {
   "display_name": "Python 3",
   "language": "python",
   "name": "python3"
  },
  "language_info": {
   "codemirror_mode": {
    "name": "ipython",
    "version": 3
   },
   "file_extension": ".py",
   "mimetype": "text/x-python",
   "name": "python",
   "nbconvert_exporter": "python",
   "pygments_lexer": "ipython3",
   "version": "3.8.8"
  },
  "toc": {
   "base_numbering": 1,
   "nav_menu": {},
   "number_sections": true,
   "sideBar": true,
   "skip_h1_title": true,
   "title_cell": "Table of Contents",
   "title_sidebar": "Contents",
   "toc_cell": false,
   "toc_position": {},
   "toc_section_display": true,
   "toc_window_display": true
  }
 },
 "nbformat": 4,
 "nbformat_minor": 5
}
