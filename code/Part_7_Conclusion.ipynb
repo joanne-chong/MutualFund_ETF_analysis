{
 "cells": [
  {
   "cell_type": "markdown",
   "id": "488f2f23",
   "metadata": {},
   "source": [
    "# Mutual Fund & ETFs Analysis\n",
    "---"
   ]
  },
  {
   "cell_type": "markdown",
   "id": "2621416e",
   "metadata": {},
   "source": [
    "# Part 7 - Evaluation & Conclusion"
   ]
  },
  {
   "cell_type": "markdown",
   "id": "13733b1e",
   "metadata": {},
   "source": [
    "## Content\n",
    "\n",
    "1. [Evaluation](#Evaluation)\n",
    "2. [Conclusion](#Conclusion)\n",
    "3. [Limitations](#Limitations)\n",
    "4. [Recommendations](#Recommendations)"
   ]
  },
  {
   "cell_type": "markdown",
   "id": "50a6e6df",
   "metadata": {},
   "source": [
    "## Links to Other Notebooks\n",
    "\n",
    "- [Part 1: Data Cleaning](Part_1_Cleaning.ipynb)\n",
    "- [Part 2: Exploratory Data Analysis](Part_2_EDA.ipynb)\n",
    "- [Part 3: Modeling: Mutual Fund v1](Part_3_Modeling_MF_v1.ipynb) - Mutual Fund Prediction of fund returns\n",
    "- [Part 4: Modeling: Mutual Fund v2](Part_4_Modeling_MF_v2.ipynb) - Mutual Fund Prediction of alpha\n",
    "- [Part 5: Modeling: ETFs v1](Part_5_Modeling_ETF_v1.ipynb) - ETF Prediction of fund returns\n",
    "- [Part 6: Modeling: ETFs v2](Part_6_Modeling_ETF_v2.ipynb) - ETF Prediction of alpha"
   ]
  },
  {
   "cell_type": "markdown",
   "id": "f841728c",
   "metadata": {},
   "source": [
    "## Evaluation"
   ]
  },
  {
   "cell_type": "markdown",
   "id": "f5b9fd0c",
   "metadata": {},
   "source": [
    "|                                           \t| **Best score** \t| **R2  Train** \t| **R2 Test** \t| **RMSE Train** \t| **RMSE Test** \t|\n",
    "|-------------------------------------------\t|:--------------:\t|:-------------:\t|:-----------:\t|:--------------:\t|:-------------:\t|\n",
    "| **Mutual fund prediction of YTD returns** \t|     0.9246     \t|     0.9919    \t|    0.9410   \t|     0.0072     \t|     0.0193    \t|\n",
    "| **Mutual fund prediction of alpha**       \t|     0.9290     \t|     0.9921    \t|    0.9294   \t|     0.4438     \t|     1.3637    \t|\n",
    "| **ETF prediction of YTD returns**         \t|     0.2315     \t|     0.5287    \t|    0.1998   \t|     0.0814     \t|     0.1341    \t|\n",
    "| **ETF prediction of alpha**               \t|     0.2685     \t|     0.5661    \t|    0.1871   \t|     3.6966     \t|     6.029     \t|"
   ]
  },
  {
   "cell_type": "markdown",
   "id": "7a8a7eab",
   "metadata": {},
   "source": [
    "Overall, alpha predictions achieved the best scores and improved results. We would recommend using it as a target variable to predict. \n",
    "\n",
    "However, we do note that the ETF predictions fall significantly short compared to mutual funds due to the lack of quality dataset.\n",
    "\n",
    "The best parameters for:\n",
    "- Mutual fund prediction of alpha:-\n",
    "    - `n_estimators`: 200\n",
    "    - `max_depth`: None\n",
    "- ETF prediction of alpha:-\n",
    "    - `n_estimators`: 150\n",
    "    - `max_depth`: 4   \n",
    "    \n",
    "`n_estimators` represent the number of trees in the Random Forest model. As we can see that the mutual fund prediction has a higher value because of the volume of data.\n",
    "\n",
    "`max_depth` represents the depth of each tree in the forest, to capture information about the data. The mutual fund prediction didn't require any parameters for this as the volume of data was sufficient to learn from, meanwhile the ETF prediction needed more depth to be able to learn from the dataset."
   ]
  },
  {
   "cell_type": "markdown",
   "id": "467fe06d",
   "metadata": {},
   "source": [
    "## Conclusion"
   ]
  },
  {
   "cell_type": "markdown",
   "id": "8cc6bc29",
   "metadata": {},
   "source": [
    "Overall, we were able to create a model to generate near-accurate prediction for mutual funds - making it the better investment option solely based on prediction accuracy. \n",
    "\n",
    "The 10 most important features that would impact the accuracy of the model: \n",
    "1. Investment type (Growth)\n",
    "2. Morningstar overall rating\n",
    "3. Stocks asset breakdown\n",
    "4. ESG score\n",
    "5. Fund sector (Energy)\n",
    "6. Fund sector (Industrials)\n",
    "7. Size fund (Large)\n",
    "8. Size fund (Small)\n",
    "9. Morningstar risk rating\n",
    "10. Fund sector (Technology)\n",
    "\n",
    "However, this does not mean that ETF is not a worthy investment alternative. As we saw from the EDA section that ETFs have been able to keep up with market and cost investors a lot less, enabling them to earn more for less. Furthermore, ETFs have been gaining traction over the years and will continue to stay. "
   ]
  },
  {
   "cell_type": "markdown",
   "id": "abf08bf4",
   "metadata": {},
   "source": [
    "## Limitations"
   ]
  },
  {
   "cell_type": "markdown",
   "id": "ef662f53",
   "metadata": {},
   "source": [
    "1. The lack of quality ETF dataset has certainly impacted our EDA and modeling section. Fortunately, as ETF gains more traction, there will be more effort to keep record of the data and eventually create a better prediction model. \n",
    "2. Prediction model in practice - unfortunately the market changes too fast for prediction models to be put to work effectively. Many studies and fund managers have attempted to predict performance, but the actual market performance often vary greatly and this remains an ongoing quest.\n",
    "3. Since the key to the success of mutual funds and ETFs is based on how the portfolio changes, we should ideally look at the performance before and after that change within the same fund. This way we'll be able to tell which of the changes had a bigger impact on performance. "
   ]
  },
  {
   "cell_type": "markdown",
   "id": "4b1325d7",
   "metadata": {},
   "source": [
    "## Recommendations"
   ]
  },
  {
   "cell_type": "markdown",
   "id": "8aed8993",
   "metadata": {},
   "source": [
    "Through our findings and model, fund managers and investors will be able to look for ways to maximize their returns.\n",
    "- For fund managers:\n",
    "    - Re-look at both current active and passive funds and ensure that the shortlisted features are optimized\n",
    "    - For active mutual funds that have been doing well consistently with minimal effort, consider converting them to index funds\n",
    "    - Create new active mutual funds using this model and also focus on bringing the added-value to investors, for example, share information on coveted stocks that are not widely available to the public\n",
    "    - Collect more data on mutual funds and ETF to improve prediction accuracy\n",
    "    - Put on different hats from a market expert to financial advisor, while keeping the investor's priority in mind, by adapting the counsel to client on the best investment option for their needs\n",
    "- For investors:\n",
    "    - Using the shortlisted features, re-look at current portfolio to ensure that these features are optimized to meet investment objectives\n",
    "    - Prioritize investment goals and diversify accordingly, e.g. engage a fund manager if the goal is to outperform market and willingly take risks\n",
    "    - Keep up with new products and regulatory changes in this space as well, to make informed decisions about investment"
   ]
  }
 ],
 "metadata": {
  "kernelspec": {
   "display_name": "Python 3",
   "language": "python",
   "name": "python3"
  },
  "language_info": {
   "codemirror_mode": {
    "name": "ipython",
    "version": 3
   },
   "file_extension": ".py",
   "mimetype": "text/x-python",
   "name": "python",
   "nbconvert_exporter": "python",
   "pygments_lexer": "ipython3",
   "version": "3.8.8"
  },
  "toc": {
   "base_numbering": 1,
   "nav_menu": {},
   "number_sections": true,
   "sideBar": true,
   "skip_h1_title": true,
   "title_cell": "Table of Contents",
   "title_sidebar": "Contents",
   "toc_cell": false,
   "toc_position": {},
   "toc_section_display": true,
   "toc_window_display": false
  }
 },
 "nbformat": 4,
 "nbformat_minor": 5
}
